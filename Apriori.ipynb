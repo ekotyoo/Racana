{
 "cells": [
  {
   "cell_type": "code",
   "execution_count": 1,
   "metadata": {},
   "outputs": [],
   "source": [
    "import pandas as pd\n",
    "import numpy as np\n",
    "import seaborn as sns\n",
    "import matplotlib.pyplot as plt\n",
    "import tensorflow as tf\n",
    "from tensorflow import keras\n",
    "from tensorflow.keras import layers\n",
    "\n",
    "import numpy as np\n",
    "import pandas as pd \n",
    "import matplotlib.pyplot as plt\n",
    "import surprise as sp \n",
    "import tensorflow as tf\n",
    "\n",
    "from tensorflow import keras\n",
    "from collections import deque\n",
    "from surprise.model_selection import cross_validate\n",
    "from keras.layers import Input, Embedding, Reshape, Dot, Concatenate, Dense, Dropout\n",
    "from keras.models import Model\n",
    "from sklearn.metrics import mean_squared_error"
   ]
  },
  {
   "cell_type": "markdown",
   "metadata": {},
   "source": [
    "Rekomendasi Menggunakan Arpiori"
   ]
  },
  {
   "cell_type": "code",
   "execution_count": 2,
   "metadata": {},
   "outputs": [],
   "source": [
    "df = pd.read_csv(\"Dataset - Combination.csv\")\n",
    "# df = df.drop(['Package','City'],axis=1)"
   ]
  },
  {
   "cell_type": "code",
   "execution_count": 3,
   "metadata": {},
   "outputs": [],
   "source": [
    "transacts = []\n",
    "# populating a list of transactions\n",
    "for i in range(0, 7501): \n",
    "  transacts.append([str(df.values[i,j]) for j in range(0, 8)])"
   ]
  },
  {
   "cell_type": "code",
   "execution_count": 15,
   "metadata": {},
   "outputs": [],
   "source": [
    "from apyori import apriori\n",
    "import pickle\n",
    "model = apriori(transactions = transacts, min_support = 0.003, min_confidence = 0.002, min_lift = 0.003, min_length = 2, max_length = 3)\n",
    "output = list(model)\n"
   ]
  },
  {
   "cell_type": "code",
   "execution_count": 18,
   "metadata": {},
   "outputs": [],
   "source": [
    "# saved_model = pickle.dumps(output)\n",
    "pickle.dump(output, open(\"apriori.pkl\", \"wb\"))"
   ]
  },
  {
   "cell_type": "code",
   "execution_count": 5,
   "metadata": {},
   "outputs": [
    {
     "data": {
      "text/html": [
       "<div>\n",
       "<style scoped>\n",
       "    .dataframe tbody tr th:only-of-type {\n",
       "        vertical-align: middle;\n",
       "    }\n",
       "\n",
       "    .dataframe tbody tr th {\n",
       "        vertical-align: top;\n",
       "    }\n",
       "\n",
       "    .dataframe thead th {\n",
       "        text-align: right;\n",
       "    }\n",
       "</style>\n",
       "<table border=\"1\" class=\"dataframe\">\n",
       "  <thead>\n",
       "    <tr style=\"text-align: right;\">\n",
       "      <th></th>\n",
       "      <th>Rule</th>\n",
       "    </tr>\n",
       "  </thead>\n",
       "  <tbody>\n",
       "    <tr>\n",
       "      <th>0</th>\n",
       "      <td>['Agrowisata Satria'] -&gt; ['Air Terjun Aling-Aling']</td>\n",
       "    </tr>\n",
       "    <tr>\n",
       "      <th>1</th>\n",
       "      <td>['Air Terjun Aling-Aling'] -&gt; ['Agrowisata Satria']</td>\n",
       "    </tr>\n",
       "    <tr>\n",
       "      <th>2</th>\n",
       "      <td>['Agrowisata Satria'] -&gt; ['Air Terjun Tegenungan']</td>\n",
       "    </tr>\n",
       "    <tr>\n",
       "      <th>3</th>\n",
       "      <td>['Air Terjun Tegenungan'] -&gt; ['Agrowisata Satria']</td>\n",
       "    </tr>\n",
       "    <tr>\n",
       "      <th>4</th>\n",
       "      <td>['Agrowisata Satria'] -&gt; ['Bali Swing']</td>\n",
       "    </tr>\n",
       "    <tr>\n",
       "      <th>...</th>\n",
       "      <td>...</td>\n",
       "    </tr>\n",
       "    <tr>\n",
       "      <th>9593</th>\n",
       "      <td>['Wisata Agro Alas Harum'] -&gt; ['Tirta Gangga', 'nan']</td>\n",
       "    </tr>\n",
       "    <tr>\n",
       "      <th>9594</th>\n",
       "      <td>['nan'] -&gt; ['Tirta Gangga', 'Wisata Agro Alas Harum']</td>\n",
       "    </tr>\n",
       "    <tr>\n",
       "      <th>9595</th>\n",
       "      <td>['Tirta Gangga', 'Wisata Agro Alas Harum'] -&gt; ['nan']</td>\n",
       "    </tr>\n",
       "    <tr>\n",
       "      <th>9596</th>\n",
       "      <td>['Tirta Gangga', 'nan'] -&gt; ['Wisata Agro Alas Harum']</td>\n",
       "    </tr>\n",
       "    <tr>\n",
       "      <th>9597</th>\n",
       "      <td>['Wisata Agro Alas Harum', 'nan'] -&gt; ['Tirta Gangga']</td>\n",
       "    </tr>\n",
       "  </tbody>\n",
       "</table>\n",
       "<p>9598 rows × 1 columns</p>\n",
       "</div>"
      ],
      "text/plain": [
       "                                                       Rule\n",
       "0       ['Agrowisata Satria'] -> ['Air Terjun Aling-Aling']\n",
       "1       ['Air Terjun Aling-Aling'] -> ['Agrowisata Satria']\n",
       "2        ['Agrowisata Satria'] -> ['Air Terjun Tegenungan']\n",
       "3        ['Air Terjun Tegenungan'] -> ['Agrowisata Satria']\n",
       "4                   ['Agrowisata Satria'] -> ['Bali Swing']\n",
       "...                                                     ...\n",
       "9593  ['Wisata Agro Alas Harum'] -> ['Tirta Gangga', 'nan']\n",
       "9594  ['nan'] -> ['Tirta Gangga', 'Wisata Agro Alas Harum']\n",
       "9595  ['Tirta Gangga', 'Wisata Agro Alas Harum'] -> ['nan']\n",
       "9596  ['Tirta Gangga', 'nan'] -> ['Wisata Agro Alas Harum']\n",
       "9597  ['Wisata Agro Alas Harum', 'nan'] -> ['Tirta Gangga']\n",
       "\n",
       "[9598 rows x 1 columns]"
      ]
     },
     "execution_count": 5,
     "metadata": {},
     "output_type": "execute_result"
    }
   ],
   "source": [
    "pd.set_option('max_colwidth', 1000)\n",
    "Result=pd.DataFrame(columns=['Rule'])\n",
    "for item in output:\n",
    "    pair = item[2]\n",
    "    for i in pair:\n",
    "        items = str([x for x in i[0]])\n",
    "        if i[3]!=1:\n",
    "            Result=Result.append({\n",
    "                'Rule':str([x for x in i[0]])+ \" -> \" +str([x for x in i[1]])\n",
    "                },ignore_index=True)\n",
    "Result"
   ]
  },
  {
   "cell_type": "code",
   "execution_count": 12,
   "metadata": {},
   "outputs": [],
   "source": [
    "import re\n",
    "def find(item):\n",
    "    out = []\n",
    "    for x in range(len(Result)):\n",
    "        if item in Result[\"Rule\"].iloc[x]:\n",
    "            out.append(re.sub('[^\\w]', \" \", Result[\"Rule\"].iloc[x]).replace(item, \"\").strip())\n",
    "    for x in range(len(out)): #doubles\n",
    "        if out[x] != \"\":\n",
    "            return out[x]\n",
    "def find2(item1, item2):\n",
    "    out = []\n",
    "    for x in range(len(Result)):\n",
    "        if item2 in Result[\"Rule\"].iloc[x]:\n",
    "            out.append(re.sub('[^\\w]', \" \", Result[\"Rule\"].iloc[x]).replace(item1, \"\").replace(item2, \"\").strip())\n",
    "    for x in range(len(out)): #doubles\n",
    "        if out[x] != \"\":\n",
    "            return out[x]"
   ]
  },
  {
   "cell_type": "code",
   "execution_count": null,
   "metadata": {},
   "outputs": [
    {
     "data": {
      "text/plain": [
       "'Bali Bird Park'"
      ]
     },
     "execution_count": 87,
     "metadata": {},
     "output_type": "execute_result"
    }
   ],
   "source": [
    "find(\"Pura Uluwatu\")\n",
    "find2(\"Pura Uluwatu\", \"Agung Bali\")"
   ]
  },
  {
   "cell_type": "code",
   "execution_count": 13,
   "metadata": {},
   "outputs": [
    {
     "name": "stdout",
     "output_type": "stream",
     "text": [
      "Silahkan Pilih Destinasi Anda\n",
      "Biasanya Setelah pergi ke Agrowisata Satria dan Air Terjun Aling Aling kami merekomendasikan ke None, apakah anda tertarik ?\n"
     ]
    }
   ],
   "source": [
    "print(\"Silahkan Pilih Destinasi Anda\")\n",
    "item = input(\"Pilih tempat Pilihan anda\")\n",
    "data1 = find(item)\n",
    "tanya1 = input(f\"Biasanya Setelah pergi ke {item} kami merekomendasikan ke {data1}, apakah anda tertarik ?\")\n",
    "if tanya1 == \"yes\" : \n",
    "     data2 = find2(item, data1)\n",
    "     print(f\"Biasanya Setelah pergi ke {item} dan {data1} kami merekomendasikan ke {data2}, apakah anda tertarik ?\")\n",
    "elif tanya1 == \"lokasi lain\" :\n",
    "     item2 = input(\"Pilih tempat Pilihan anda\")\n",
    "     data3 = find2(item, item2)\n",
    "     print(f\"Biasanya Setelah pergi ke {item} dan {data1} kami merekomendasikan ke {data3}, apakah anda tertarik ?\")\n",
    "else :\n",
    "    print(f\"Destinasi {item} Telah ditambahkan ke plan anda\")"
   ]
  }
 ],
 "metadata": {
  "interpreter": {
   "hash": "82ed002fa2d4956f5c6aec99bcefe0f73a9f79882f3c9e2319b14958a5896ac5"
  },
  "kernelspec": {
   "display_name": "Python 3.9.5 64-bit",
   "language": "python",
   "name": "python3"
  },
  "language_info": {
   "codemirror_mode": {
    "name": "ipython",
    "version": 3
   },
   "file_extension": ".py",
   "mimetype": "text/x-python",
   "name": "python",
   "nbconvert_exporter": "python",
   "pygments_lexer": "ipython3",
   "version": "3.9.5"
  },
  "orig_nbformat": 4
 },
 "nbformat": 4,
 "nbformat_minor": 2
}
