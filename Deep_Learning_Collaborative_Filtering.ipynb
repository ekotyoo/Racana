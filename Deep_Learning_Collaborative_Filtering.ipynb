{
  "cells": [
    {
      "cell_type": "markdown",
      "metadata": {
        "id": "view-in-github",
        "colab_type": "text"
      },
      "source": [
        "<a href=\"https://colab.research.google.com/github/ekotyoo/Racana/blob/racana-ml/Deep_Learning_Collaborative_Filtering.ipynb\" target=\"_parent\"><img src=\"https://colab.research.google.com/assets/colab-badge.svg\" alt=\"Open In Colab\"/></a>"
      ]
    },
    {
      "cell_type": "code",
      "execution_count": 1,
      "metadata": {
        "id": "bH9YiybYKQGt"
      },
      "outputs": [],
      "source": [
        "import numpy as np\n",
        "import pandas as pd \n",
        "import matplotlib.pyplot as plt\n",
        "import tensorflow as tf\n",
        "import pickle\n",
        "\n",
        "\n",
        "from tensorflow import keras\n",
        "from collections import deque\n",
        "from keras.layers import Input, Embedding, Reshape, Dot, Concatenate, Dense, Flatten\n",
        "from keras.models import Model\n",
        "from pydrive.auth import GoogleAuth\n",
        "from pydrive.drive import GoogleDrive\n",
        "from google.colab import auth\n",
        "from oauth2client.client import GoogleCredentials\n",
        "from sklearn.metrics import mean_squared_error\n",
        "\n"
      ]
    },
    {
      "cell_type": "code",
      "execution_count": 2,
      "metadata": {
        "id": "_S_H03Utmp6P"
      },
      "outputs": [],
      "source": [
        "from pydrive.auth import GoogleAuth\n",
        "from pydrive.drive import GoogleDrive\n",
        "from google.colab import auth\n",
        "from oauth2client.client import GoogleCredentials\n",
        "\n",
        "\n",
        "# Authenticate and create the PyDrive client.\n",
        "auth.authenticate_user()\n",
        "gauth = GoogleAuth()\n",
        "gauth.credentials = GoogleCredentials.get_application_default()\n",
        "drive = GoogleDrive(gauth)"
      ]
    },
    {
      "cell_type": "markdown",
      "source": [
        "#Preparing Data Set\n",
        "memasukan data tempat wisata"
      ],
      "metadata": {
        "id": "6uHhOP7mf9ep"
      }
    },
    {
      "cell_type": "code",
      "execution_count": 3,
      "metadata": {
        "colab": {
          "base_uri": "https://localhost:8080/"
        },
        "id": "dqga60XJk6Rb",
        "outputId": "45c1234d-043c-4088-a1a5-54326a2528c3"
      },
      "outputs": [
        {
          "output_type": "stream",
          "name": "stdout",
          "text": [
            "    Place_Id                     Place_Name  \\\n",
            "0          1              Agrowisata Satria   \n",
            "1          2                     Agung Bali   \n",
            "2          3  Wisata Air Panas Toya Bungkah   \n",
            "3          4         Air Terjun Aling-Aling   \n",
            "4          5          Air Terjun Tegenungan   \n",
            "..       ...                            ...   \n",
            "70        71         Teras Sawah Tegalalang   \n",
            "71        72                   Tirta Gangga   \n",
            "72        73                  Waterbom Bali   \n",
            "73        74       Alas Harum Agro Tourism    \n",
            "74        75     Wisata Agro Teba Sari Bali   \n",
            "\n",
            "                                          Description  Weekend Holiday Price  \\\n",
            "0   Agrowisata Satria menawarkan 'rasa' Bali pada ...                  50000   \n",
            "1   Dapatkan berbagai produk oleh-oleh khas Bali b...                      0   \n",
            "2   Pemandian air panas di dekat gunung Batur (Pem...                  70000   \n",
            "3   Keberadaan air terjun ini semakin mempercantik...                  20000   \n",
            "4   Bosan dengan wisata alam pantai dan ingin meni...                  20000   \n",
            "..                                                ...                    ...   \n",
            "70  Uniknya Tegallalang Rice Terrace di Bali ini, ...                  10000   \n",
            "71  Ada tiga hal utama yang ada di taman Tirta Gan...                  25000   \n",
            "72  Waterbom merupakan sebuah oase di jantung kawa...                 289000   \n",
            "73  Alas Harum Bali merupakan destinasi wisata yan...                  10000   \n",
            "74  Dalam kawasan Wisata Agro Teba Sari Bali, peng...                      0   \n",
            "\n",
            "    Weekday Price    Category        City  Rating  \\\n",
            "0           50000  Agrowisata     Gianyar     3.0   \n",
            "1               0     Belanja      Badung     4.0   \n",
            "2           70000        Alam      Bangli     4.0   \n",
            "3           20000        Alam    Buleleng     4.5   \n",
            "4           20000        Alam     Gianyar     4.0   \n",
            "..            ...         ...         ...     ...   \n",
            "70          10000  Agrowisata     Gianyar     4.0   \n",
            "71          25000    Religius  Karangasem     4.5   \n",
            "72         289000    Rekreasi      Badung     4.5   \n",
            "73          10000  Agrowisata     Gianyar     4.0   \n",
            "74              0  Agrowisata     Gianyar     4.0   \n",
            "\n",
            "                                               Alamat  \\\n",
            "0    Manukaya, Kec. Tampaksiring, Kabupaten Gianya...   \n",
            "1           Jln. Dewi Sri No.18XX, Kuta, Badung, Bali   \n",
            "2   Batur Tengah, Kec. Kintamani, Kabupaten Bangli...   \n",
            "3   Jl. Raya Desa Sambangan, Banjar, Sambangan, Ke...   \n",
            "4   Jl. Ir. Sutami, Kemenuh, Kec. Sukawati, Kabupa...   \n",
            "..                                                ...   \n",
            "70  Jl. Raya Tegallalang, Tegallalang, Kec. Tegall...   \n",
            "71  Jalan Raya Abang Desa Adat, Ababi, Kec. Abang,...   \n",
            "72  Jl. Kartika Plaza, Tuban, Kec. Kuta, Kabupaten...   \n",
            "73  Jl. Raya Tegallalang, Tegallalang, Kec. Tegall...   \n",
            "74  Jl. Tegal Utu, Lodtunduh, Kecamatan Ubud, Kabu...   \n",
            "\n",
            "                                Coordinate       Lat        Long Gambar  \n",
            "0   -8.402228546131536, 115.32296693687739 -8.402229  115.322967      V  \n",
            "1     -8.700234336021559, 115.176534407375 -8.700234  115.176534      V  \n",
            "2   -8.251298580809106, 115.39981444195475 -8.251299  115.399814      V  \n",
            "3   -8.173073590748519, 115.10513024047802 -8.173074  115.105130      V  \n",
            "4   -8.575191460385602, 115.28870189592831 -8.575191  115.288702      V  \n",
            "..                                     ...       ...         ...    ...  \n",
            "70  -8.433891714602193, 115.27918179571854 -8.433892  115.279182      V  \n",
            "71  -8.412071345387545, 115.58728116872855 -8.412071  115.587281      V  \n",
            "72   -8.72828817001415, 115.16934211106027 -8.728288  115.169342      V  \n",
            "73   -8.43969896624251, 115.28060749756382 -8.439699  115.280608      V  \n",
            "74  -8.547239248722546, 115.25742069756434 -8.547239  115.257421      V  \n",
            "\n",
            "[75 rows x 13 columns]\n"
          ]
        }
      ],
      "source": [
        "link = 'https://drive.google.com/file/d/1Fjjh_nSMWssHE4Ncv7aURngnN5wsfJ_y/view'\n",
        "\n",
        "\n",
        "# to get the id part of the file\n",
        "id = link.split(\"/\")[-2]\n",
        "\n",
        "downloaded = drive.CreateFile({'id':id})\n",
        "downloaded.GetContentFile('tourism_with_id.csv')\n",
        "\n",
        "place = pd.read_csv('tourism_with_id.csv')\n",
        "print(place)\n"
      ]
    },
    {
      "cell_type": "code",
      "execution_count": 4,
      "metadata": {
        "colab": {
          "base_uri": "https://localhost:8080/",
          "height": 354
        },
        "id": "fIv-9pk6M6t4",
        "outputId": "5fb0aa56-95fe-432b-bbf3-bb44c1203c5a"
      },
      "outputs": [
        {
          "output_type": "execute_result",
          "data": {
            "text/plain": [
              "   Place_Id                     Place_Name  \\\n",
              "0         1              Agrowisata Satria   \n",
              "1         2                     Agung Bali   \n",
              "2         3  Wisata Air Panas Toya Bungkah   \n",
              "3         4         Air Terjun Aling-Aling   \n",
              "4         5          Air Terjun Tegenungan   \n",
              "\n",
              "                                         Description  Weekend Holiday Price  \\\n",
              "0  Agrowisata Satria menawarkan 'rasa' Bali pada ...                  50000   \n",
              "1  Dapatkan berbagai produk oleh-oleh khas Bali b...                      0   \n",
              "2  Pemandian air panas di dekat gunung Batur (Pem...                  70000   \n",
              "3  Keberadaan air terjun ini semakin mempercantik...                  20000   \n",
              "4  Bosan dengan wisata alam pantai dan ingin meni...                  20000   \n",
              "\n",
              "   Weekday Price    Category      City  Rating  \\\n",
              "0          50000  Agrowisata   Gianyar     3.0   \n",
              "1              0     Belanja    Badung     4.0   \n",
              "2          70000        Alam    Bangli     4.0   \n",
              "3          20000        Alam  Buleleng     4.5   \n",
              "4          20000        Alam   Gianyar     4.0   \n",
              "\n",
              "                                              Alamat  \\\n",
              "0   Manukaya, Kec. Tampaksiring, Kabupaten Gianya...   \n",
              "1          Jln. Dewi Sri No.18XX, Kuta, Badung, Bali   \n",
              "2  Batur Tengah, Kec. Kintamani, Kabupaten Bangli...   \n",
              "3  Jl. Raya Desa Sambangan, Banjar, Sambangan, Ke...   \n",
              "4  Jl. Ir. Sutami, Kemenuh, Kec. Sukawati, Kabupa...   \n",
              "\n",
              "                               Coordinate       Lat        Long Gambar  \n",
              "0  -8.402228546131536, 115.32296693687739 -8.402229  115.322967      V  \n",
              "1    -8.700234336021559, 115.176534407375 -8.700234  115.176534      V  \n",
              "2  -8.251298580809106, 115.39981444195475 -8.251299  115.399814      V  \n",
              "3  -8.173073590748519, 115.10513024047802 -8.173074  115.105130      V  \n",
              "4  -8.575191460385602, 115.28870189592831 -8.575191  115.288702      V  "
            ],
            "text/html": [
              "\n",
              "  <div id=\"df-906160e2-786f-463f-87de-2f561a280919\">\n",
              "    <div class=\"colab-df-container\">\n",
              "      <div>\n",
              "<style scoped>\n",
              "    .dataframe tbody tr th:only-of-type {\n",
              "        vertical-align: middle;\n",
              "    }\n",
              "\n",
              "    .dataframe tbody tr th {\n",
              "        vertical-align: top;\n",
              "    }\n",
              "\n",
              "    .dataframe thead th {\n",
              "        text-align: right;\n",
              "    }\n",
              "</style>\n",
              "<table border=\"1\" class=\"dataframe\">\n",
              "  <thead>\n",
              "    <tr style=\"text-align: right;\">\n",
              "      <th></th>\n",
              "      <th>Place_Id</th>\n",
              "      <th>Place_Name</th>\n",
              "      <th>Description</th>\n",
              "      <th>Weekend Holiday Price</th>\n",
              "      <th>Weekday Price</th>\n",
              "      <th>Category</th>\n",
              "      <th>City</th>\n",
              "      <th>Rating</th>\n",
              "      <th>Alamat</th>\n",
              "      <th>Coordinate</th>\n",
              "      <th>Lat</th>\n",
              "      <th>Long</th>\n",
              "      <th>Gambar</th>\n",
              "    </tr>\n",
              "  </thead>\n",
              "  <tbody>\n",
              "    <tr>\n",
              "      <th>0</th>\n",
              "      <td>1</td>\n",
              "      <td>Agrowisata Satria</td>\n",
              "      <td>Agrowisata Satria menawarkan 'rasa' Bali pada ...</td>\n",
              "      <td>50000</td>\n",
              "      <td>50000</td>\n",
              "      <td>Agrowisata</td>\n",
              "      <td>Gianyar</td>\n",
              "      <td>3.0</td>\n",
              "      <td>Manukaya, Kec. Tampaksiring, Kabupaten Gianya...</td>\n",
              "      <td>-8.402228546131536, 115.32296693687739</td>\n",
              "      <td>-8.402229</td>\n",
              "      <td>115.322967</td>\n",
              "      <td>V</td>\n",
              "    </tr>\n",
              "    <tr>\n",
              "      <th>1</th>\n",
              "      <td>2</td>\n",
              "      <td>Agung Bali</td>\n",
              "      <td>Dapatkan berbagai produk oleh-oleh khas Bali b...</td>\n",
              "      <td>0</td>\n",
              "      <td>0</td>\n",
              "      <td>Belanja</td>\n",
              "      <td>Badung</td>\n",
              "      <td>4.0</td>\n",
              "      <td>Jln. Dewi Sri No.18XX, Kuta, Badung, Bali</td>\n",
              "      <td>-8.700234336021559, 115.176534407375</td>\n",
              "      <td>-8.700234</td>\n",
              "      <td>115.176534</td>\n",
              "      <td>V</td>\n",
              "    </tr>\n",
              "    <tr>\n",
              "      <th>2</th>\n",
              "      <td>3</td>\n",
              "      <td>Wisata Air Panas Toya Bungkah</td>\n",
              "      <td>Pemandian air panas di dekat gunung Batur (Pem...</td>\n",
              "      <td>70000</td>\n",
              "      <td>70000</td>\n",
              "      <td>Alam</td>\n",
              "      <td>Bangli</td>\n",
              "      <td>4.0</td>\n",
              "      <td>Batur Tengah, Kec. Kintamani, Kabupaten Bangli...</td>\n",
              "      <td>-8.251298580809106, 115.39981444195475</td>\n",
              "      <td>-8.251299</td>\n",
              "      <td>115.399814</td>\n",
              "      <td>V</td>\n",
              "    </tr>\n",
              "    <tr>\n",
              "      <th>3</th>\n",
              "      <td>4</td>\n",
              "      <td>Air Terjun Aling-Aling</td>\n",
              "      <td>Keberadaan air terjun ini semakin mempercantik...</td>\n",
              "      <td>20000</td>\n",
              "      <td>20000</td>\n",
              "      <td>Alam</td>\n",
              "      <td>Buleleng</td>\n",
              "      <td>4.5</td>\n",
              "      <td>Jl. Raya Desa Sambangan, Banjar, Sambangan, Ke...</td>\n",
              "      <td>-8.173073590748519, 115.10513024047802</td>\n",
              "      <td>-8.173074</td>\n",
              "      <td>115.105130</td>\n",
              "      <td>V</td>\n",
              "    </tr>\n",
              "    <tr>\n",
              "      <th>4</th>\n",
              "      <td>5</td>\n",
              "      <td>Air Terjun Tegenungan</td>\n",
              "      <td>Bosan dengan wisata alam pantai dan ingin meni...</td>\n",
              "      <td>20000</td>\n",
              "      <td>20000</td>\n",
              "      <td>Alam</td>\n",
              "      <td>Gianyar</td>\n",
              "      <td>4.0</td>\n",
              "      <td>Jl. Ir. Sutami, Kemenuh, Kec. Sukawati, Kabupa...</td>\n",
              "      <td>-8.575191460385602, 115.28870189592831</td>\n",
              "      <td>-8.575191</td>\n",
              "      <td>115.288702</td>\n",
              "      <td>V</td>\n",
              "    </tr>\n",
              "  </tbody>\n",
              "</table>\n",
              "</div>\n",
              "      <button class=\"colab-df-convert\" onclick=\"convertToInteractive('df-906160e2-786f-463f-87de-2f561a280919')\"\n",
              "              title=\"Convert this dataframe to an interactive table.\"\n",
              "              style=\"display:none;\">\n",
              "        \n",
              "  <svg xmlns=\"http://www.w3.org/2000/svg\" height=\"24px\"viewBox=\"0 0 24 24\"\n",
              "       width=\"24px\">\n",
              "    <path d=\"M0 0h24v24H0V0z\" fill=\"none\"/>\n",
              "    <path d=\"M18.56 5.44l.94 2.06.94-2.06 2.06-.94-2.06-.94-.94-2.06-.94 2.06-2.06.94zm-11 1L8.5 8.5l.94-2.06 2.06-.94-2.06-.94L8.5 2.5l-.94 2.06-2.06.94zm10 10l.94 2.06.94-2.06 2.06-.94-2.06-.94-.94-2.06-.94 2.06-2.06.94z\"/><path d=\"M17.41 7.96l-1.37-1.37c-.4-.4-.92-.59-1.43-.59-.52 0-1.04.2-1.43.59L10.3 9.45l-7.72 7.72c-.78.78-.78 2.05 0 2.83L4 21.41c.39.39.9.59 1.41.59.51 0 1.02-.2 1.41-.59l7.78-7.78 2.81-2.81c.8-.78.8-2.07 0-2.86zM5.41 20L4 18.59l7.72-7.72 1.47 1.35L5.41 20z\"/>\n",
              "  </svg>\n",
              "      </button>\n",
              "      \n",
              "  <style>\n",
              "    .colab-df-container {\n",
              "      display:flex;\n",
              "      flex-wrap:wrap;\n",
              "      gap: 12px;\n",
              "    }\n",
              "\n",
              "    .colab-df-convert {\n",
              "      background-color: #E8F0FE;\n",
              "      border: none;\n",
              "      border-radius: 50%;\n",
              "      cursor: pointer;\n",
              "      display: none;\n",
              "      fill: #1967D2;\n",
              "      height: 32px;\n",
              "      padding: 0 0 0 0;\n",
              "      width: 32px;\n",
              "    }\n",
              "\n",
              "    .colab-df-convert:hover {\n",
              "      background-color: #E2EBFA;\n",
              "      box-shadow: 0px 1px 2px rgba(60, 64, 67, 0.3), 0px 1px 3px 1px rgba(60, 64, 67, 0.15);\n",
              "      fill: #174EA6;\n",
              "    }\n",
              "\n",
              "    [theme=dark] .colab-df-convert {\n",
              "      background-color: #3B4455;\n",
              "      fill: #D2E3FC;\n",
              "    }\n",
              "\n",
              "    [theme=dark] .colab-df-convert:hover {\n",
              "      background-color: #434B5C;\n",
              "      box-shadow: 0px 1px 3px 1px rgba(0, 0, 0, 0.15);\n",
              "      filter: drop-shadow(0px 1px 2px rgba(0, 0, 0, 0.3));\n",
              "      fill: #FFFFFF;\n",
              "    }\n",
              "  </style>\n",
              "\n",
              "      <script>\n",
              "        const buttonEl =\n",
              "          document.querySelector('#df-906160e2-786f-463f-87de-2f561a280919 button.colab-df-convert');\n",
              "        buttonEl.style.display =\n",
              "          google.colab.kernel.accessAllowed ? 'block' : 'none';\n",
              "\n",
              "        async function convertToInteractive(key) {\n",
              "          const element = document.querySelector('#df-906160e2-786f-463f-87de-2f561a280919');\n",
              "          const dataTable =\n",
              "            await google.colab.kernel.invokeFunction('convertToInteractive',\n",
              "                                                     [key], {});\n",
              "          if (!dataTable) return;\n",
              "\n",
              "          const docLinkHtml = 'Like what you see? Visit the ' +\n",
              "            '<a target=\"_blank\" href=https://colab.research.google.com/notebooks/data_table.ipynb>data table notebook</a>'\n",
              "            + ' to learn more about interactive tables.';\n",
              "          element.innerHTML = '';\n",
              "          dataTable['output_type'] = 'display_data';\n",
              "          await google.colab.output.renderOutput(dataTable, element);\n",
              "          const docLink = document.createElement('div');\n",
              "          docLink.innerHTML = docLinkHtml;\n",
              "          element.appendChild(docLink);\n",
              "        }\n",
              "      </script>\n",
              "    </div>\n",
              "  </div>\n",
              "  "
            ]
          },
          "metadata": {},
          "execution_count": 4
        }
      ],
      "source": [
        "# Melihat gambaran data place\n",
        "\n",
        "place.head()"
      ]
    },
    {
      "cell_type": "code",
      "execution_count": null,
      "metadata": {
        "colab": {
          "base_uri": "https://localhost:8080/"
        },
        "id": "mLZhoESkQ9oe",
        "outputId": "20453e3f-b2e1-4d03-e652-43a00cbaa6e2"
      },
      "outputs": [
        {
          "output_type": "stream",
          "name": "stdout",
          "text": [
            "<class 'pandas.core.frame.DataFrame'>\n",
            "RangeIndex: 75 entries, 0 to 74\n",
            "Data columns (total 13 columns):\n",
            " #   Column                 Non-Null Count  Dtype  \n",
            "---  ------                 --------------  -----  \n",
            " 0   Place_Id               75 non-null     int64  \n",
            " 1   Place_Name             75 non-null     object \n",
            " 2   Description            75 non-null     object \n",
            " 3   Weekend Holiday Price  75 non-null     int64  \n",
            " 4   Weekday Price          75 non-null     int64  \n",
            " 5   Category               75 non-null     object \n",
            " 6   City                   75 non-null     object \n",
            " 7   Rating                 75 non-null     float64\n",
            " 8   Alamat                 75 non-null     object \n",
            " 9   Coordinate             75 non-null     object \n",
            " 10  Lat                    75 non-null     float64\n",
            " 11  Long                   75 non-null     float64\n",
            " 12  Gambar                 75 non-null     object \n",
            "dtypes: float64(3), int64(3), object(7)\n",
            "memory usage: 7.7+ KB\n"
          ]
        }
      ],
      "source": [
        "place.info()"
      ]
    },
    {
      "cell_type": "markdown",
      "metadata": {
        "id": "wsVXqQoxq9Xq"
      },
      "source": [
        "Memasukkan data rating"
      ]
    },
    {
      "cell_type": "code",
      "execution_count": 6,
      "metadata": {
        "colab": {
          "base_uri": "https://localhost:8080/",
          "height": 206
        },
        "id": "3R-KWY8zp9Iz",
        "outputId": "5e6304c4-bc0f-45ac-9b7c-89faebffb7d3"
      },
      "outputs": [
        {
          "output_type": "execute_result",
          "data": {
            "text/plain": [
              "   User_Id  Place_Id            Nama Tempat  Place_Rating\n",
              "0        1         2   Agung Bali Oleh-Oleh             3\n",
              "1        1         7       Aloha Ubud Swing             5\n",
              "2        1         8         Bali Bird Park             5\n",
              "3        1        12      Big Garden Corner             2\n",
              "4        1        13  Wanagiri Hidden Hills             5"
            ],
            "text/html": [
              "\n",
              "  <div id=\"df-af88b5da-d795-4a3e-989b-d4439aa2143f\">\n",
              "    <div class=\"colab-df-container\">\n",
              "      <div>\n",
              "<style scoped>\n",
              "    .dataframe tbody tr th:only-of-type {\n",
              "        vertical-align: middle;\n",
              "    }\n",
              "\n",
              "    .dataframe tbody tr th {\n",
              "        vertical-align: top;\n",
              "    }\n",
              "\n",
              "    .dataframe thead th {\n",
              "        text-align: right;\n",
              "    }\n",
              "</style>\n",
              "<table border=\"1\" class=\"dataframe\">\n",
              "  <thead>\n",
              "    <tr style=\"text-align: right;\">\n",
              "      <th></th>\n",
              "      <th>User_Id</th>\n",
              "      <th>Place_Id</th>\n",
              "      <th>Nama Tempat</th>\n",
              "      <th>Place_Rating</th>\n",
              "    </tr>\n",
              "  </thead>\n",
              "  <tbody>\n",
              "    <tr>\n",
              "      <th>0</th>\n",
              "      <td>1</td>\n",
              "      <td>2</td>\n",
              "      <td>Agung Bali Oleh-Oleh</td>\n",
              "      <td>3</td>\n",
              "    </tr>\n",
              "    <tr>\n",
              "      <th>1</th>\n",
              "      <td>1</td>\n",
              "      <td>7</td>\n",
              "      <td>Aloha Ubud Swing</td>\n",
              "      <td>5</td>\n",
              "    </tr>\n",
              "    <tr>\n",
              "      <th>2</th>\n",
              "      <td>1</td>\n",
              "      <td>8</td>\n",
              "      <td>Bali Bird Park</td>\n",
              "      <td>5</td>\n",
              "    </tr>\n",
              "    <tr>\n",
              "      <th>3</th>\n",
              "      <td>1</td>\n",
              "      <td>12</td>\n",
              "      <td>Big Garden Corner</td>\n",
              "      <td>2</td>\n",
              "    </tr>\n",
              "    <tr>\n",
              "      <th>4</th>\n",
              "      <td>1</td>\n",
              "      <td>13</td>\n",
              "      <td>Wanagiri Hidden Hills</td>\n",
              "      <td>5</td>\n",
              "    </tr>\n",
              "  </tbody>\n",
              "</table>\n",
              "</div>\n",
              "      <button class=\"colab-df-convert\" onclick=\"convertToInteractive('df-af88b5da-d795-4a3e-989b-d4439aa2143f')\"\n",
              "              title=\"Convert this dataframe to an interactive table.\"\n",
              "              style=\"display:none;\">\n",
              "        \n",
              "  <svg xmlns=\"http://www.w3.org/2000/svg\" height=\"24px\"viewBox=\"0 0 24 24\"\n",
              "       width=\"24px\">\n",
              "    <path d=\"M0 0h24v24H0V0z\" fill=\"none\"/>\n",
              "    <path d=\"M18.56 5.44l.94 2.06.94-2.06 2.06-.94-2.06-.94-.94-2.06-.94 2.06-2.06.94zm-11 1L8.5 8.5l.94-2.06 2.06-.94-2.06-.94L8.5 2.5l-.94 2.06-2.06.94zm10 10l.94 2.06.94-2.06 2.06-.94-2.06-.94-.94-2.06-.94 2.06-2.06.94z\"/><path d=\"M17.41 7.96l-1.37-1.37c-.4-.4-.92-.59-1.43-.59-.52 0-1.04.2-1.43.59L10.3 9.45l-7.72 7.72c-.78.78-.78 2.05 0 2.83L4 21.41c.39.39.9.59 1.41.59.51 0 1.02-.2 1.41-.59l7.78-7.78 2.81-2.81c.8-.78.8-2.07 0-2.86zM5.41 20L4 18.59l7.72-7.72 1.47 1.35L5.41 20z\"/>\n",
              "  </svg>\n",
              "      </button>\n",
              "      \n",
              "  <style>\n",
              "    .colab-df-container {\n",
              "      display:flex;\n",
              "      flex-wrap:wrap;\n",
              "      gap: 12px;\n",
              "    }\n",
              "\n",
              "    .colab-df-convert {\n",
              "      background-color: #E8F0FE;\n",
              "      border: none;\n",
              "      border-radius: 50%;\n",
              "      cursor: pointer;\n",
              "      display: none;\n",
              "      fill: #1967D2;\n",
              "      height: 32px;\n",
              "      padding: 0 0 0 0;\n",
              "      width: 32px;\n",
              "    }\n",
              "\n",
              "    .colab-df-convert:hover {\n",
              "      background-color: #E2EBFA;\n",
              "      box-shadow: 0px 1px 2px rgba(60, 64, 67, 0.3), 0px 1px 3px 1px rgba(60, 64, 67, 0.15);\n",
              "      fill: #174EA6;\n",
              "    }\n",
              "\n",
              "    [theme=dark] .colab-df-convert {\n",
              "      background-color: #3B4455;\n",
              "      fill: #D2E3FC;\n",
              "    }\n",
              "\n",
              "    [theme=dark] .colab-df-convert:hover {\n",
              "      background-color: #434B5C;\n",
              "      box-shadow: 0px 1px 3px 1px rgba(0, 0, 0, 0.15);\n",
              "      filter: drop-shadow(0px 1px 2px rgba(0, 0, 0, 0.3));\n",
              "      fill: #FFFFFF;\n",
              "    }\n",
              "  </style>\n",
              "\n",
              "      <script>\n",
              "        const buttonEl =\n",
              "          document.querySelector('#df-af88b5da-d795-4a3e-989b-d4439aa2143f button.colab-df-convert');\n",
              "        buttonEl.style.display =\n",
              "          google.colab.kernel.accessAllowed ? 'block' : 'none';\n",
              "\n",
              "        async function convertToInteractive(key) {\n",
              "          const element = document.querySelector('#df-af88b5da-d795-4a3e-989b-d4439aa2143f');\n",
              "          const dataTable =\n",
              "            await google.colab.kernel.invokeFunction('convertToInteractive',\n",
              "                                                     [key], {});\n",
              "          if (!dataTable) return;\n",
              "\n",
              "          const docLinkHtml = 'Like what you see? Visit the ' +\n",
              "            '<a target=\"_blank\" href=https://colab.research.google.com/notebooks/data_table.ipynb>data table notebook</a>'\n",
              "            + ' to learn more about interactive tables.';\n",
              "          element.innerHTML = '';\n",
              "          dataTable['output_type'] = 'display_data';\n",
              "          await google.colab.output.renderOutput(dataTable, element);\n",
              "          const docLink = document.createElement('div');\n",
              "          docLink.innerHTML = docLinkHtml;\n",
              "          element.appendChild(docLink);\n",
              "        }\n",
              "      </script>\n",
              "    </div>\n",
              "  </div>\n",
              "  "
            ]
          },
          "metadata": {},
          "execution_count": 6
        }
      ],
      "source": [
        "rate =  'https://drive.google.com/file/d/1O8nHRBufcBe26vB8GHicaTTqAlIcUv8E/view'\n",
        "\n",
        "# to get the id part of the file\n",
        "id = rate.split(\"/\")[-2]\n",
        "\n",
        "downloaded = drive.CreateFile({'id':id})\n",
        "downloaded.GetContentFile('tourism_rating.csv')\n",
        "\n",
        "rating = pd.read_csv('tourism_rating.csv')\n",
        "rating.head()"
      ]
    },
    {
      "cell_type": "code",
      "execution_count": 7,
      "metadata": {
        "colab": {
          "base_uri": "https://localhost:8080/"
        },
        "id": "ZHejOrP7RMYJ",
        "outputId": "04669af8-1723-46b4-a10f-da1c4ccaa325"
      },
      "outputs": [
        {
          "output_type": "stream",
          "name": "stdout",
          "text": [
            "<class 'pandas.core.frame.DataFrame'>\n",
            "RangeIndex: 3000 entries, 0 to 2999\n",
            "Data columns (total 4 columns):\n",
            " #   Column        Non-Null Count  Dtype \n",
            "---  ------        --------------  ----- \n",
            " 0   User_Id       3000 non-null   int64 \n",
            " 1   Place_Id      3000 non-null   int64 \n",
            " 2   Nama Tempat   3000 non-null   object\n",
            " 3   Place_Rating  3000 non-null   int64 \n",
            "dtypes: int64(3), object(1)\n",
            "memory usage: 93.9+ KB\n"
          ]
        }
      ],
      "source": [
        "rating.info()"
      ]
    },
    {
      "cell_type": "markdown",
      "source": [
        "Filtering data rating"
      ],
      "metadata": {
        "id": "D_UfiWLNgZOR"
      }
    },
    {
      "cell_type": "code",
      "execution_count": 8,
      "metadata": {
        "colab": {
          "base_uri": "https://localhost:8080/"
        },
        "id": "6ntwu5LPA_MV",
        "outputId": "314176dd-2c3f-4690-d628-1c0a48e5f534"
      },
      "outputs": [
        {
          "output_type": "stream",
          "name": "stdout",
          "text": [
            "Shape User-Ratings unfiltered:\t(3000, 4)\n",
            "Shape User-Ratings filtered:\t(2250, 4)\n"
          ]
        }
      ],
      "source": [
        "min_place_rating = 10\n",
        "filter_place = (rating[\"Place_Id\"].value_counts()>min_place_rating)\n",
        "filter_place = filter_place[filter_place].index.tolist()\n",
        "\n",
        "min_user_rating = 10\n",
        "filter_user = (rating[\"User_Id\"].value_counts()>min_user_rating)\n",
        "filter_user = filter_user[filter_user].index.tolist()\n",
        "\n",
        "data_filtered = rating[(rating[\"Place_Id\"].isin(filter_place)) & \n",
        "                       (rating[\"User_Id\"].isin(filter_place))]\n",
        "del filter_place,filter_user,min_place_rating,min_user_rating\n",
        "print('Shape User-Ratings unfiltered:\\t{}'.format(rating.shape))\n",
        "print('Shape User-Ratings filtered:\\t{}'.format(data_filtered.shape))"
      ]
    },
    {
      "cell_type": "markdown",
      "source": [
        "Membagi data set menjadi train dan test"
      ],
      "metadata": {
        "id": "CgAIxb94gjPm"
      }
    },
    {
      "cell_type": "code",
      "execution_count": 9,
      "metadata": {
        "id": "bn09UsamB1Yu"
      },
      "outputs": [],
      "source": [
        "data_filtered = data_filtered.sample(frac=1).reset_index(drop=True)\n",
        "\n",
        "n =500\n",
        "\n",
        "df_train = data_filtered[:-n]\n",
        "df_test = data_filtered[-n:]"
      ]
    },
    {
      "cell_type": "markdown",
      "source": [
        "#Deep Learning With Keras\n",
        "Using collaborative Filtering\n"
      ],
      "metadata": {
        "id": "AAtTULCkdHgn"
      }
    },
    {
      "cell_type": "code",
      "source": [
        "# Mapping user dan place id\n",
        "user_mapping = {id:i for i, id in enumerate(data_filtered['User_Id'].unique())}\n",
        "place_mapping = {id:i for i, id in enumerate(data_filtered['Place_Id'].unique())}\n",
        "\n",
        "\n",
        "y_train = df_train[\"Place_Rating\"].apply(lambda x: (x - 1) / (5 - 1)).values\n",
        "y_test = df_test[\"Place_Rating\"].apply(lambda x: (x - 1) / (5 - 1)).values\n",
        "\n",
        "x_train = df_train[['User_Id', 'Place_Id']].values\n",
        "x_test = df_test[['User_Id', 'Place_Id']].values\n",
        "# Atur Variabel\n",
        "user_embedding_size = 20\n",
        "place_embedding_size = 10\n",
        "\n",
        "# Masukin parameter\n",
        "users = len(user_mapping)\n",
        "places = len(place_mapping)\n",
        "embedding_size = 10"
      ],
      "metadata": {
        "id": "Lx56pp6FbVDi"
      },
      "execution_count": 10,
      "outputs": []
    },
    {
      "cell_type": "markdown",
      "source": [
        "Mulai Pembuatan Model"
      ],
      "metadata": {
        "id": "U8VW6cvRlhJ_"
      }
    },
    {
      "cell_type": "code",
      "source": [
        "\n",
        "\n",
        "#Mengatur input layer\n",
        "user_id_input = Input(shape=[1], name='user')\n",
        "place_id_input = Input(shape=[1], name='place')\n",
        "\n",
        "# Membuat Embedding layer\n",
        "user_embedding = Embedding(output_dim=user_embedding_size, \n",
        "                           input_dim=users+1,\n",
        "                           input_length=1, \n",
        "                           name='user_embedding')(user_id_input)\n",
        "place_embedding = Embedding(output_dim=place_embedding_size, \n",
        "                            input_dim=places+1,\n",
        "                            input_length=1, \n",
        "                            name='item_embedding')(place_id_input)\n",
        "\n",
        "# Reshape embedding layers yang sudah dibuat\n",
        "user_vector = Flatten(name=\"Flatten-Users\")(user_embedding)\n",
        "place_vector = Flatten(name=\"Flatten-Places\")(place_embedding)\n",
        "\n",
        "# Di concate supaya bisa jadi 1 list\n",
        "concat = Concatenate()([user_vector, place_vector])\n",
        "\n",
        "# masukin dense layer\n",
        "fc1 = Dense(64, activation='relu')(concat)\n",
        "fc2 = Dense(64, activation='relu')(fc1)\n",
        "fc3 = Dense(64, activation='relu')(fc2)\n",
        "\n",
        "y = Dense(1)(fc3)\n",
        "\n"
      ],
      "metadata": {
        "id": "2ZfkAY5Tld76"
      },
      "execution_count": 12,
      "outputs": []
    },
    {
      "cell_type": "code",
      "source": [
        "# Setup model yang sudah dibuat\n",
        "model = Model(inputs=[user_id_input, place_id_input], outputs=y)\n",
        "model.compile(\n",
        "    loss = 'mse',\n",
        "    optimizer = keras.optimizers.Adam(learning_rate=0.0004),\n",
        "    metrics=[tf.keras.metrics.RootMeanSquaredError()]\n",
        ")\n",
        "\n",
        "# Hasil fit model\n",
        "history = model.fit([x_train[:,0],x_train[:,1]],\n",
        "          y_train,\n",
        "          validation_data = ([x_test[:,0], x_test[:,1]], y_test),\n",
        "          batch_size=256, \n",
        "          epochs=100,\n",
        "          )\n"
      ],
      "metadata": {
        "colab": {
          "base_uri": "https://localhost:8080/"
        },
        "id": "ZD3lJ7lsl5lO",
        "outputId": "61343c69-d96d-4067-e069-0bcfc4909304"
      },
      "execution_count": 13,
      "outputs": [
        {
          "output_type": "stream",
          "name": "stdout",
          "text": [
            "Epoch 1/100\n",
            "7/7 [==============================] - 3s 30ms/step - loss: 0.6628 - root_mean_squared_error: 0.8141 - val_loss: 0.6064 - val_root_mean_squared_error: 0.7787\n",
            "Epoch 2/100\n",
            "7/7 [==============================] - 0s 6ms/step - loss: 0.5935 - root_mean_squared_error: 0.7704 - val_loss: 0.5364 - val_root_mean_squared_error: 0.7324\n",
            "Epoch 3/100\n",
            "7/7 [==============================] - 0s 5ms/step - loss: 0.5170 - root_mean_squared_error: 0.7190 - val_loss: 0.4561 - val_root_mean_squared_error: 0.6753\n",
            "Epoch 4/100\n",
            "7/7 [==============================] - 0s 5ms/step - loss: 0.4287 - root_mean_squared_error: 0.6548 - val_loss: 0.3633 - val_root_mean_squared_error: 0.6028\n",
            "Epoch 5/100\n",
            "7/7 [==============================] - 0s 6ms/step - loss: 0.3284 - root_mean_squared_error: 0.5731 - val_loss: 0.2623 - val_root_mean_squared_error: 0.5121\n",
            "Epoch 6/100\n",
            "7/7 [==============================] - 0s 5ms/step - loss: 0.2230 - root_mean_squared_error: 0.4722 - val_loss: 0.1653 - val_root_mean_squared_error: 0.4066\n",
            "Epoch 7/100\n",
            "7/7 [==============================] - 0s 6ms/step - loss: 0.1312 - root_mean_squared_error: 0.3622 - val_loss: 0.0959 - val_root_mean_squared_error: 0.3097\n",
            "Epoch 8/100\n",
            "7/7 [==============================] - 0s 6ms/step - loss: 0.0780 - root_mean_squared_error: 0.2793 - val_loss: 0.0776 - val_root_mean_squared_error: 0.2786\n",
            "Epoch 9/100\n",
            "7/7 [==============================] - 0s 6ms/step - loss: 0.0709 - root_mean_squared_error: 0.2662 - val_loss: 0.0853 - val_root_mean_squared_error: 0.2921\n",
            "Epoch 10/100\n",
            "7/7 [==============================] - 0s 6ms/step - loss: 0.0721 - root_mean_squared_error: 0.2686 - val_loss: 0.0795 - val_root_mean_squared_error: 0.2819\n",
            "Epoch 11/100\n",
            "7/7 [==============================] - 0s 5ms/step - loss: 0.0651 - root_mean_squared_error: 0.2551 - val_loss: 0.0730 - val_root_mean_squared_error: 0.2702\n",
            "Epoch 12/100\n",
            "7/7 [==============================] - 0s 6ms/step - loss: 0.0619 - root_mean_squared_error: 0.2488 - val_loss: 0.0716 - val_root_mean_squared_error: 0.2676\n",
            "Epoch 13/100\n",
            "7/7 [==============================] - 0s 6ms/step - loss: 0.0612 - root_mean_squared_error: 0.2473 - val_loss: 0.0709 - val_root_mean_squared_error: 0.2663\n",
            "Epoch 14/100\n",
            "7/7 [==============================] - 0s 5ms/step - loss: 0.0597 - root_mean_squared_error: 0.2443 - val_loss: 0.0704 - val_root_mean_squared_error: 0.2652\n",
            "Epoch 15/100\n",
            "7/7 [==============================] - 0s 7ms/step - loss: 0.0583 - root_mean_squared_error: 0.2414 - val_loss: 0.0702 - val_root_mean_squared_error: 0.2650\n",
            "Epoch 16/100\n",
            "7/7 [==============================] - 0s 5ms/step - loss: 0.0574 - root_mean_squared_error: 0.2396 - val_loss: 0.0699 - val_root_mean_squared_error: 0.2644\n",
            "Epoch 17/100\n",
            "7/7 [==============================] - 0s 6ms/step - loss: 0.0565 - root_mean_squared_error: 0.2377 - val_loss: 0.0693 - val_root_mean_squared_error: 0.2632\n",
            "Epoch 18/100\n",
            "7/7 [==============================] - 0s 5ms/step - loss: 0.0557 - root_mean_squared_error: 0.2360 - val_loss: 0.0686 - val_root_mean_squared_error: 0.2618\n",
            "Epoch 19/100\n",
            "7/7 [==============================] - 0s 6ms/step - loss: 0.0550 - root_mean_squared_error: 0.2345 - val_loss: 0.0682 - val_root_mean_squared_error: 0.2611\n",
            "Epoch 20/100\n",
            "7/7 [==============================] - 0s 5ms/step - loss: 0.0543 - root_mean_squared_error: 0.2330 - val_loss: 0.0680 - val_root_mean_squared_error: 0.2608\n",
            "Epoch 21/100\n",
            "7/7 [==============================] - 0s 5ms/step - loss: 0.0537 - root_mean_squared_error: 0.2317 - val_loss: 0.0680 - val_root_mean_squared_error: 0.2607\n",
            "Epoch 22/100\n",
            "7/7 [==============================] - 0s 6ms/step - loss: 0.0532 - root_mean_squared_error: 0.2307 - val_loss: 0.0678 - val_root_mean_squared_error: 0.2604\n",
            "Epoch 23/100\n",
            "7/7 [==============================] - 0s 5ms/step - loss: 0.0527 - root_mean_squared_error: 0.2297 - val_loss: 0.0675 - val_root_mean_squared_error: 0.2597\n",
            "Epoch 24/100\n",
            "7/7 [==============================] - 0s 6ms/step - loss: 0.0523 - root_mean_squared_error: 0.2288 - val_loss: 0.0674 - val_root_mean_squared_error: 0.2597\n",
            "Epoch 25/100\n",
            "7/7 [==============================] - 0s 6ms/step - loss: 0.0519 - root_mean_squared_error: 0.2279 - val_loss: 0.0673 - val_root_mean_squared_error: 0.2594\n",
            "Epoch 26/100\n",
            "7/7 [==============================] - 0s 8ms/step - loss: 0.0516 - root_mean_squared_error: 0.2272 - val_loss: 0.0672 - val_root_mean_squared_error: 0.2593\n",
            "Epoch 27/100\n",
            "7/7 [==============================] - 0s 5ms/step - loss: 0.0513 - root_mean_squared_error: 0.2265 - val_loss: 0.0674 - val_root_mean_squared_error: 0.2596\n",
            "Epoch 28/100\n",
            "7/7 [==============================] - 0s 6ms/step - loss: 0.0511 - root_mean_squared_error: 0.2260 - val_loss: 0.0673 - val_root_mean_squared_error: 0.2594\n",
            "Epoch 29/100\n",
            "7/7 [==============================] - 0s 6ms/step - loss: 0.0508 - root_mean_squared_error: 0.2254 - val_loss: 0.0672 - val_root_mean_squared_error: 0.2593\n",
            "Epoch 30/100\n",
            "7/7 [==============================] - 0s 6ms/step - loss: 0.0506 - root_mean_squared_error: 0.2250 - val_loss: 0.0671 - val_root_mean_squared_error: 0.2590\n",
            "Epoch 31/100\n",
            "7/7 [==============================] - 0s 5ms/step - loss: 0.0504 - root_mean_squared_error: 0.2245 - val_loss: 0.0672 - val_root_mean_squared_error: 0.2593\n",
            "Epoch 32/100\n",
            "7/7 [==============================] - 0s 6ms/step - loss: 0.0502 - root_mean_squared_error: 0.2242 - val_loss: 0.0676 - val_root_mean_squared_error: 0.2601\n",
            "Epoch 33/100\n",
            "7/7 [==============================] - 0s 6ms/step - loss: 0.0500 - root_mean_squared_error: 0.2236 - val_loss: 0.0676 - val_root_mean_squared_error: 0.2601\n",
            "Epoch 34/100\n",
            "7/7 [==============================] - 0s 5ms/step - loss: 0.0498 - root_mean_squared_error: 0.2233 - val_loss: 0.0675 - val_root_mean_squared_error: 0.2598\n",
            "Epoch 35/100\n",
            "7/7 [==============================] - 0s 6ms/step - loss: 0.0497 - root_mean_squared_error: 0.2229 - val_loss: 0.0677 - val_root_mean_squared_error: 0.2601\n",
            "Epoch 36/100\n",
            "7/7 [==============================] - 0s 5ms/step - loss: 0.0495 - root_mean_squared_error: 0.2225 - val_loss: 0.0678 - val_root_mean_squared_error: 0.2604\n",
            "Epoch 37/100\n",
            "7/7 [==============================] - 0s 5ms/step - loss: 0.0494 - root_mean_squared_error: 0.2222 - val_loss: 0.0680 - val_root_mean_squared_error: 0.2607\n",
            "Epoch 38/100\n",
            "7/7 [==============================] - 0s 7ms/step - loss: 0.0492 - root_mean_squared_error: 0.2219 - val_loss: 0.0681 - val_root_mean_squared_error: 0.2609\n",
            "Epoch 39/100\n",
            "7/7 [==============================] - 0s 6ms/step - loss: 0.0491 - root_mean_squared_error: 0.2216 - val_loss: 0.0679 - val_root_mean_squared_error: 0.2606\n",
            "Epoch 40/100\n",
            "7/7 [==============================] - 0s 5ms/step - loss: 0.0489 - root_mean_squared_error: 0.2212 - val_loss: 0.0680 - val_root_mean_squared_error: 0.2608\n",
            "Epoch 41/100\n",
            "7/7 [==============================] - 0s 6ms/step - loss: 0.0488 - root_mean_squared_error: 0.2209 - val_loss: 0.0679 - val_root_mean_squared_error: 0.2606\n",
            "Epoch 42/100\n",
            "7/7 [==============================] - 0s 6ms/step - loss: 0.0486 - root_mean_squared_error: 0.2205 - val_loss: 0.0681 - val_root_mean_squared_error: 0.2609\n",
            "Epoch 43/100\n",
            "7/7 [==============================] - 0s 7ms/step - loss: 0.0485 - root_mean_squared_error: 0.2201 - val_loss: 0.0680 - val_root_mean_squared_error: 0.2608\n",
            "Epoch 44/100\n",
            "7/7 [==============================] - 0s 5ms/step - loss: 0.0483 - root_mean_squared_error: 0.2198 - val_loss: 0.0681 - val_root_mean_squared_error: 0.2609\n",
            "Epoch 45/100\n",
            "7/7 [==============================] - 0s 5ms/step - loss: 0.0482 - root_mean_squared_error: 0.2194 - val_loss: 0.0682 - val_root_mean_squared_error: 0.2611\n",
            "Epoch 46/100\n",
            "7/7 [==============================] - 0s 6ms/step - loss: 0.0480 - root_mean_squared_error: 0.2191 - val_loss: 0.0682 - val_root_mean_squared_error: 0.2612\n",
            "Epoch 47/100\n",
            "7/7 [==============================] - 0s 5ms/step - loss: 0.0478 - root_mean_squared_error: 0.2187 - val_loss: 0.0681 - val_root_mean_squared_error: 0.2611\n",
            "Epoch 48/100\n",
            "7/7 [==============================] - 0s 6ms/step - loss: 0.0476 - root_mean_squared_error: 0.2183 - val_loss: 0.0681 - val_root_mean_squared_error: 0.2610\n",
            "Epoch 49/100\n",
            "7/7 [==============================] - 0s 6ms/step - loss: 0.0475 - root_mean_squared_error: 0.2179 - val_loss: 0.0685 - val_root_mean_squared_error: 0.2617\n",
            "Epoch 50/100\n",
            "7/7 [==============================] - 0s 6ms/step - loss: 0.0473 - root_mean_squared_error: 0.2175 - val_loss: 0.0685 - val_root_mean_squared_error: 0.2618\n",
            "Epoch 51/100\n",
            "7/7 [==============================] - 0s 5ms/step - loss: 0.0471 - root_mean_squared_error: 0.2170 - val_loss: 0.0684 - val_root_mean_squared_error: 0.2616\n",
            "Epoch 52/100\n",
            "7/7 [==============================] - 0s 6ms/step - loss: 0.0469 - root_mean_squared_error: 0.2166 - val_loss: 0.0685 - val_root_mean_squared_error: 0.2618\n",
            "Epoch 53/100\n",
            "7/7 [==============================] - 0s 5ms/step - loss: 0.0467 - root_mean_squared_error: 0.2162 - val_loss: 0.0689 - val_root_mean_squared_error: 0.2624\n",
            "Epoch 54/100\n",
            "7/7 [==============================] - 0s 5ms/step - loss: 0.0465 - root_mean_squared_error: 0.2156 - val_loss: 0.0686 - val_root_mean_squared_error: 0.2620\n",
            "Epoch 55/100\n",
            "7/7 [==============================] - 0s 6ms/step - loss: 0.0463 - root_mean_squared_error: 0.2152 - val_loss: 0.0688 - val_root_mean_squared_error: 0.2622\n",
            "Epoch 56/100\n",
            "7/7 [==============================] - 0s 6ms/step - loss: 0.0461 - root_mean_squared_error: 0.2146 - val_loss: 0.0686 - val_root_mean_squared_error: 0.2620\n",
            "Epoch 57/100\n",
            "7/7 [==============================] - 0s 6ms/step - loss: 0.0458 - root_mean_squared_error: 0.2140 - val_loss: 0.0689 - val_root_mean_squared_error: 0.2625\n",
            "Epoch 58/100\n",
            "7/7 [==============================] - 0s 6ms/step - loss: 0.0456 - root_mean_squared_error: 0.2135 - val_loss: 0.0692 - val_root_mean_squared_error: 0.2631\n",
            "Epoch 59/100\n",
            "7/7 [==============================] - 0s 6ms/step - loss: 0.0453 - root_mean_squared_error: 0.2129 - val_loss: 0.0691 - val_root_mean_squared_error: 0.2629\n",
            "Epoch 60/100\n",
            "7/7 [==============================] - 0s 6ms/step - loss: 0.0452 - root_mean_squared_error: 0.2125 - val_loss: 0.0689 - val_root_mean_squared_error: 0.2626\n",
            "Epoch 61/100\n",
            "7/7 [==============================] - 0s 7ms/step - loss: 0.0448 - root_mean_squared_error: 0.2116 - val_loss: 0.0695 - val_root_mean_squared_error: 0.2636\n",
            "Epoch 62/100\n",
            "7/7 [==============================] - 0s 6ms/step - loss: 0.0445 - root_mean_squared_error: 0.2110 - val_loss: 0.0697 - val_root_mean_squared_error: 0.2641\n",
            "Epoch 63/100\n",
            "7/7 [==============================] - 0s 6ms/step - loss: 0.0442 - root_mean_squared_error: 0.2103 - val_loss: 0.0693 - val_root_mean_squared_error: 0.2633\n",
            "Epoch 64/100\n",
            "7/7 [==============================] - 0s 5ms/step - loss: 0.0439 - root_mean_squared_error: 0.2095 - val_loss: 0.0696 - val_root_mean_squared_error: 0.2638\n",
            "Epoch 65/100\n",
            "7/7 [==============================] - 0s 5ms/step - loss: 0.0436 - root_mean_squared_error: 0.2087 - val_loss: 0.0699 - val_root_mean_squared_error: 0.2644\n",
            "Epoch 66/100\n",
            "7/7 [==============================] - 0s 6ms/step - loss: 0.0432 - root_mean_squared_error: 0.2078 - val_loss: 0.0698 - val_root_mean_squared_error: 0.2642\n",
            "Epoch 67/100\n",
            "7/7 [==============================] - 0s 6ms/step - loss: 0.0428 - root_mean_squared_error: 0.2069 - val_loss: 0.0700 - val_root_mean_squared_error: 0.2645\n",
            "Epoch 68/100\n",
            "7/7 [==============================] - 0s 6ms/step - loss: 0.0424 - root_mean_squared_error: 0.2060 - val_loss: 0.0706 - val_root_mean_squared_error: 0.2657\n",
            "Epoch 69/100\n",
            "7/7 [==============================] - 0s 5ms/step - loss: 0.0420 - root_mean_squared_error: 0.2050 - val_loss: 0.0705 - val_root_mean_squared_error: 0.2655\n",
            "Epoch 70/100\n",
            "7/7 [==============================] - 0s 7ms/step - loss: 0.0416 - root_mean_squared_error: 0.2040 - val_loss: 0.0708 - val_root_mean_squared_error: 0.2661\n",
            "Epoch 71/100\n",
            "7/7 [==============================] - 0s 6ms/step - loss: 0.0412 - root_mean_squared_error: 0.2029 - val_loss: 0.0711 - val_root_mean_squared_error: 0.2667\n",
            "Epoch 72/100\n",
            "7/7 [==============================] - 0s 6ms/step - loss: 0.0407 - root_mean_squared_error: 0.2018 - val_loss: 0.0714 - val_root_mean_squared_error: 0.2672\n",
            "Epoch 73/100\n",
            "7/7 [==============================] - 0s 6ms/step - loss: 0.0403 - root_mean_squared_error: 0.2007 - val_loss: 0.0714 - val_root_mean_squared_error: 0.2673\n",
            "Epoch 74/100\n",
            "7/7 [==============================] - 0s 6ms/step - loss: 0.0398 - root_mean_squared_error: 0.1996 - val_loss: 0.0720 - val_root_mean_squared_error: 0.2682\n",
            "Epoch 75/100\n",
            "7/7 [==============================] - 0s 6ms/step - loss: 0.0393 - root_mean_squared_error: 0.1984 - val_loss: 0.0722 - val_root_mean_squared_error: 0.2686\n",
            "Epoch 76/100\n",
            "7/7 [==============================] - 0s 6ms/step - loss: 0.0389 - root_mean_squared_error: 0.1972 - val_loss: 0.0724 - val_root_mean_squared_error: 0.2691\n",
            "Epoch 77/100\n",
            "7/7 [==============================] - 0s 5ms/step - loss: 0.0384 - root_mean_squared_error: 0.1959 - val_loss: 0.0731 - val_root_mean_squared_error: 0.2704\n",
            "Epoch 78/100\n",
            "7/7 [==============================] - 0s 5ms/step - loss: 0.0379 - root_mean_squared_error: 0.1946 - val_loss: 0.0732 - val_root_mean_squared_error: 0.2705\n",
            "Epoch 79/100\n",
            "7/7 [==============================] - 0s 6ms/step - loss: 0.0373 - root_mean_squared_error: 0.1932 - val_loss: 0.0735 - val_root_mean_squared_error: 0.2711\n",
            "Epoch 80/100\n",
            "7/7 [==============================] - 0s 6ms/step - loss: 0.0369 - root_mean_squared_error: 0.1920 - val_loss: 0.0741 - val_root_mean_squared_error: 0.2723\n",
            "Epoch 81/100\n",
            "7/7 [==============================] - 0s 5ms/step - loss: 0.0363 - root_mean_squared_error: 0.1905 - val_loss: 0.0750 - val_root_mean_squared_error: 0.2739\n",
            "Epoch 82/100\n",
            "7/7 [==============================] - 0s 5ms/step - loss: 0.0357 - root_mean_squared_error: 0.1889 - val_loss: 0.0750 - val_root_mean_squared_error: 0.2738\n",
            "Epoch 83/100\n",
            "7/7 [==============================] - 0s 5ms/step - loss: 0.0351 - root_mean_squared_error: 0.1874 - val_loss: 0.0755 - val_root_mean_squared_error: 0.2748\n",
            "Epoch 84/100\n",
            "7/7 [==============================] - 0s 7ms/step - loss: 0.0345 - root_mean_squared_error: 0.1859 - val_loss: 0.0760 - val_root_mean_squared_error: 0.2756\n",
            "Epoch 85/100\n",
            "7/7 [==============================] - 0s 5ms/step - loss: 0.0339 - root_mean_squared_error: 0.1842 - val_loss: 0.0763 - val_root_mean_squared_error: 0.2763\n",
            "Epoch 86/100\n",
            "7/7 [==============================] - 0s 5ms/step - loss: 0.0335 - root_mean_squared_error: 0.1829 - val_loss: 0.0770 - val_root_mean_squared_error: 0.2775\n",
            "Epoch 87/100\n",
            "7/7 [==============================] - 0s 6ms/step - loss: 0.0328 - root_mean_squared_error: 0.1810 - val_loss: 0.0780 - val_root_mean_squared_error: 0.2793\n",
            "Epoch 88/100\n",
            "7/7 [==============================] - 0s 6ms/step - loss: 0.0322 - root_mean_squared_error: 0.1794 - val_loss: 0.0779 - val_root_mean_squared_error: 0.2790\n",
            "Epoch 89/100\n",
            "7/7 [==============================] - 0s 6ms/step - loss: 0.0315 - root_mean_squared_error: 0.1775 - val_loss: 0.0788 - val_root_mean_squared_error: 0.2808\n",
            "Epoch 90/100\n",
            "7/7 [==============================] - 0s 5ms/step - loss: 0.0310 - root_mean_squared_error: 0.1759 - val_loss: 0.0797 - val_root_mean_squared_error: 0.2822\n",
            "Epoch 91/100\n",
            "7/7 [==============================] - 0s 6ms/step - loss: 0.0302 - root_mean_squared_error: 0.1739 - val_loss: 0.0804 - val_root_mean_squared_error: 0.2835\n",
            "Epoch 92/100\n",
            "7/7 [==============================] - 0s 5ms/step - loss: 0.0297 - root_mean_squared_error: 0.1723 - val_loss: 0.0803 - val_root_mean_squared_error: 0.2835\n",
            "Epoch 93/100\n",
            "7/7 [==============================] - 0s 5ms/step - loss: 0.0290 - root_mean_squared_error: 0.1702 - val_loss: 0.0816 - val_root_mean_squared_error: 0.2857\n",
            "Epoch 94/100\n",
            "7/7 [==============================] - 0s 6ms/step - loss: 0.0284 - root_mean_squared_error: 0.1685 - val_loss: 0.0829 - val_root_mean_squared_error: 0.2879\n",
            "Epoch 95/100\n",
            "7/7 [==============================] - 0s 7ms/step - loss: 0.0278 - root_mean_squared_error: 0.1668 - val_loss: 0.0836 - val_root_mean_squared_error: 0.2891\n",
            "Epoch 96/100\n",
            "7/7 [==============================] - 0s 6ms/step - loss: 0.0272 - root_mean_squared_error: 0.1649 - val_loss: 0.0839 - val_root_mean_squared_error: 0.2896\n",
            "Epoch 97/100\n",
            "7/7 [==============================] - 0s 6ms/step - loss: 0.0267 - root_mean_squared_error: 0.1633 - val_loss: 0.0841 - val_root_mean_squared_error: 0.2899\n",
            "Epoch 98/100\n",
            "7/7 [==============================] - 0s 6ms/step - loss: 0.0261 - root_mean_squared_error: 0.1616 - val_loss: 0.0853 - val_root_mean_squared_error: 0.2920\n",
            "Epoch 99/100\n",
            "7/7 [==============================] - 0s 5ms/step - loss: 0.0255 - root_mean_squared_error: 0.1597 - val_loss: 0.0861 - val_root_mean_squared_error: 0.2934\n",
            "Epoch 100/100\n",
            "7/7 [==============================] - 0s 5ms/step - loss: 0.0249 - root_mean_squared_error: 0.1577 - val_loss: 0.0867 - val_root_mean_squared_error: 0.2945\n"
          ]
        }
      ]
    },
    {
      "cell_type": "markdown",
      "source": [
        "Mencoba Model "
      ],
      "metadata": {
        "id": "jgU97SF3mFMP"
      }
    },
    {
      "cell_type": "code",
      "source": [
        "# Test model\n",
        "y_pred = model.predict([x_test[:,0],x_test[:,1]])\n",
        "#  calculate RMSE\n",
        "rmse = np.sqrt(mean_squared_error(y_pred=y_pred, y_true=y_test))\n",
        "print('\\n\\nTesting Result With Keras Matrix-Factorization: {:.4f} RMSE'.format(rmse))"
      ],
      "metadata": {
        "id": "ojn84vMSmATs",
        "colab": {
          "base_uri": "https://localhost:8080/"
        },
        "outputId": "85217754-8e5c-4274-8831-e3ec826e5162"
      },
      "execution_count": 14,
      "outputs": [
        {
          "output_type": "stream",
          "name": "stdout",
          "text": [
            "\n",
            "\n",
            "Testing Result With Keras Matrix-Factorization: 0.2945 RMSE\n"
          ]
        }
      ]
    },
    {
      "cell_type": "code",
      "source": [
        "# Menampilkan plot loss dan validation\n",
        "\n",
        "plt.plot(history.history['root_mean_squared_error'])\n",
        "plt.plot(history.history['val_root_mean_squared_error'])\n",
        "plt.title('model_metrics')\n",
        "plt.ylabel('root_mean_squared_error')\n",
        "plt.xlabel('epoch')\n",
        "plt.ylim(ymin=0, ymax=0.5)\n",
        "plt.legend(['train', 'test'], loc='center left')\n",
        "plt.show()"
      ],
      "metadata": {
        "colab": {
          "base_uri": "https://localhost:8080/",
          "height": 295
        },
        "id": "4ycPvXqTmenX",
        "outputId": "b3390477-fa2b-4fb3-9aa2-345c418e19e4"
      },
      "execution_count": 15,
      "outputs": [
        {
          "output_type": "display_data",
          "data": {
            "text/plain": [
              "<Figure size 432x288 with 1 Axes>"
            ],
            "image/png": "[encoded data removed]"
          },
          "metadata": {
            "needs_background": "light"
          }
        }
      ]
    },
    {
      "cell_type": "markdown",
      "source": [
        "# Mulai Predicting "
      ],
      "metadata": {
        "id": "r7MMvw6mw03e"
      }
    },
    {
      "cell_type": "code",
      "source": [
        "# Menyiapkan dataframe\n",
        "place_df = place[['Place_Id','Place_Name','Category','Rating','Weekend Holiday Price']]\n",
        "place_df.columns = ['id','place_name','category','rating','price']\n",
        "df = rating.copy()\n"
      ],
      "metadata": {
        "id": "CERVflAXbwfj"
      },
      "execution_count": 16,
      "outputs": []
    },
    {
      "cell_type": "code",
      "source": [
        "user_id = df.User_Id.sample(1).iloc[0]\n",
        "place_visited_by_user = df[df.User_Id == user_id]"
      ],
      "metadata": {
        "id": "IxQfL9Fpcp5T"
      },
      "execution_count": 17,
      "outputs": []
    },
    {
      "cell_type": "code",
      "source": [
        "def dict_encoder(col, data=df):\n",
        "\n",
        "  # Mengubah kolom suatu dataframe menjadi list tanpa nilai yang sama\n",
        "  unique_val = data[col].unique().tolist()\n",
        "\n",
        "  # Melakukan encoding value kolom suatu dataframe ke angka\n",
        "  val_to_val_encoded = {x: i for i, x in enumerate(unique_val)}\n",
        "\n",
        "  # Melakukan proses encoding angka ke value dari kolom suatu dataframe\n",
        "  val_encoded_to_val = {i: x for i, x in enumerate(unique_val)}\n",
        "  return val_to_val_encoded, val_encoded_to_val"
      ],
      "metadata": {
        "id": "x98BO5xzdEjC"
      },
      "execution_count": 18,
      "outputs": []
    },
    {
      "cell_type": "code",
      "source": [
        "# Encoding Place_Id\n",
        "place_to_place_encoded, place_encoded_to_place = dict_encoder('Place_Id')\n",
        "\n",
        "# Mapping Place_Id ke dataframe place\n",
        "df['place'] = df['Place_Id'].map(place_to_place_encoded)"
      ],
      "metadata": {
        "id": "nC0RfVZZdK45"
      },
      "execution_count": 19,
      "outputs": []
    },
    {
      "cell_type": "code",
      "source": [
        "# Encoding User_Id\n",
        "user_to_user_encoded, user_encoded_to_user = dict_encoder('User_Id')\n",
        "\n",
        "# Mapping User_Id ke dataframe\n",
        "df['user'] = df['User_Id'].map(user_to_user_encoded)"
      ],
      "metadata": {
        "id": "xjerZAoedWHq"
      },
      "execution_count": 20,
      "outputs": []
    },
    {
      "cell_type": "code",
      "source": [
        "# Mendapatkan jumlah user dan place\n",
        "num_users, num_place = len(user_to_user_encoded), len(place_to_place_encoded)\n",
        " \n",
        "# Mengubah rating menjadi nilai float\n",
        "df['Place_Rating'] = df['Place_Rating'].values.astype(np.float32)\n",
        " \n",
        "# Mendapatkan nilai minimum dan maksimum rating\n",
        "min_rating, max_rating = min(df['Place_Rating']), max(df['Place_Rating'])\n",
        " \n",
        "print(f'Number of User: {num_users}, Number of Place: {num_place}, Min Rating: {min_rating}, Max Rating: {max_rating}')"
      ],
      "metadata": {
        "id": "Wj4y1oT7dRj6",
        "colab": {
          "base_uri": "https://localhost:8080/"
        },
        "outputId": "42c98b90-a7c5-4d7e-d06d-6aa5e7b6891a"
      },
      "execution_count": 21,
      "outputs": [
        {
          "output_type": "stream",
          "name": "stdout",
          "text": [
            "Number of User: 100, Number of Place: 75, Min Rating: 1.0, Max Rating: 5.0\n"
          ]
        }
      ]
    },
    {
      "cell_type": "code",
      "source": [
        "# Membuat data lokasi yang belum dikunjungi user\n",
        "place_not_visited = place_df[~place_df['id'].isin(place_visited_by_user.Place_Id.values)]['id'] \n",
        "place_not_visited = list(\n",
        "    set(place_not_visited)\n",
        "    .intersection(set(place_to_place_encoded.keys()))\n",
        ")\n",
        " \n",
        "place_not_visited = [[place_to_place_encoded.get(x)] for x in place_not_visited]\n",
        "user_encoder = user_to_user_encoded.get(user_id)\n",
        "user_place_array = np.hstack(\n",
        "    ([[user_encoder]] * len(place_not_visited), place_not_visited)\n",
        ")"
      ],
      "metadata": {
        "id": "zhXz8IYWctJM"
      },
      "execution_count": 22,
      "outputs": []
    },
    {
      "cell_type": "code",
      "source": [
        "find = model.predict([user_place_array[:,0],user_place_array[:,1]])\n",
        "rate =[]\n",
        "for i in find:\n",
        "  rate.append(i[0])\n",
        "rate = pd.Series(rate)"
      ],
      "metadata": {
        "id": "xnsg4RsnnSvQ"
      },
      "execution_count": 24,
      "outputs": []
    },
    {
      "cell_type": "markdown",
      "source": [
        "Get the recommended place -id\n"
      ],
      "metadata": {
        "id": "xKukv9TPc0D2"
      }
    },
    {
      "cell_type": "code",
      "source": [
        "top_ratings_indices = rate.argsort()[:][::-1]\n",
        "recommended_place_ids = [\n",
        "    place_encoded_to_place.get(place_not_visited[x][0]) for x in top_ratings_indices\n",
        "]\n",
        "recommended_place_ids = list(recommended_place_ids)\n",
        "print(recommended_place_ids)\n"
      ],
      "metadata": {
        "id": "zDr-oHG-ls86",
        "colab": {
          "base_uri": "https://localhost:8080/"
        },
        "outputId": "69ce7a5b-2736-46e1-dad0-f930dc3d6eee"
      },
      "execution_count": 26,
      "outputs": [
        {
          "output_type": "stream",
          "name": "stdout",
          "text": [
            "[52, 51, 74, 42, 25, 38, 20, 23, 55, 61, 62, 24, 13, 69, 22, 1, 17, 39, 71, 73, 36, 30, 4, 43, 21, 58, 60, 44, 46, 66, 10, 2, 64, 70, 11, 53, 28, 65, 27, 47, 6, 37, 15, 50, 49]\n"
          ]
        }
      ]
    },
    {
      "cell_type": "code",
      "source": [
        "model.save(\"model.h5\")"
      ],
      "metadata": {
        "id": "fyGG5eOJfwIC"
      },
      "execution_count": 25,
      "outputs": []
    },
    {
      "cell_type": "code",
      "source": [
        "print('Daftar rekomendasi untuk: {}'.format('User ' + str(user_id)))\n",
        "print('===' * 15,'\\n')\n",
        "print('----' * 15)\n",
        "print('Tempat dengan rating wisata paling tinggi dari user')\n",
        "print('----' * 15)\n",
        " \n",
        "top_place_user = (\n",
        "    place_visited_by_user.sort_values(\n",
        "        by = 'Place_Rating',\n",
        "        ascending=False\n",
        "    )\n",
        "    .head(5)\n",
        "    .Place_Id.values\n",
        ")\n",
        " \n",
        "place_df_rows = place_df[place_df['id'].isin(top_place_user)]\n",
        "for row in place_df_rows.itertuples():\n",
        "    print(row.place_name, ':', row.category)\n",
        "\n",
        "print('')\n",
        "print('----' * 15)\n",
        "print('Top 7 place recommendation')\n",
        "print('----' * 15)\n",
        " \n",
        "recommended_place = place_df[place_df['id'].isin(recommended_place_ids)]\n",
        "for row, i in zip(recommended_place.itertuples(), range(1,8)):\n",
        "    print(i,'.', row.place_name, '\\n    ', row.category, ',', 'Harga Tiket Masuk ', row.price, ',', 'Rating Wisata ', row.rating,'\\n')\n",
        "\n",
        "print('==='*15)"
      ],
      "metadata": {
        "id": "r6gThKwVdoTq",
        "colab": {
          "base_uri": "https://localhost:8080/"
        },
        "outputId": "cd022243-853a-4ef5-f0f0-1ea601264922"
      },
      "execution_count": 27,
      "outputs": [
        {
          "output_type": "stream",
          "name": "stdout",
          "text": [
            "Daftar rekomendasi untuk: User 7\n",
            "============================================= \n",
            "\n",
            "------------------------------------------------------------\n",
            "Tempat dengan rating wisata paling tinggi dari user\n",
            "------------------------------------------------------------\n",
            "Aloha Ubud Swing  : Agrowisata\n",
            "Bali Bird Park : Cagar Alam\n",
            "Watersport Tanjung Benoa Bali : Alam\n",
            "Tirta Gangga : Religius\n",
            "Wisata Agro Teba Sari Bali : Agrowisata\n",
            "\n",
            "------------------------------------------------------------\n",
            "Top 7 place recommendation\n",
            "------------------------------------------------------------\n",
            "1 . Agrowisata Satria \n",
            "     Agrowisata , Harga Tiket Masuk  50000 , Rating Wisata  3.0 \n",
            "\n",
            "2 . Agung Bali \n",
            "     Belanja , Harga Tiket Masuk  0 , Rating Wisata  4.0 \n",
            "\n",
            "3 . Air Terjun Aling-Aling \n",
            "     Alam , Harga Tiket Masuk  20000 , Rating Wisata  4.5 \n",
            "\n",
            "4 . Air Terjun Tukad Cepung \n",
            "     Alam , Harga Tiket Masuk  15000 , Rating Wisata  4.5 \n",
            "\n",
            "5 . Bali Swing \n",
            "     Rekreasi , Harga Tiket Masuk  500000 , Rating Wisata  4.5 \n",
            "\n",
            "6 . Batik Koleksi Sari Amerta \n",
            "     Budaya , Harga Tiket Masuk  0 , Rating Wisata  3.5 \n",
            "\n",
            "7 . Bukit Wanagiri \n",
            "     Alam , Harga Tiket Masuk  50000 , Rating Wisata  4.5 \n",
            "\n",
            "=============================================\n"
          ]
        }
      ]
    },
    {
      "cell_type": "code",
      "source": [
        ""
      ],
      "metadata": {
        "id": "kixsEpXqUFao"
      },
      "execution_count": null,
      "outputs": []
    }
  ],
  "metadata": {
    "colab": {
      "name": "Deep Learning - Collaborative Filtering",
      "provenance": [],
      "collapsed_sections": [],
      "include_colab_link": true
    },
    "kernelspec": {
      "display_name": "Python 3",
      "name": "python3"
    },
    "language_info": {
      "name": "python"
    }
  },
  "nbformat": 4,
  "nbformat_minor": 0
}