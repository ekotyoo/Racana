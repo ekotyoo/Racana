{
  "cells": [
    {
      "cell_type": "markdown",
      "metadata": {
        "colab_type": "text",
        "id": "view-in-github"
      },
      "source": [
        "<a href=\"https://colab.research.google.com/github/ekotyoo/Racana/blob/Machine_Learning/Deep_Learning.ipynb\" target=\"_parent\"><img src=\"https://colab.research.google.com/assets/colab-badge.svg\" alt=\"Open In Colab\"/></a>"
      ]
    },
    {
      "cell_type": "code",
      "execution_count": 1,
      "metadata": {
        "id": "bH9YiybYKQGt"
      },
      "outputs": [],
      "source": [
        "import numpy as np\n",
        "import pandas as pd \n",
        "import matplotlib.pyplot as plt\n",
        "import tensorflow as tf\n",
        "\n",
        "from tensorflow import keras\n",
        "from collections import deque\n",
        "from keras.layers import Input, Embedding, Reshape, Dot, Concatenate, Dense, Dropout\n",
        "from keras.models import Model\n",
        "# from pydrive.auth import GoogleAuth\n",
        "# from pydrive.drive import GoogleDrive\n",
        "# from google.colab import auth\n",
        "# from oauth2client.client import GoogleCredentials\n",
        "from sklearn.metrics import mean_squared_error\n",
        "\n"
      ]
    },
    {
      "cell_type": "code",
      "execution_count": 2,
      "metadata": {
        "id": "_S_H03Utmp6P"
      },
      "outputs": [],
      "source": [
        "# from pydrive.auth import GoogleAuth\n",
        "# from pydrive.drive import GoogleDrive\n",
        "# from google.colab import auth\n",
        "# from oauth2client.client import GoogleCredentials\n",
        "\n",
        "\n",
        "# # Authenticate and create the PyDrive client.\n",
        "# auth.authenticate_user()\n",
        "# gauth = GoogleAuth()\n",
        "# gauth.credentials = GoogleCredentials.get_application_default()\n",
        "# drive = GoogleDrive(gauth)"
      ]
    },
    {
      "cell_type": "markdown",
      "metadata": {
        "id": "6uHhOP7mf9ep"
      },
      "source": [
        "#Preparing Data Set\n",
        "memasukan data tempat wisata"
      ]
    },
    {
      "cell_type": "code",
      "execution_count": 3,
      "metadata": {
        "colab": {
          "base_uri": "https://localhost:8080/"
        },
        "id": "dqga60XJk6Rb",
        "outputId": "d7d22056-78cb-41a0-9939-adf616715fbd"
      },
      "outputs": [
        {
          "name": "stdout",
          "output_type": "stream",
          "text": [
            "    Place_Id                     Place_Name  \\\n",
            "0          1              Agrowisata Satria   \n",
            "1          2                     Agung Bali   \n",
            "2          3  Wisata Air Panas Toya Bungkah   \n",
            "3          4         Air Terjun Aling-Aling   \n",
            "4          5          Air Terjun Tegenungan   \n",
            "..       ...                            ...   \n",
            "70        71         Teras Sawah Tegalalang   \n",
            "71        72                   Tirta Gangga   \n",
            "72        73                  Waterbom Bali   \n",
            "73        74       Alas Harum Agro Tourism    \n",
            "74        75     Wisata Agro Teba Sari Bali   \n",
            "\n",
            "                                          Description  Weekend Holiday Price  \\\n",
            "0   Agrowisata Satria menawarkan 'rasa' Bali pada ...                  50000   \n",
            "1   Dapatkan berbagai produk oleh-oleh khas Bali b...                      0   \n",
            "2   Pemandian air panas di dekat gunung Batur (Pem...                  70000   \n",
            "3   Keberadaan air terjun ini semakin mempercantik...                  20000   \n",
            "4   Bosan dengan wisata alam pantai dan ingin meni...                  20000   \n",
            "..                                                ...                    ...   \n",
            "70  Uniknya Tegallalang Rice Terrace di Bali ini, ...                  10000   \n",
            "71  Ada tiga hal utama yang ada di taman Tirta Gan...                  25000   \n",
            "72  Waterbom merupakan sebuah oase di jantung kawa...                 289000   \n",
            "73  Alas Harum Bali merupakan destinasi wisata yan...                  10000   \n",
            "74  Dalam kawasan Wisata Agro Teba Sari Bali, peng...                      0   \n",
            "\n",
            "    Weekday Price    Category        City  Rating  \\\n",
            "0           50000  Agrowisata     Gianyar     3.0   \n",
            "1               0     Belanja      Badung     4.0   \n",
            "2           70000        Alam      Bangli     4.0   \n",
            "3           20000        Alam    Buleleng     4.5   \n",
            "4           20000        Alam     Gianyar     4.0   \n",
            "..            ...         ...         ...     ...   \n",
            "70          10000  Agrowisata     Gianyar     4.0   \n",
            "71          25000    Religius  Karangasem     4.5   \n",
            "72         289000    Rekreasi      Badung     4.5   \n",
            "73          10000  Agrowisata     Gianyar     4.0   \n",
            "74              0  Agrowisata     Gianyar     4.0   \n",
            "\n",
            "                                               Alamat  \\\n",
            "0    Manukaya, Kec. Tampaksiring, Kabupaten Gianya...   \n",
            "1           Jln. Dewi Sri No.18XX, Kuta, Badung, Bali   \n",
            "2   Batur Tengah, Kec. Kintamani, Kabupaten Bangli...   \n",
            "3   Jl. Raya Desa Sambangan, Banjar, Sambangan, Ke...   \n",
            "4   Jl. Ir. Sutami, Kemenuh, Kec. Sukawati, Kabupa...   \n",
            "..                                                ...   \n",
            "70  Jl. Raya Tegallalang, Tegallalang, Kec. Tegall...   \n",
            "71  Jalan Raya Abang Desa Adat, Ababi, Kec. Abang,...   \n",
            "72  Jl. Kartika Plaza, Tuban, Kec. Kuta, Kabupaten...   \n",
            "73  Jl. Raya Tegallalang, Tegallalang, Kec. Tegall...   \n",
            "74  Jl. Tegal Utu, Lodtunduh, Kecamatan Ubud, Kabu...   \n",
            "\n",
            "                                Coordinate       Lat        Long Gambar  \n",
            "0   -8.402228546131536, 115.32296693687739 -8.402229  115.322967      V  \n",
            "1     -8.700234336021559, 115.176534407375 -8.700234  115.176534      V  \n",
            "2   -8.251298580809106, 115.39981444195475 -8.251299  115.399814      V  \n",
            "3   -8.173073590748519, 115.10513024047802 -8.173074  115.105130      V  \n",
            "4   -8.575191460385602, 115.28870189592831 -8.575191  115.288702      V  \n",
            "..                                     ...       ...         ...    ...  \n",
            "70  -8.433891714602193, 115.27918179571854 -8.433892  115.279182      V  \n",
            "71  -8.412071345387545, 115.58728116872855 -8.412071  115.587281      V  \n",
            "72   -8.72828817001415, 115.16934211106027 -8.728288  115.169342      V  \n",
            "73   -8.43969896624251, 115.28060749756382 -8.439699  115.280608      V  \n",
            "74  -8.547239248722546, 115.25742069756434 -8.547239  115.257421      V  \n",
            "\n",
            "[75 rows x 13 columns]\n"
          ]
        }
      ],
      "source": [
        "place = pd.read_csv('Dataset - tourismBali.csv')\n",
        "print(place)\n"
      ]
    },
    {
      "cell_type": "markdown",
      "metadata": {
        "id": "wsVXqQoxq9Xq"
      },
      "source": [
        "Memasukkan data rating"
      ]
    },
    {
      "cell_type": "code",
      "execution_count": 4,
      "metadata": {
        "colab": {
          "base_uri": "https://localhost:8080/",
          "height": 206
        },
        "id": "3R-KWY8zp9Iz",
        "outputId": "d9922a46-4f70-4795-8c45-23501dd5d79d"
      },
      "outputs": [
        {
          "data": {
            "text/html": [
              "<div>\n",
              "<style scoped>\n",
              "    .dataframe tbody tr th:only-of-type {\n",
              "        vertical-align: middle;\n",
              "    }\n",
              "\n",
              "    .dataframe tbody tr th {\n",
              "        vertical-align: top;\n",
              "    }\n",
              "\n",
              "    .dataframe thead th {\n",
              "        text-align: right;\n",
              "    }\n",
              "</style>\n",
              "<table border=\"1\" class=\"dataframe\">\n",
              "  <thead>\n",
              "    <tr style=\"text-align: right;\">\n",
              "      <th></th>\n",
              "      <th>User_Id</th>\n",
              "      <th>Place_Id</th>\n",
              "      <th>Nama Tempat</th>\n",
              "      <th>Place_Rating</th>\n",
              "    </tr>\n",
              "  </thead>\n",
              "  <tbody>\n",
              "    <tr>\n",
              "      <th>0</th>\n",
              "      <td>1</td>\n",
              "      <td>2</td>\n",
              "      <td>Agung Bali Oleh-Oleh</td>\n",
              "      <td>3</td>\n",
              "    </tr>\n",
              "    <tr>\n",
              "      <th>1</th>\n",
              "      <td>1</td>\n",
              "      <td>7</td>\n",
              "      <td>Aloha Ubud Swing</td>\n",
              "      <td>5</td>\n",
              "    </tr>\n",
              "    <tr>\n",
              "      <th>2</th>\n",
              "      <td>1</td>\n",
              "      <td>8</td>\n",
              "      <td>Bali Bird Park</td>\n",
              "      <td>5</td>\n",
              "    </tr>\n",
              "    <tr>\n",
              "      <th>3</th>\n",
              "      <td>1</td>\n",
              "      <td>12</td>\n",
              "      <td>Big Garden Corner</td>\n",
              "      <td>2</td>\n",
              "    </tr>\n",
              "    <tr>\n",
              "      <th>4</th>\n",
              "      <td>1</td>\n",
              "      <td>13</td>\n",
              "      <td>Wanagiri Hidden Hills</td>\n",
              "      <td>5</td>\n",
              "    </tr>\n",
              "  </tbody>\n",
              "</table>\n",
              "</div>"
            ],
            "text/plain": [
              "   User_Id  Place_Id            Nama Tempat  Place_Rating\n",
              "0        1         2   Agung Bali Oleh-Oleh             3\n",
              "1        1         7       Aloha Ubud Swing             5\n",
              "2        1         8         Bali Bird Park             5\n",
              "3        1        12      Big Garden Corner             2\n",
              "4        1        13  Wanagiri Hidden Hills             5"
            ]
          },
          "execution_count": 4,
          "metadata": {},
          "output_type": "execute_result"
        }
      ],
      "source": [
        "rating = pd.read_csv('Dataset - Rating.csv')\n",
        "rating.head()"
      ]
    },
    {
      "cell_type": "markdown",
      "metadata": {
        "id": "D_UfiWLNgZOR"
      },
      "source": [
        "Filtering data rating"
      ]
    },
    {
      "cell_type": "code",
      "execution_count": 5,
      "metadata": {
        "colab": {
          "base_uri": "https://localhost:8080/"
        },
        "id": "6ntwu5LPA_MV",
        "outputId": "f5f146f1-abc9-4d8e-e996-25817d3819fb"
      },
      "outputs": [
        {
          "name": "stdout",
          "output_type": "stream",
          "text": [
            "Shape User-Ratings unfiltered:\t(3000, 4)\n",
            "Shape User-Ratings filtered:\t(2250, 4)\n"
          ]
        }
      ],
      "source": [
        "min_place_rating = 10\n",
        "filter_place = (rating[\"Place_Id\"].value_counts()>min_place_rating)\n",
        "filter_place = filter_place[filter_place].index.tolist()\n",
        "\n",
        "min_user_rating = 10\n",
        "filter_user = (rating[\"User_Id\"].value_counts()>min_user_rating)\n",
        "filter_user = filter_user[filter_user].index.tolist()\n",
        "\n",
        "data_filtered = rating[(rating[\"Place_Id\"].isin(filter_place)) & \n",
        "                       (rating[\"User_Id\"].isin(filter_place))]\n",
        "del filter_place,filter_user,min_place_rating,min_user_rating\n",
        "print('Shape User-Ratings unfiltered:\\t{}'.format(rating.shape))\n",
        "print('Shape User-Ratings filtered:\\t{}'.format(data_filtered.shape))"
      ]
    },
    {
      "cell_type": "markdown",
      "metadata": {
        "id": "CgAIxb94gjPm"
      },
      "source": [
        "Membagi data set menjadi train dan test"
      ]
    },
    {
      "cell_type": "code",
      "execution_count": 6,
      "metadata": {
        "id": "bn09UsamB1Yu"
      },
      "outputs": [],
      "source": [
        "data_filtered = data_filtered.sample(frac=1).reset_index(drop=True)\n",
        "\n",
        "n =500\n",
        "\n",
        "df_train = data_filtered[:-n]\n",
        "df_test = data_filtered[-n:]"
      ]
    },
    {
      "cell_type": "markdown",
      "metadata": {
        "id": "AAtTULCkdHgn"
      },
      "source": [
        "#Deep Learning With Keras\n",
        "With its embedding layers this is similar to the matrix factorization approach above, but instead of using a fixed dot-product as recommendation we will utilize some dense layers so the network can find better combinations."
      ]
    },
    {
      "cell_type": "code",
      "execution_count": 7,
      "metadata": {
        "id": "Lx56pp6FbVDi"
      },
      "outputs": [],
      "source": [
        "# Mapping user dan place id\n",
        "user_mapping = {id:i for i, id in enumerate(data_filtered['User_Id'].unique())}\n",
        "place_mapping = {id:i for i, id in enumerate(data_filtered['Place_Id'].unique())}\n",
        "\n",
        "\n",
        "# Membagi data berdasarkan mapping\n",
        "train_user = df_train['User_Id'].map(user_mapping)\n",
        "train_place = df_train['Place_Id'].map(place_mapping)\n",
        "\n",
        "test_user = df_test['User_Id'].map(user_mapping)\n",
        "test_place = df_test['Place_Id'].map(place_mapping)\n",
        "\n",
        "# Atur Variabel\n",
        "user_embedding_size = 20\n",
        "place_embedding_size = 10\n",
        "\n",
        "# Masukin parameter\n",
        "users = len(user_mapping)\n",
        "places = len(place_mapping)\n",
        "embedding_size = 10\n"
      ]
    },
    {
      "cell_type": "markdown",
      "metadata": {
        "id": "U8VW6cvRlhJ_"
      },
      "source": [
        "Mulai Pembuatan Model"
      ]
    },
    {
      "cell_type": "code",
      "execution_count": 8,
      "metadata": {
        "id": "2ZfkAY5Tld76"
      },
      "outputs": [],
      "source": [
        "\n",
        "\n",
        "#Mengatur input layer\n",
        "user_id_input = Input(shape=[1], name='user')\n",
        "place_id_input = Input(shape=[1], name='place')\n",
        "\n",
        "# Membuat Embedding layer\n",
        "user_embedding = Embedding(output_dim=user_embedding_size, \n",
        "                           input_dim=users,\n",
        "                           input_length=1, \n",
        "                           name='user_embedding')(user_id_input)\n",
        "place_embedding = Embedding(output_dim=place_embedding_size, \n",
        "                            input_dim=places,\n",
        "                            input_length=1, \n",
        "                            name='item_embedding')(place_id_input)\n",
        "\n",
        "# Reshape embedding layers yang sudah dibuat\n",
        "user_vector = Reshape([user_embedding_size])(user_embedding)\n",
        "place_vector = Reshape([place_embedding_size])(place_embedding)\n",
        "\n",
        "# Di concate supaya bisa jadi 1 list\n",
        "concat = Concatenate()([user_vector, place_vector])\n",
        "\n",
        "# masukin dense layer\n",
        "fc1 = Dense(64, activation='relu')(concat)\n",
        "y = Dense(1)(fc1)\n",
        "\n"
      ]
    },
    {
      "cell_type": "code",
      "execution_count": 9,
      "metadata": {
        "colab": {
          "base_uri": "https://localhost:8080/"
        },
        "id": "ZD3lJ7lsl5lO",
        "outputId": "1f2a43bc-af13-4045-f2f7-34f548d8c71f"
      },
      "outputs": [
        {
          "name": "stdout",
          "output_type": "stream",
          "text": [
            "Epoch 1/100\n",
            "7/7 [==============================] - 1s 68ms/step - loss: 17.9800 - root_mean_squared_error: 4.2403 - val_loss: 16.9795 - val_root_mean_squared_error: 4.1206\n",
            "Epoch 2/100\n",
            "7/7 [==============================] - 0s 9ms/step - loss: 17.4273 - root_mean_squared_error: 4.1746 - val_loss: 16.4145 - val_root_mean_squared_error: 4.0515\n",
            "Epoch 3/100\n",
            "7/7 [==============================] - 0s 15ms/step - loss: 16.7961 - root_mean_squared_error: 4.0983 - val_loss: 15.7201 - val_root_mean_squared_error: 3.9649\n",
            "Epoch 4/100\n",
            "7/7 [==============================] - 0s 12ms/step - loss: 16.0025 - root_mean_squared_error: 4.0003 - val_loss: 14.8310 - val_root_mean_squared_error: 3.8511\n",
            "Epoch 5/100\n",
            "7/7 [==============================] - 0s 9ms/step - loss: 14.9861 - root_mean_squared_error: 3.8712 - val_loss: 13.6886 - val_root_mean_squared_error: 3.6998\n",
            "Epoch 6/100\n",
            "7/7 [==============================] - 0s 13ms/step - loss: 13.6845 - root_mean_squared_error: 3.6993 - val_loss: 12.2580 - val_root_mean_squared_error: 3.5011\n",
            "Epoch 7/100\n",
            "7/7 [==============================] - 0s 12ms/step - loss: 12.0952 - root_mean_squared_error: 3.4778 - val_loss: 10.5547 - val_root_mean_squared_error: 3.2488\n",
            "Epoch 8/100\n",
            "7/7 [==============================] - 0s 16ms/step - loss: 10.2281 - root_mean_squared_error: 3.1981 - val_loss: 8.6373 - val_root_mean_squared_error: 2.9389\n",
            "Epoch 9/100\n",
            "7/7 [==============================] - 0s 16ms/step - loss: 8.1704 - root_mean_squared_error: 2.8584 - val_loss: 6.6247 - val_root_mean_squared_error: 2.5738\n",
            "Epoch 10/100\n",
            "7/7 [==============================] - 0s 13ms/step - loss: 6.0720 - root_mean_squared_error: 2.4642 - val_loss: 4.6883 - val_root_mean_squared_error: 2.1652\n",
            "Epoch 11/100\n",
            "7/7 [==============================] - 0s 13ms/step - loss: 4.1287 - root_mean_squared_error: 2.0319 - val_loss: 3.0640 - val_root_mean_squared_error: 1.7504\n",
            "Epoch 12/100\n",
            "7/7 [==============================] - 0s 11ms/step - loss: 2.5563 - root_mean_squared_error: 1.5988 - val_loss: 1.9467 - val_root_mean_squared_error: 1.3952\n",
            "Epoch 13/100\n",
            "7/7 [==============================] - 0s 13ms/step - loss: 1.5599 - root_mean_squared_error: 1.2490 - val_loss: 1.3934 - val_root_mean_squared_error: 1.1804\n",
            "Epoch 14/100\n",
            "7/7 [==============================] - 0s 14ms/step - loss: 1.1310 - root_mean_squared_error: 1.0635 - val_loss: 1.2756 - val_root_mean_squared_error: 1.1294\n",
            "Epoch 15/100\n",
            "7/7 [==============================] - 0s 10ms/step - loss: 1.0390 - root_mean_squared_error: 1.0193 - val_loss: 1.3091 - val_root_mean_squared_error: 1.1441\n",
            "Epoch 16/100\n",
            "7/7 [==============================] - 0s 10ms/step - loss: 1.0444 - root_mean_squared_error: 1.0220 - val_loss: 1.3115 - val_root_mean_squared_error: 1.1452\n",
            "Epoch 17/100\n",
            "7/7 [==============================] - 0s 9ms/step - loss: 1.0131 - root_mean_squared_error: 1.0065 - val_loss: 1.2611 - val_root_mean_squared_error: 1.1230\n",
            "Epoch 18/100\n",
            "7/7 [==============================] - 0s 9ms/step - loss: 0.9644 - root_mean_squared_error: 0.9820 - val_loss: 1.2161 - val_root_mean_squared_error: 1.1028\n",
            "Epoch 19/100\n",
            "7/7 [==============================] - 0s 16ms/step - loss: 0.9340 - root_mean_squared_error: 0.9664 - val_loss: 1.1942 - val_root_mean_squared_error: 1.0928\n",
            "Epoch 20/100\n",
            "7/7 [==============================] - 0s 12ms/step - loss: 0.9181 - root_mean_squared_error: 0.9582 - val_loss: 1.1805 - val_root_mean_squared_error: 1.0865\n",
            "Epoch 21/100\n",
            "7/7 [==============================] - 0s 8ms/step - loss: 0.9077 - root_mean_squared_error: 0.9527 - val_loss: 1.1762 - val_root_mean_squared_error: 1.0845\n",
            "Epoch 22/100\n",
            "7/7 [==============================] - 0s 13ms/step - loss: 0.8982 - root_mean_squared_error: 0.9477 - val_loss: 1.1741 - val_root_mean_squared_error: 1.0835\n",
            "Epoch 23/100\n",
            "7/7 [==============================] - 0s 17ms/step - loss: 0.8891 - root_mean_squared_error: 0.9429 - val_loss: 1.1743 - val_root_mean_squared_error: 1.0836\n",
            "Epoch 24/100\n",
            "7/7 [==============================] - 0s 9ms/step - loss: 0.8833 - root_mean_squared_error: 0.9398 - val_loss: 1.1739 - val_root_mean_squared_error: 1.0835\n",
            "Epoch 25/100\n",
            "7/7 [==============================] - 0s 14ms/step - loss: 0.8795 - root_mean_squared_error: 0.9378 - val_loss: 1.1739 - val_root_mean_squared_error: 1.0835\n",
            "Epoch 26/100\n",
            "7/7 [==============================] - 0s 16ms/step - loss: 0.8765 - root_mean_squared_error: 0.9362 - val_loss: 1.1729 - val_root_mean_squared_error: 1.0830\n",
            "Epoch 27/100\n",
            "7/7 [==============================] - 0s 13ms/step - loss: 0.8739 - root_mean_squared_error: 0.9348 - val_loss: 1.1717 - val_root_mean_squared_error: 1.0825\n",
            "Epoch 28/100\n",
            "7/7 [==============================] - 0s 8ms/step - loss: 0.8716 - root_mean_squared_error: 0.9336 - val_loss: 1.1736 - val_root_mean_squared_error: 1.0833\n",
            "Epoch 29/100\n",
            "7/7 [==============================] - 0s 8ms/step - loss: 0.8679 - root_mean_squared_error: 0.9316 - val_loss: 1.1755 - val_root_mean_squared_error: 1.0842\n",
            "Epoch 30/100\n",
            "7/7 [==============================] - 0s 13ms/step - loss: 0.8671 - root_mean_squared_error: 0.9312 - val_loss: 1.1708 - val_root_mean_squared_error: 1.0820\n",
            "Epoch 31/100\n",
            "7/7 [==============================] - 0s 14ms/step - loss: 0.8652 - root_mean_squared_error: 0.9302 - val_loss: 1.1711 - val_root_mean_squared_error: 1.0822\n",
            "Epoch 32/100\n",
            "7/7 [==============================] - 0s 16ms/step - loss: 0.8640 - root_mean_squared_error: 0.9295 - val_loss: 1.1742 - val_root_mean_squared_error: 1.0836\n",
            "Epoch 33/100\n",
            "7/7 [==============================] - 0s 14ms/step - loss: 0.8630 - root_mean_squared_error: 0.9290 - val_loss: 1.1780 - val_root_mean_squared_error: 1.0854\n",
            "Epoch 34/100\n",
            "7/7 [==============================] - 0s 13ms/step - loss: 0.8626 - root_mean_squared_error: 0.9287 - val_loss: 1.1809 - val_root_mean_squared_error: 1.0867\n",
            "Epoch 35/100\n",
            "7/7 [==============================] - 0s 13ms/step - loss: 0.8624 - root_mean_squared_error: 0.9287 - val_loss: 1.1755 - val_root_mean_squared_error: 1.0842\n",
            "Epoch 36/100\n",
            "7/7 [==============================] - 0s 13ms/step - loss: 0.8610 - root_mean_squared_error: 0.9279 - val_loss: 1.1679 - val_root_mean_squared_error: 1.0807\n",
            "Epoch 37/100\n",
            "7/7 [==============================] - 0s 14ms/step - loss: 0.8613 - root_mean_squared_error: 0.9281 - val_loss: 1.1636 - val_root_mean_squared_error: 1.0787\n",
            "Epoch 38/100\n",
            "7/7 [==============================] - 0s 11ms/step - loss: 0.8603 - root_mean_squared_error: 0.9275 - val_loss: 1.1659 - val_root_mean_squared_error: 1.0798\n",
            "Epoch 39/100\n",
            "7/7 [==============================] - 0s 7ms/step - loss: 0.8607 - root_mean_squared_error: 0.9277 - val_loss: 1.1695 - val_root_mean_squared_error: 1.0814\n",
            "Epoch 40/100\n",
            "7/7 [==============================] - 0s 7ms/step - loss: 0.8606 - root_mean_squared_error: 0.9277 - val_loss: 1.1660 - val_root_mean_squared_error: 1.0798\n",
            "Epoch 41/100\n",
            "7/7 [==============================] - 0s 6ms/step - loss: 0.8612 - root_mean_squared_error: 0.9280 - val_loss: 1.1687 - val_root_mean_squared_error: 1.0811\n",
            "Epoch 42/100\n",
            "7/7 [==============================] - 0s 9ms/step - loss: 0.8609 - root_mean_squared_error: 0.9279 - val_loss: 1.1706 - val_root_mean_squared_error: 1.0820\n",
            "Epoch 43/100\n",
            "7/7 [==============================] - 0s 12ms/step - loss: 0.8604 - root_mean_squared_error: 0.9276 - val_loss: 1.1696 - val_root_mean_squared_error: 1.0815\n",
            "Epoch 44/100\n",
            "7/7 [==============================] - 0s 13ms/step - loss: 0.8606 - root_mean_squared_error: 0.9277 - val_loss: 1.1665 - val_root_mean_squared_error: 1.0801\n",
            "Epoch 45/100\n",
            "7/7 [==============================] - 0s 13ms/step - loss: 0.8597 - root_mean_squared_error: 0.9272 - val_loss: 1.1691 - val_root_mean_squared_error: 1.0813\n",
            "Epoch 46/100\n",
            "7/7 [==============================] - 0s 14ms/step - loss: 0.8602 - root_mean_squared_error: 0.9275 - val_loss: 1.1716 - val_root_mean_squared_error: 1.0824\n",
            "Epoch 47/100\n",
            "7/7 [==============================] - 0s 16ms/step - loss: 0.8592 - root_mean_squared_error: 0.9269 - val_loss: 1.1727 - val_root_mean_squared_error: 1.0829\n",
            "Epoch 48/100\n",
            "7/7 [==============================] - 0s 14ms/step - loss: 0.8598 - root_mean_squared_error: 0.9273 - val_loss: 1.1715 - val_root_mean_squared_error: 1.0824\n",
            "Epoch 49/100\n",
            "7/7 [==============================] - 0s 13ms/step - loss: 0.8592 - root_mean_squared_error: 0.9269 - val_loss: 1.1675 - val_root_mean_squared_error: 1.0805\n",
            "Epoch 50/100\n",
            "7/7 [==============================] - 0s 12ms/step - loss: 0.8595 - root_mean_squared_error: 0.9271 - val_loss: 1.1648 - val_root_mean_squared_error: 1.0793\n",
            "Epoch 51/100\n",
            "7/7 [==============================] - 0s 15ms/step - loss: 0.8603 - root_mean_squared_error: 0.9275 - val_loss: 1.1685 - val_root_mean_squared_error: 1.0810\n",
            "Epoch 52/100\n",
            "7/7 [==============================] - 0s 13ms/step - loss: 0.8604 - root_mean_squared_error: 0.9276 - val_loss: 1.1715 - val_root_mean_squared_error: 1.0823\n",
            "Epoch 53/100\n",
            "7/7 [==============================] - 0s 10ms/step - loss: 0.8606 - root_mean_squared_error: 0.9277 - val_loss: 1.1733 - val_root_mean_squared_error: 1.0832\n",
            "Epoch 54/100\n",
            "7/7 [==============================] - 0s 13ms/step - loss: 0.8605 - root_mean_squared_error: 0.9276 - val_loss: 1.1772 - val_root_mean_squared_error: 1.0850\n",
            "Epoch 55/100\n",
            "7/7 [==============================] - 0s 14ms/step - loss: 0.8599 - root_mean_squared_error: 0.9273 - val_loss: 1.1845 - val_root_mean_squared_error: 1.0884\n",
            "Epoch 56/100\n",
            "7/7 [==============================] - 0s 14ms/step - loss: 0.8602 - root_mean_squared_error: 0.9275 - val_loss: 1.1867 - val_root_mean_squared_error: 1.0894\n",
            "Epoch 57/100\n",
            "7/7 [==============================] - 0s 15ms/step - loss: 0.8595 - root_mean_squared_error: 0.9271 - val_loss: 1.1878 - val_root_mean_squared_error: 1.0899\n",
            "Epoch 58/100\n",
            "7/7 [==============================] - 0s 15ms/step - loss: 0.8596 - root_mean_squared_error: 0.9271 - val_loss: 1.1851 - val_root_mean_squared_error: 1.0886\n",
            "Epoch 59/100\n",
            "7/7 [==============================] - 0s 14ms/step - loss: 0.8582 - root_mean_squared_error: 0.9264 - val_loss: 1.1777 - val_root_mean_squared_error: 1.0852\n",
            "Epoch 60/100\n",
            "7/7 [==============================] - 0s 14ms/step - loss: 0.8595 - root_mean_squared_error: 0.9271 - val_loss: 1.1819 - val_root_mean_squared_error: 1.0871\n",
            "Epoch 61/100\n",
            "7/7 [==============================] - 0s 15ms/step - loss: 0.8592 - root_mean_squared_error: 0.9269 - val_loss: 1.1869 - val_root_mean_squared_error: 1.0894\n",
            "Epoch 62/100\n",
            "7/7 [==============================] - 0s 14ms/step - loss: 0.8598 - root_mean_squared_error: 0.9272 - val_loss: 1.1882 - val_root_mean_squared_error: 1.0901\n",
            "Epoch 63/100\n",
            "7/7 [==============================] - 0s 7ms/step - loss: 0.8603 - root_mean_squared_error: 0.9275 - val_loss: 1.1875 - val_root_mean_squared_error: 1.0897\n",
            "Epoch 64/100\n",
            "7/7 [==============================] - 0s 6ms/step - loss: 0.8599 - root_mean_squared_error: 0.9273 - val_loss: 1.1838 - val_root_mean_squared_error: 1.0880\n",
            "Epoch 65/100\n",
            "7/7 [==============================] - 0s 8ms/step - loss: 0.8601 - root_mean_squared_error: 0.9274 - val_loss: 1.1822 - val_root_mean_squared_error: 1.0873\n",
            "Epoch 66/100\n",
            "7/7 [==============================] - 0s 11ms/step - loss: 0.8590 - root_mean_squared_error: 0.9268 - val_loss: 1.1820 - val_root_mean_squared_error: 1.0872\n",
            "Epoch 67/100\n",
            "7/7 [==============================] - 0s 14ms/step - loss: 0.8593 - root_mean_squared_error: 0.9270 - val_loss: 1.1798 - val_root_mean_squared_error: 1.0862\n",
            "Epoch 68/100\n",
            "7/7 [==============================] - 0s 14ms/step - loss: 0.8588 - root_mean_squared_error: 0.9267 - val_loss: 1.1759 - val_root_mean_squared_error: 1.0844\n",
            "Epoch 69/100\n",
            "7/7 [==============================] - 0s 13ms/step - loss: 0.8590 - root_mean_squared_error: 0.9268 - val_loss: 1.1735 - val_root_mean_squared_error: 1.0833\n",
            "Epoch 70/100\n",
            "7/7 [==============================] - 0s 14ms/step - loss: 0.8604 - root_mean_squared_error: 0.9276 - val_loss: 1.1777 - val_root_mean_squared_error: 1.0852\n",
            "Epoch 71/100\n",
            "7/7 [==============================] - 0s 14ms/step - loss: 0.8604 - root_mean_squared_error: 0.9276 - val_loss: 1.1811 - val_root_mean_squared_error: 1.0868\n",
            "Epoch 72/100\n",
            "7/7 [==============================] - 0s 14ms/step - loss: 0.8617 - root_mean_squared_error: 0.9283 - val_loss: 1.1859 - val_root_mean_squared_error: 1.0890\n",
            "Epoch 73/100\n",
            "7/7 [==============================] - 0s 14ms/step - loss: 0.8618 - root_mean_squared_error: 0.9283 - val_loss: 1.1926 - val_root_mean_squared_error: 1.0921\n",
            "Epoch 74/100\n",
            "7/7 [==============================] - 0s 12ms/step - loss: 0.8612 - root_mean_squared_error: 0.9280 - val_loss: 1.1907 - val_root_mean_squared_error: 1.0912\n",
            "Epoch 75/100\n",
            "7/7 [==============================] - 0s 7ms/step - loss: 0.8604 - root_mean_squared_error: 0.9276 - val_loss: 1.1943 - val_root_mean_squared_error: 1.0928\n",
            "Epoch 76/100\n",
            "7/7 [==============================] - 0s 7ms/step - loss: 0.8598 - root_mean_squared_error: 0.9273 - val_loss: 1.1982 - val_root_mean_squared_error: 1.0946\n",
            "Epoch 77/100\n",
            "7/7 [==============================] - 0s 7ms/step - loss: 0.8601 - root_mean_squared_error: 0.9274 - val_loss: 1.1953 - val_root_mean_squared_error: 1.0933\n",
            "Epoch 78/100\n",
            "7/7 [==============================] - 0s 7ms/step - loss: 0.8607 - root_mean_squared_error: 0.9278 - val_loss: 1.1965 - val_root_mean_squared_error: 1.0938\n",
            "Epoch 79/100\n",
            "7/7 [==============================] - 0s 7ms/step - loss: 0.8602 - root_mean_squared_error: 0.9275 - val_loss: 1.2002 - val_root_mean_squared_error: 1.0955\n",
            "Epoch 80/100\n",
            "7/7 [==============================] - 0s 7ms/step - loss: 0.8605 - root_mean_squared_error: 0.9276 - val_loss: 1.2054 - val_root_mean_squared_error: 1.0979\n",
            "Epoch 81/100\n",
            "7/7 [==============================] - 0s 7ms/step - loss: 0.8607 - root_mean_squared_error: 0.9278 - val_loss: 1.2084 - val_root_mean_squared_error: 1.0993\n",
            "Epoch 82/100\n",
            "7/7 [==============================] - 0s 7ms/step - loss: 0.8616 - root_mean_squared_error: 0.9282 - val_loss: 1.2058 - val_root_mean_squared_error: 1.0981\n",
            "Epoch 83/100\n",
            "7/7 [==============================] - 0s 7ms/step - loss: 0.8620 - root_mean_squared_error: 0.9284 - val_loss: 1.1965 - val_root_mean_squared_error: 1.0938\n",
            "Epoch 84/100\n",
            "7/7 [==============================] - 0s 6ms/step - loss: 0.8607 - root_mean_squared_error: 0.9278 - val_loss: 1.2005 - val_root_mean_squared_error: 1.0957\n",
            "Epoch 85/100\n",
            "7/7 [==============================] - 0s 14ms/step - loss: 0.8604 - root_mean_squared_error: 0.9276 - val_loss: 1.2065 - val_root_mean_squared_error: 1.0984\n",
            "Epoch 86/100\n",
            "7/7 [==============================] - 0s 8ms/step - loss: 0.8601 - root_mean_squared_error: 0.9274 - val_loss: 1.2096 - val_root_mean_squared_error: 1.0998\n",
            "Epoch 87/100\n",
            "7/7 [==============================] - 0s 8ms/step - loss: 0.8608 - root_mean_squared_error: 0.9278 - val_loss: 1.2107 - val_root_mean_squared_error: 1.1003\n",
            "Epoch 88/100\n",
            "7/7 [==============================] - 0s 15ms/step - loss: 0.8609 - root_mean_squared_error: 0.9279 - val_loss: 1.2094 - val_root_mean_squared_error: 1.0997\n",
            "Epoch 89/100\n",
            "7/7 [==============================] - 0s 14ms/step - loss: 0.8608 - root_mean_squared_error: 0.9278 - val_loss: 1.2073 - val_root_mean_squared_error: 1.0988\n",
            "Epoch 90/100\n",
            "7/7 [==============================] - 0s 15ms/step - loss: 0.8601 - root_mean_squared_error: 0.9274 - val_loss: 1.2004 - val_root_mean_squared_error: 1.0956\n",
            "Epoch 91/100\n",
            "7/7 [==============================] - 0s 8ms/step - loss: 0.8604 - root_mean_squared_error: 0.9276 - val_loss: 1.1943 - val_root_mean_squared_error: 1.0929\n",
            "Epoch 92/100\n",
            "7/7 [==============================] - 0s 6ms/step - loss: 0.8607 - root_mean_squared_error: 0.9277 - val_loss: 1.1892 - val_root_mean_squared_error: 1.0905\n",
            "Epoch 93/100\n",
            "7/7 [==============================] - 0s 10ms/step - loss: 0.8607 - root_mean_squared_error: 0.9277 - val_loss: 1.1864 - val_root_mean_squared_error: 1.0892\n",
            "Epoch 94/100\n",
            "7/7 [==============================] - 0s 12ms/step - loss: 0.8603 - root_mean_squared_error: 0.9275 - val_loss: 1.1831 - val_root_mean_squared_error: 1.0877\n",
            "Epoch 95/100\n",
            "7/7 [==============================] - 0s 14ms/step - loss: 0.8605 - root_mean_squared_error: 0.9276 - val_loss: 1.1800 - val_root_mean_squared_error: 1.0863\n",
            "Epoch 96/100\n",
            "7/7 [==============================] - 0s 15ms/step - loss: 0.8600 - root_mean_squared_error: 0.9274 - val_loss: 1.1779 - val_root_mean_squared_error: 1.0853\n",
            "Epoch 97/100\n",
            "7/7 [==============================] - 0s 13ms/step - loss: 0.8599 - root_mean_squared_error: 0.9273 - val_loss: 1.1712 - val_root_mean_squared_error: 1.0822\n",
            "Epoch 98/100\n",
            "7/7 [==============================] - 0s 14ms/step - loss: 0.8597 - root_mean_squared_error: 0.9272 - val_loss: 1.1688 - val_root_mean_squared_error: 1.0811\n",
            "Epoch 99/100\n",
            "7/7 [==============================] - 0s 14ms/step - loss: 0.8610 - root_mean_squared_error: 0.9279 - val_loss: 1.1753 - val_root_mean_squared_error: 1.0841\n",
            "Epoch 100/100\n",
            "7/7 [==============================] - 0s 15ms/step - loss: 0.8602 - root_mean_squared_error: 0.9275 - val_loss: 1.1775 - val_root_mean_squared_error: 1.0851\n"
          ]
        }
      ],
      "source": [
        "# Setup model yang sudah dibuat\n",
        "model = Model(inputs=[user_id_input, place_id_input], outputs=y)\n",
        "model.compile(\n",
        "    loss = \"mse\",optimizer =\"adam\",metrics=[tf.keras.metrics.RootMeanSquaredError()]\n",
        ")\n",
        "\n",
        "# Hasil fit model\n",
        "history = model.fit([train_user, train_place],\n",
        "          df_train['Place_Rating'],\n",
        "          batch_size=256, \n",
        "          epochs=100,\n",
        "          validation_split=0.1,\n",
        "          shuffle=True)\n"
      ]
    },
    {
      "cell_type": "markdown",
      "metadata": {
        "id": "jgU97SF3mFMP"
      },
      "source": [
        "Mencoba Model "
      ]
    },
    {
      "cell_type": "code",
      "execution_count": 10,
      "metadata": {},
      "outputs": [],
      "source": [
        "# model.save('saved_model/my_model')"
      ]
    },
    {
      "cell_type": "code",
      "execution_count": 11,
      "metadata": {
        "id": "ojn84vMSmATs"
      },
      "outputs": [
        {
          "name": "stdout",
          "output_type": "stream",
          "text": [
            "16/16 [==============================] - 0s 2ms/step\n"
          ]
        }
      ],
      "source": [
        "# Test model\n",
        "y_pred = model.predict([test_user, test_place])\n",
        "y_true = df_test['Place_Rating'].values"
      ]
    },
    {
      "cell_type": "code",
      "execution_count": 12,
      "metadata": {
        "colab": {
          "base_uri": "https://localhost:8080/"
        },
        "id": "bV_tbfBAmhYS",
        "outputId": "e373f6c8-bcbf-40e7-e80e-5d6fe59923db"
      },
      "outputs": [
        {
          "name": "stdout",
          "output_type": "stream",
          "text": [
            "\n",
            "\n",
            "Testing Result With Keras Deep Learning: 0.9385 RMSE\n"
          ]
        }
      ],
      "source": [
        "#  Evaluasi dengan RMSE\n",
        "rmse = np.sqrt(mean_squared_error(y_pred=y_pred, y_true=y_true))\n",
        "print('\\n\\nTesting Result With Keras Deep Learning: {:.4f} RMSE'.format(rmse))"
      ]
    },
    {
      "cell_type": "code",
      "execution_count": 13,
      "metadata": {
        "colab": {
          "base_uri": "https://localhost:8080/",
          "height": 295
        },
        "id": "4ycPvXqTmenX",
        "outputId": "1acf3bc7-6a86-49a8-b67e-9d9a65044488"
      },
      "outputs": [
        {
          "data": {
            "image/png": "[encoded data removed]",
            "text/plain": [
              "<Figure size 432x288 with 1 Axes>"
            ]
          },
          "metadata": {
            "needs_background": "light"
          },
          "output_type": "display_data"
        }
      ],
      "source": [
        "# Menampilkan plot loss dan validation\n",
        "\n",
        "plt.plot(history.history['root_mean_squared_error'])\n",
        "plt.plot(history.history['val_root_mean_squared_error'])\n",
        "plt.title('model_metrics')\n",
        "plt.ylabel('root_mean_squared_error')\n",
        "plt.xlabel('epoch')\n",
        "plt.ylim(ymin=0, ymax=4.2)\n",
        "plt.legend(['train', 'test'], loc='center left')\n",
        "plt.show()"
      ]
    },
    {
      "cell_type": "markdown",
      "metadata": {
        "id": "r7MMvw6mw03e"
      },
      "source": [
        "# Mulai Testing dan Predicting "
      ]
    },
    {
      "cell_type": "code",
      "execution_count": 14,
      "metadata": {
        "id": "CERVflAXbwfj"
      },
      "outputs": [],
      "source": [
        "# Menyiapkan dataframe\n",
        "place_df = place[['Place_Id','Place_Name','Category','Rating','Weekend Holiday Price']]\n",
        "place_df.columns = ['id','place_name','category','rating','price']\n",
        "df = rating.copy()\n"
      ]
    },
    {
      "cell_type": "code",
      "execution_count": 15,
      "metadata": {
        "id": "IxQfL9Fpcp5T"
      },
      "outputs": [],
      "source": [
        "user_id = df.User_Id.sample(1).iloc[0]\n",
        "place_visited_by_user = df[df.User_Id == user_id]"
      ]
    },
    {
      "cell_type": "code",
      "execution_count": 16,
      "metadata": {
        "id": "x98BO5xzdEjC"
      },
      "outputs": [],
      "source": [
        "def dict_encoder(col, data=df):\n",
        "\n",
        "  # Mengubah kolom suatu dataframe menjadi list tanpa nilai yang sama\n",
        "  unique_val = data[col].unique().tolist()\n",
        "\n",
        "  # Melakukan encoding value kolom suatu dataframe ke angka\n",
        "  val_to_val_encoded = {x: i for i, x in enumerate(unique_val)}\n",
        "\n",
        "  # Melakukan proses encoding angka ke value dari kolom suatu dataframe\n",
        "  val_encoded_to_val = {i: x for i, x in enumerate(unique_val)}\n",
        "  return val_to_val_encoded, val_encoded_to_val"
      ]
    },
    {
      "cell_type": "code",
      "execution_count": 17,
      "metadata": {
        "id": "nC0RfVZZdK45"
      },
      "outputs": [],
      "source": [
        "# Encoding Place_Id\n",
        "place_to_place_encoded, place_encoded_to_place = dict_encoder('Place_Id')\n",
        "\n",
        "# Mapping Place_Id ke dataframe place\n",
        "df['place'] = df['Place_Id'].map(place_to_place_encoded)"
      ]
    },
    {
      "cell_type": "code",
      "execution_count": 18,
      "metadata": {
        "id": "xjerZAoedWHq"
      },
      "outputs": [],
      "source": [
        "# Encoding User_Id\n",
        "user_to_user_encoded, user_encoded_to_user = dict_encoder('User_Id')\n",
        "\n",
        "# Mapping User_Id ke dataframe\n",
        "df['user'] = df['User_Id'].map(user_to_user_encoded)"
      ]
    },
    {
      "cell_type": "code",
      "execution_count": 19,
      "metadata": {
        "colab": {
          "base_uri": "https://localhost:8080/"
        },
        "id": "Wj4y1oT7dRj6",
        "outputId": "23f6623a-b530-4638-9594-8cb2ad9a699b"
      },
      "outputs": [
        {
          "name": "stdout",
          "output_type": "stream",
          "text": [
            "Number of User: 100, Number of Place: 75, Min Rating: 1.0, Max Rating: 5.0\n"
          ]
        }
      ],
      "source": [
        "# Mendapatkan jumlah user dan place\n",
        "num_users, num_place = len(user_to_user_encoded), len(place_to_place_encoded)\n",
        " \n",
        "# Mengubah rating menjadi nilai float\n",
        "df['Place_Rating'] = df['Place_Rating'].values.astype(np.float32)\n",
        " \n",
        "# Mendapatkan nilai minimum dan maksimum rating\n",
        "min_rating, max_rating = min(df['Place_Rating']), max(df['Place_Rating'])\n",
        " \n",
        "print(f'Number of User: {num_users}, Number of Place: {num_place}, Min Rating: {min_rating}, Max Rating: {max_rating}')"
      ]
    },
    {
      "cell_type": "code",
      "execution_count": 20,
      "metadata": {
        "id": "zhXz8IYWctJM"
      },
      "outputs": [],
      "source": [
        "# Membuat data lokasi yang belum dikunjungi user\n",
        "place_not_visited = place_df[~place_df['id'].isin(place_visited_by_user.Place_Id.values)]['id'] \n",
        "place_not_visited = list(\n",
        "    set(place_not_visited)\n",
        "    .intersection(set(place_to_place_encoded.keys()))\n",
        ")\n",
        " \n",
        "place_not_visited = [[place_to_place_encoded.get(x)] for x in place_not_visited]\n",
        "user_encoder = user_to_user_encoded.get(user_id)\n",
        "user_place_array = np.hstack(\n",
        "    ([[user_encoder]] * len(place_not_visited), place_not_visited)\n",
        ")"
      ]
    },
    {
      "cell_type": "code",
      "execution_count": 21,
      "metadata": {
        "id": "bFKToG-B_qOH"
      },
      "outputs": [],
      "source": [
        "class DeepRecommender(tf.keras.Model):\n",
        " \n",
        "  # Insialisasi fungsi\n",
        "  def __init__(self, num_users, num_places, embedding_size, **kwargs):\n",
        "    super(DeepRecommender, self).__init__(**kwargs)\n",
        "    self.num_users = num_users\n",
        "    self.num_places = num_places\n",
        "    self.embedding_size = embedding_size\n",
        "    self.user_embedding = Embedding( # layer embedding user\n",
        "        num_users,\n",
        "        embedding_size,\n",
        "        embeddings_initializer = 'he_normal',\n",
        "        embeddings_regularizer = keras.regularizers.l2(1e-6)\n",
        "    )\n",
        "    self.user_bias = Embedding(num_users, 1) # layer embedding user bias\n",
        "    self.places_embedding = Embedding( # layer embeddings places\n",
        "        num_places,\n",
        "        embedding_size,\n",
        "        embeddings_initializer = 'he_normal',\n",
        "        embeddings_regularizer = keras.regularizers.l2(1e-6)\n",
        "    )\n",
        "    self.places_bias = Embedding(num_places, 1) # layer embedding places bias\n",
        "    self.dense1 = tf.keras.layers.Dense(64, activation=tf.nn.relu)\n",
        "    self.dense2 = tf.keras.layers.Dense(1)\n",
        " \n",
        "  def call(self, inputs):\n",
        "    user_vector = self.user_embedding(inputs[:,0]) # memanggil layer embedding 1\n",
        "    user_bias = self.user_bias(inputs[:, 0]) # memanggil layer embedding 2\n",
        "    places_vector = self.places_embedding(inputs[:, 1]) # memanggil layer embedding 3\n",
        "    places_bias = self.places_bias(inputs[:, 1]) # memanggil layer embedding 4\n",
        "    dot_user_places = tf.tensordot(user_vector, places_vector, 2) \n",
        "    x = dot_user_places + user_bias + places_bias\n",
        "    y = self.dense1(x)\n",
        "    return self.dense2(y)\n"
      ]
    },
    {
      "cell_type": "code",
      "execution_count": 22,
      "metadata": {
        "id": "geV15xSXHaZK"
      },
      "outputs": [],
      "source": [
        "model1 = DeepRecommender(num_users, num_place, 50) # inisialisasi model\n",
        " \n",
        "# model compile\n",
        "model1.compile(\n",
        "    loss = tf.keras.losses.BinaryCrossentropy(),\n",
        "    optimizer = keras.optimizers.Adam(learning_rate=0.0004),\n",
        "    metrics=[tf.keras.metrics.RootMeanSquaredError()]\n",
        ")"
      ]
    },
    {
      "cell_type": "code",
      "execution_count": 52,
      "metadata": {},
      "outputs": [
        {
          "name": "stdout",
          "output_type": "stream",
          "text": [
            "INFO:tensorflow:Assets written to: path_to_my_model\\assets\n"
          ]
        }
      ],
      "source": [
        "model1.save('path_to_my_model',save_format='tf')"
      ]
    },
    {
      "cell_type": "code",
      "execution_count": 53,
      "metadata": {},
      "outputs": [],
      "source": [
        "new_model = keras.models.load_model('path_to_my_model')"
      ]
    },
    {
      "cell_type": "code",
      "execution_count": 55,
      "metadata": {
        "colab": {
          "base_uri": "https://localhost:8080/"
        },
        "id": "9muRE6UgwkuV",
        "outputId": "c610b7b6-6a6c-4284-a435-de035ed31fb8"
      },
      "outputs": [
        {
          "name": "stdout",
          "output_type": "stream",
          "text": [
            "1/1 [==============================] - 0s 109ms/step\n",
            "[75, 45, 67, 12, 58, 11, 74, 70, 17, 22, 68, 35, 44, 62, 8, 36, 9, 43, 52, 21, 57, 50, 33, 59, 5, 31, 65, 46, 23, 69, 25, 56, 28, 26, 51, 34, 20, 42, 38, 6, 24, 10, 13, 1, 47]\n"
          ]
        }
      ],
      "source": [
        "# Mengambil top rekomendasi\n",
        "ratings = new_model.predict(user_place_array,50).flatten()\n",
        "top_ratings_indices = ratings.argsort()[:][::-1]\n",
        "recommended_place_ids = [\n",
        "    place_encoded_to_place.get(place_not_visited[x][0]) for x in top_ratings_indices\n",
        "]\n",
        "recommended_place_ids = list(recommended_place_ids)\n",
        "print(recommended_place_ids)"
      ]
    },
    {
      "cell_type": "code",
      "execution_count": null,
      "metadata": {
        "colab": {
          "base_uri": "https://localhost:8080/"
        },
        "id": "kHMDXVEnzema",
        "outputId": "4afc92e4-ed45-41c4-b4a8-440f0355a1c7"
      },
      "outputs": [
        {
          "name": "stdout",
          "output_type": "stream",
          "text": [
            "[7, 8, 10, 69, 70, 73]\n"
          ]
        }
      ],
      "source": [
        "#Membuat Filter\n",
        "Place_Upto_100 = place_df[(place_df['price'] >= 100000)]\n",
        "Place_Upto_100 = list(Place_Upto_100[\"id\"])\n",
        "print(Place_Upto_100)"
      ]
    },
    {
      "cell_type": "code",
      "execution_count": null,
      "metadata": {
        "colab": {
          "base_uri": "https://localhost:8080/"
        },
        "id": "IuOoAwFp1e-e",
        "outputId": "54b2d83e-4c2a-4183-c4d8-438297611481"
      },
      "outputs": [
        {
          "name": "stdout",
          "output_type": "stream",
          "text": [
            "[10, 8, 69]\n"
          ]
        }
      ],
      "source": [
        "#Filtering place up to 100k\n",
        "recom_id_upto_100 = [x for x in recommended_place_ids if x in Place_Upto_100]\n",
        "print(recom_id_upto_100)"
      ]
    },
    {
      "cell_type": "code",
      "execution_count": null,
      "metadata": {
        "colab": {
          "base_uri": "https://localhost:8080/"
        },
        "id": "SRdrHHd4510Y",
        "outputId": "fa252e73-451c-4f93-cc12-ad636fd90a0d"
      },
      "outputs": [
        {
          "name": "stdout",
          "output_type": "stream",
          "text": [
            "[42, 23, 11, 74, 65, 35, 6, 14, 37, 17, 33, 38, 32, 26, 9, 12, 1, 66, 36, 63, 47, 18, 56, 41, 15, 55, 57, 49, 27, 24, 46, 29, 34, 21, 62, 75, 48, 20, 53, 3, 40, 59]\n"
          ]
        }
      ],
      "source": [
        "#Filtering place up to 100k\n",
        "recom_id_under_100 = [x for x in recommended_place_ids if x not in Place_Upto_100]\n",
        "print(recom_id_under_100)"
      ]
    },
    {
      "cell_type": "code",
      "execution_count": null,
      "metadata": {
        "colab": {
          "base_uri": "https://localhost:8080/"
        },
        "id": "r6gThKwVdoTq",
        "outputId": "25fef0d9-0456-46db-9486-c0effa391009"
      },
      "outputs": [
        {
          "name": "stdout",
          "output_type": "stream",
          "text": [
            "Daftar rekomendasi untuk: User 71\n",
            "============================================= \n",
            "\n",
            "------------------------------------------------------------\n",
            "Tempat dengan rating wisata paling tinggi dari user\n",
            "------------------------------------------------------------\n",
            "Air Terjun Tegenungan : Alam\n",
            "Aloha Ubud Swing  : Agrowisata\n",
            "Bukit Wanagiri : Alam\n",
            "Danau Beratan : Alam\n",
            "Pantai Pasih Uug : Pantai\n",
            "\n",
            "------------------------------------------------------------\n",
            "Top 7 place recommendation\n",
            "------------------------------------------------------------\n",
            "1 . Agrowisata Satria \n",
            "     Agrowisata , Harga Tiket Masuk  50000 , Rating Wisata  3.0 \n",
            "\n",
            "2 . Wisata Air Panas Toya Bungkah \n",
            "     Alam , Harga Tiket Masuk  70000 , Rating Wisata  4.0 \n",
            "\n",
            "3 . Air Terjun Tukad Cepung \n",
            "     Alam , Harga Tiket Masuk  15000 , Rating Wisata  4.5 \n",
            "\n",
            "4 . Bali Bird Park \n",
            "     Cagar Alam , Harga Tiket Masuk  110000 , Rating Wisata  4.5 \n",
            "\n",
            "5 . Handara Iconic Gate \n",
            "     Budaya , Harga Tiket Masuk  20000 , Rating Wisata  3.5 \n",
            "\n",
            "6 . Bali Swing \n",
            "     Rekreasi , Harga Tiket Masuk  500000 , Rating Wisata  4.5 \n",
            "\n",
            "7 . Batik Koleksi Sari Amerta \n",
            "     Budaya , Harga Tiket Masuk  0 , Rating Wisata  3.5 \n",
            "\n",
            "=============================================\n"
          ]
        }
      ],
      "source": [
        "print('Daftar rekomendasi untuk: {}'.format('User ' + str(user_id)))\n",
        "print('===' * 15,'\\n')\n",
        "print('----' * 15)\n",
        "print('Tempat dengan rating wisata paling tinggi dari user')\n",
        "print('----' * 15)\n",
        " \n",
        "top_place_user = (\n",
        "    place_visited_by_user.sort_values(\n",
        "        by = 'Place_Rating',\n",
        "        ascending=False\n",
        "    )\n",
        "    .head(5)\n",
        "    .Place_Id.values\n",
        ")\n",
        " \n",
        "place_df_rows = place_df[place_df['id'].isin(top_place_user)]\n",
        "for row in place_df_rows.itertuples():\n",
        "    print(row.place_name, ':', row.category)\n",
        "\n",
        "print('')\n",
        "print('----' * 15)\n",
        "print('Top 7 place recommendation')\n",
        "print('----' * 15)\n",
        " \n",
        "recommended_place = place_df[place_df['id'].isin(recommended_place_ids)]\n",
        "for row, i in zip(recommended_place.itertuples(), range(1,8)):\n",
        "    print(i,'.', row.place_name, '\\n    ', row.category, ',', 'Harga Tiket Masuk ', row.price, ',', 'Rating Wisata ', row.rating,'\\n')\n",
        "\n",
        "print('==='*15)"
      ]
    }
  ],
  "metadata": {
    "colab": {
      "include_colab_link": true,
      "name": "Deep Learning ",
      "provenance": []
    },
    "interpreter": {
      "hash": "82ed002fa2d4956f5c6aec99bcefe0f73a9f79882f3c9e2319b14958a5896ac5"
    },
    "kernelspec": {
      "display_name": "Python 3.9.5 64-bit",
      "language": "python",
      "name": "python3"
    },
    "language_info": {
      "codemirror_mode": {
        "name": "ipython",
        "version": 3
      },
      "file_extension": ".py",
      "mimetype": "text/x-python",
      "name": "python",
      "nbconvert_exporter": "python",
      "pygments_lexer": "ipython3",
      "version": "3.9.5"
    }
  },
  "nbformat": 4,
  "nbformat_minor": 0
}
