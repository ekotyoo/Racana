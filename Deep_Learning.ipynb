{
  "cells": [
    {
      "cell_type": "markdown",
      "metadata": {
        "colab_type": "text",
        "id": "view-in-github"
      },
      "source": [
        "<a href=\"https://colab.research.google.com/github/ekotyoo/Racana/blob/Machine_Learning/Deep_Learning.ipynb\" target=\"_parent\"><img src=\"https://colab.research.google.com/assets/colab-badge.svg\" alt=\"Open In Colab\"/></a>"
      ]
    },
    {
      "cell_type": "code",
      "execution_count": 1,
      "metadata": {
        "id": "bH9YiybYKQGt"
      },
      "outputs": [],
      "source": [
        "import numpy as np\n",
        "import pandas as pd \n",
        "import matplotlib.pyplot as plt\n",
        "import tensorflow as tf\n",
        "import pickle\n",
        "\n",
        "from tensorflow import keras\n",
        "from collections import deque\n",
        "from keras.layers import Input, Embedding, Reshape, Dot, Concatenate, Dense, Dropout\n",
        "from keras.models import Model\n",
        "# from pydrive.auth import GoogleAuth\n",
        "# from pydrive.drive import GoogleDrive\n",
        "# from google.colab import auth\n",
        "# from oauth2client.client import GoogleCredentials\n",
        "from sklearn.metrics import mean_squared_error\n",
        "\n"
      ]
    },
    {
      "cell_type": "code",
      "execution_count": 2,
      "metadata": {
        "id": "_S_H03Utmp6P"
      },
      "outputs": [],
      "source": [
        "# from pydrive.auth import GoogleAuth\n",
        "# from pydrive.drive import GoogleDrive\n",
        "# from google.colab import auth\n",
        "# from oauth2client.client import GoogleCredentials\n",
        "\n",
        "\n",
        "# # Authenticate and create the PyDrive client.\n",
        "# auth.authenticate_user()\n",
        "# gauth = GoogleAuth()\n",
        "# gauth.credentials = GoogleCredentials.get_application_default()\n",
        "# drive = GoogleDrive(gauth)"
      ]
    },
    {
      "cell_type": "markdown",
      "metadata": {
        "id": "6uHhOP7mf9ep"
      },
      "source": [
        "#Preparing Data Set\n",
        "memasukan data tempat wisata"
      ]
    },
    {
      "cell_type": "code",
      "execution_count": 3,
      "metadata": {
        "colab": {
          "base_uri": "https://localhost:8080/"
        },
        "id": "dqga60XJk6Rb",
        "outputId": "2259bfc2-f934-44d3-c643-5a916bdf4c0d"
      },
      "outputs": [
        {
          "name": "stdout",
          "output_type": "stream",
          "text": [
            "    Place_Id                     Place_Name  \\\n",
            "0          1              Agrowisata Satria   \n",
            "1          2                     Agung Bali   \n",
            "2          3  Wisata Air Panas Toya Bungkah   \n",
            "3          4         Air Terjun Aling-Aling   \n",
            "4          5          Air Terjun Tegenungan   \n",
            "..       ...                            ...   \n",
            "70        71         Teras Sawah Tegalalang   \n",
            "71        72                   Tirta Gangga   \n",
            "72        73                  Waterbom Bali   \n",
            "73        74       Alas Harum Agro Tourism    \n",
            "74        75     Wisata Agro Teba Sari Bali   \n",
            "\n",
            "                                          Description  Weekend Holiday Price  \\\n",
            "0   Agrowisata Satria menawarkan 'rasa' Bali pada ...                  50000   \n",
            "1   Dapatkan berbagai produk oleh-oleh khas Bali b...                      0   \n",
            "2   Pemandian air panas di dekat gunung Batur (Pem...                  70000   \n",
            "3   Keberadaan air terjun ini semakin mempercantik...                  20000   \n",
            "4   Bosan dengan wisata alam pantai dan ingin meni...                  20000   \n",
            "..                                                ...                    ...   \n",
            "70  Uniknya Tegallalang Rice Terrace di Bali ini, ...                  10000   \n",
            "71  Ada tiga hal utama yang ada di taman Tirta Gan...                  25000   \n",
            "72  Waterbom merupakan sebuah oase di jantung kawa...                 289000   \n",
            "73  Alas Harum Bali merupakan destinasi wisata yan...                  10000   \n",
            "74  Dalam kawasan Wisata Agro Teba Sari Bali, peng...                      0   \n",
            "\n",
            "    Weekday Price    Category        City  Rating  \\\n",
            "0           50000  Agrowisata     Gianyar     3.0   \n",
            "1               0     Belanja      Badung     4.0   \n",
            "2           70000        Alam      Bangli     4.0   \n",
            "3           20000        Alam    Buleleng     4.5   \n",
            "4           20000        Alam     Gianyar     4.0   \n",
            "..            ...         ...         ...     ...   \n",
            "70          10000  Agrowisata     Gianyar     4.0   \n",
            "71          25000    Religius  Karangasem     4.5   \n",
            "72         289000    Rekreasi      Badung     4.5   \n",
            "73          10000  Agrowisata     Gianyar     4.0   \n",
            "74              0  Agrowisata     Gianyar     4.0   \n",
            "\n",
            "                                               Alamat  \\\n",
            "0    Manukaya, Kec. Tampaksiring, Kabupaten Gianya...   \n",
            "1           Jln. Dewi Sri No.18XX, Kuta, Badung, Bali   \n",
            "2   Batur Tengah, Kec. Kintamani, Kabupaten Bangli...   \n",
            "3   Jl. Raya Desa Sambangan, Banjar, Sambangan, Ke...   \n",
            "4   Jl. Ir. Sutami, Kemenuh, Kec. Sukawati, Kabupa...   \n",
            "..                                                ...   \n",
            "70  Jl. Raya Tegallalang, Tegallalang, Kec. Tegall...   \n",
            "71  Jalan Raya Abang Desa Adat, Ababi, Kec. Abang,...   \n",
            "72  Jl. Kartika Plaza, Tuban, Kec. Kuta, Kabupaten...   \n",
            "73  Jl. Raya Tegallalang, Tegallalang, Kec. Tegall...   \n",
            "74  Jl. Tegal Utu, Lodtunduh, Kecamatan Ubud, Kabu...   \n",
            "\n",
            "                                Coordinate       Lat        Long Gambar  \n",
            "0   -8.402228546131536, 115.32296693687739 -8.402229  115.322967      V  \n",
            "1     -8.700234336021559, 115.176534407375 -8.700234  115.176534      V  \n",
            "2   -8.251298580809106, 115.39981444195475 -8.251299  115.399814      V  \n",
            "3   -8.173073590748519, 115.10513024047802 -8.173074  115.105130      V  \n",
            "4   -8.575191460385602, 115.28870189592831 -8.575191  115.288702      V  \n",
            "..                                     ...       ...         ...    ...  \n",
            "70  -8.433891714602193, 115.27918179571854 -8.433892  115.279182      V  \n",
            "71  -8.412071345387545, 115.58728116872855 -8.412071  115.587281      V  \n",
            "72   -8.72828817001415, 115.16934211106027 -8.728288  115.169342      V  \n",
            "73   -8.43969896624251, 115.28060749756382 -8.439699  115.280608      V  \n",
            "74  -8.547239248722546, 115.25742069756434 -8.547239  115.257421      V  \n",
            "\n",
            "[75 rows x 13 columns]\n"
          ]
        }
      ],
      "source": [
        "place = pd.read_csv('Dataset - tourismBali.csv')\n",
        "print(place)\n"
      ]
    },
    {
<<<<<<< HEAD
=======
      "cell_type": "code",
      "execution_count": 5,
      "metadata": {
        "colab": {
          "base_uri": "https://localhost:8080/",
          "height": 459
        },
        "id": "fIv-9pk6M6t4",
        "outputId": "9c7316ff-755d-4231-e626-3d6f162ca71c"
      },
      "outputs": [
        {
          "output_type": "execute_result",
          "data": {
            "text/plain": [
              "   Place_Id                     Place_Name  \\\n",
              "0         1              Agrowisata Satria   \n",
              "1         2                     Agung Bali   \n",
              "2         3  Wisata Air Panas Toya Bungkah   \n",
              "3         4         Air Terjun Aling-Aling   \n",
              "4         5          Air Terjun Tegenungan   \n",
              "\n",
              "                                         Description  Weekend Holiday Price  \\\n",
              "0  Agrowisata Satria menawarkan 'rasa' Bali pada ...                  50000   \n",
              "1  Dapatkan berbagai produk oleh-oleh khas Bali b...                      0   \n",
              "2  Pemandian air panas di dekat gunung Batur (Pem...                  70000   \n",
              "3  Keberadaan air terjun ini semakin mempercantik...                  20000   \n",
              "4  Bosan dengan wisata alam pantai dan ingin meni...                  20000   \n",
              "\n",
              "   Weekday Price    Category      City  Rating  \\\n",
              "0          50000  Agrowisata   Gianyar     3.0   \n",
              "1              0     Belanja    Badung     4.0   \n",
              "2          70000        Alam    Bangli     4.0   \n",
              "3          20000        Alam  Buleleng     4.5   \n",
              "4          20000        Alam   Gianyar     4.0   \n",
              "\n",
              "                                              Alamat  \\\n",
              "0   Manukaya, Kec. Tampaksiring, Kabupaten Gianya...   \n",
              "1          Jln. Dewi Sri No.18XX, Kuta, Badung, Bali   \n",
              "2  Batur Tengah, Kec. Kintamani, Kabupaten Bangli...   \n",
              "3  Jl. Raya Desa Sambangan, Banjar, Sambangan, Ke...   \n",
              "4  Jl. Ir. Sutami, Kemenuh, Kec. Sukawati, Kabupa...   \n",
              "\n",
              "                               Coordinate       Lat        Long Gambar  \n",
              "0  -8.402228546131536, 115.32296693687739 -8.402229  115.322967      V  \n",
              "1    -8.700234336021559, 115.176534407375 -8.700234  115.176534      V  \n",
              "2  -8.251298580809106, 115.39981444195475 -8.251299  115.399814      V  \n",
              "3  -8.173073590748519, 115.10513024047802 -8.173074  115.105130      V  \n",
              "4  -8.575191460385602, 115.28870189592831 -8.575191  115.288702      V  "
            ],
            "text/html": [
              "\n",
              "  <div id=\"df-a9f6dbcc-6567-4504-857e-907453621a86\">\n",
              "    <div class=\"colab-df-container\">\n",
              "      <div>\n",
              "<style scoped>\n",
              "    .dataframe tbody tr th:only-of-type {\n",
              "        vertical-align: middle;\n",
              "    }\n",
              "\n",
              "    .dataframe tbody tr th {\n",
              "        vertical-align: top;\n",
              "    }\n",
              "\n",
              "    .dataframe thead th {\n",
              "        text-align: right;\n",
              "    }\n",
              "</style>\n",
              "<table border=\"1\" class=\"dataframe\">\n",
              "  <thead>\n",
              "    <tr style=\"text-align: right;\">\n",
              "      <th></th>\n",
              "      <th>Place_Id</th>\n",
              "      <th>Place_Name</th>\n",
              "      <th>Description</th>\n",
              "      <th>Weekend Holiday Price</th>\n",
              "      <th>Weekday Price</th>\n",
              "      <th>Category</th>\n",
              "      <th>City</th>\n",
              "      <th>Rating</th>\n",
              "      <th>Alamat</th>\n",
              "      <th>Coordinate</th>\n",
              "      <th>Lat</th>\n",
              "      <th>Long</th>\n",
              "      <th>Gambar</th>\n",
              "    </tr>\n",
              "  </thead>\n",
              "  <tbody>\n",
              "    <tr>\n",
              "      <th>0</th>\n",
              "      <td>1</td>\n",
              "      <td>Agrowisata Satria</td>\n",
              "      <td>Agrowisata Satria menawarkan 'rasa' Bali pada ...</td>\n",
              "      <td>50000</td>\n",
              "      <td>50000</td>\n",
              "      <td>Agrowisata</td>\n",
              "      <td>Gianyar</td>\n",
              "      <td>3.0</td>\n",
              "      <td>Manukaya, Kec. Tampaksiring, Kabupaten Gianya...</td>\n",
              "      <td>-8.402228546131536, 115.32296693687739</td>\n",
              "      <td>-8.402229</td>\n",
              "      <td>115.322967</td>\n",
              "      <td>V</td>\n",
              "    </tr>\n",
              "    <tr>\n",
              "      <th>1</th>\n",
              "      <td>2</td>\n",
              "      <td>Agung Bali</td>\n",
              "      <td>Dapatkan berbagai produk oleh-oleh khas Bali b...</td>\n",
              "      <td>0</td>\n",
              "      <td>0</td>\n",
              "      <td>Belanja</td>\n",
              "      <td>Badung</td>\n",
              "      <td>4.0</td>\n",
              "      <td>Jln. Dewi Sri No.18XX, Kuta, Badung, Bali</td>\n",
              "      <td>-8.700234336021559, 115.176534407375</td>\n",
              "      <td>-8.700234</td>\n",
              "      <td>115.176534</td>\n",
              "      <td>V</td>\n",
              "    </tr>\n",
              "    <tr>\n",
              "      <th>2</th>\n",
              "      <td>3</td>\n",
              "      <td>Wisata Air Panas Toya Bungkah</td>\n",
              "      <td>Pemandian air panas di dekat gunung Batur (Pem...</td>\n",
              "      <td>70000</td>\n",
              "      <td>70000</td>\n",
              "      <td>Alam</td>\n",
              "      <td>Bangli</td>\n",
              "      <td>4.0</td>\n",
              "      <td>Batur Tengah, Kec. Kintamani, Kabupaten Bangli...</td>\n",
              "      <td>-8.251298580809106, 115.39981444195475</td>\n",
              "      <td>-8.251299</td>\n",
              "      <td>115.399814</td>\n",
              "      <td>V</td>\n",
              "    </tr>\n",
              "    <tr>\n",
              "      <th>3</th>\n",
              "      <td>4</td>\n",
              "      <td>Air Terjun Aling-Aling</td>\n",
              "      <td>Keberadaan air terjun ini semakin mempercantik...</td>\n",
              "      <td>20000</td>\n",
              "      <td>20000</td>\n",
              "      <td>Alam</td>\n",
              "      <td>Buleleng</td>\n",
              "      <td>4.5</td>\n",
              "      <td>Jl. Raya Desa Sambangan, Banjar, Sambangan, Ke...</td>\n",
              "      <td>-8.173073590748519, 115.10513024047802</td>\n",
              "      <td>-8.173074</td>\n",
              "      <td>115.105130</td>\n",
              "      <td>V</td>\n",
              "    </tr>\n",
              "    <tr>\n",
              "      <th>4</th>\n",
              "      <td>5</td>\n",
              "      <td>Air Terjun Tegenungan</td>\n",
              "      <td>Bosan dengan wisata alam pantai dan ingin meni...</td>\n",
              "      <td>20000</td>\n",
              "      <td>20000</td>\n",
              "      <td>Alam</td>\n",
              "      <td>Gianyar</td>\n",
              "      <td>4.0</td>\n",
              "      <td>Jl. Ir. Sutami, Kemenuh, Kec. Sukawati, Kabupa...</td>\n",
              "      <td>-8.575191460385602, 115.28870189592831</td>\n",
              "      <td>-8.575191</td>\n",
              "      <td>115.288702</td>\n",
              "      <td>V</td>\n",
              "    </tr>\n",
              "  </tbody>\n",
              "</table>\n",
              "</div>\n",
              "      <button class=\"colab-df-convert\" onclick=\"convertToInteractive('df-a9f6dbcc-6567-4504-857e-907453621a86')\"\n",
              "              title=\"Convert this dataframe to an interactive table.\"\n",
              "              style=\"display:none;\">\n",
              "        \n",
              "  <svg xmlns=\"http://www.w3.org/2000/svg\" height=\"24px\"viewBox=\"0 0 24 24\"\n",
              "       width=\"24px\">\n",
              "    <path d=\"M0 0h24v24H0V0z\" fill=\"none\"/>\n",
              "    <path d=\"M18.56 5.44l.94 2.06.94-2.06 2.06-.94-2.06-.94-.94-2.06-.94 2.06-2.06.94zm-11 1L8.5 8.5l.94-2.06 2.06-.94-2.06-.94L8.5 2.5l-.94 2.06-2.06.94zm10 10l.94 2.06.94-2.06 2.06-.94-2.06-.94-.94-2.06-.94 2.06-2.06.94z\"/><path d=\"M17.41 7.96l-1.37-1.37c-.4-.4-.92-.59-1.43-.59-.52 0-1.04.2-1.43.59L10.3 9.45l-7.72 7.72c-.78.78-.78 2.05 0 2.83L4 21.41c.39.39.9.59 1.41.59.51 0 1.02-.2 1.41-.59l7.78-7.78 2.81-2.81c.8-.78.8-2.07 0-2.86zM5.41 20L4 18.59l7.72-7.72 1.47 1.35L5.41 20z\"/>\n",
              "  </svg>\n",
              "      </button>\n",
              "      \n",
              "  <style>\n",
              "    .colab-df-container {\n",
              "      display:flex;\n",
              "      flex-wrap:wrap;\n",
              "      gap: 12px;\n",
              "    }\n",
              "\n",
              "    .colab-df-convert {\n",
              "      background-color: #E8F0FE;\n",
              "      border: none;\n",
              "      border-radius: 50%;\n",
              "      cursor: pointer;\n",
              "      display: none;\n",
              "      fill: #1967D2;\n",
              "      height: 32px;\n",
              "      padding: 0 0 0 0;\n",
              "      width: 32px;\n",
              "    }\n",
              "\n",
              "    .colab-df-convert:hover {\n",
              "      background-color: #E2EBFA;\n",
              "      box-shadow: 0px 1px 2px rgba(60, 64, 67, 0.3), 0px 1px 3px 1px rgba(60, 64, 67, 0.15);\n",
              "      fill: #174EA6;\n",
              "    }\n",
              "\n",
              "    [theme=dark] .colab-df-convert {\n",
              "      background-color: #3B4455;\n",
              "      fill: #D2E3FC;\n",
              "    }\n",
              "\n",
              "    [theme=dark] .colab-df-convert:hover {\n",
              "      background-color: #434B5C;\n",
              "      box-shadow: 0px 1px 3px 1px rgba(0, 0, 0, 0.15);\n",
              "      filter: drop-shadow(0px 1px 2px rgba(0, 0, 0, 0.3));\n",
              "      fill: #FFFFFF;\n",
              "    }\n",
              "  </style>\n",
              "\n",
              "      <script>\n",
              "        const buttonEl =\n",
              "          document.querySelector('#df-a9f6dbcc-6567-4504-857e-907453621a86 button.colab-df-convert');\n",
              "        buttonEl.style.display =\n",
              "          google.colab.kernel.accessAllowed ? 'block' : 'none';\n",
              "\n",
              "        async function convertToInteractive(key) {\n",
              "          const element = document.querySelector('#df-a9f6dbcc-6567-4504-857e-907453621a86');\n",
              "          const dataTable =\n",
              "            await google.colab.kernel.invokeFunction('convertToInteractive',\n",
              "                                                     [key], {});\n",
              "          if (!dataTable) return;\n",
              "\n",
              "          const docLinkHtml = 'Like what you see? Visit the ' +\n",
              "            '<a target=\"_blank\" href=https://colab.research.google.com/notebooks/data_table.ipynb>data table notebook</a>'\n",
              "            + ' to learn more about interactive tables.';\n",
              "          element.innerHTML = '';\n",
              "          dataTable['output_type'] = 'display_data';\n",
              "          await google.colab.output.renderOutput(dataTable, element);\n",
              "          const docLink = document.createElement('div');\n",
              "          docLink.innerHTML = docLinkHtml;\n",
              "          element.appendChild(docLink);\n",
              "        }\n",
              "      </script>\n",
              "    </div>\n",
              "  </div>\n",
              "  "
            ]
          },
          "metadata": {},
          "execution_count": 5
        }
      ],
      "source": [
        "# Melihat gambaran data place\n",
        "\n",
        "place.head()"
      ]
    },
    {
      "cell_type": "code",
      "execution_count": 6,
      "metadata": {
        "colab": {
          "base_uri": "https://localhost:8080/"
        },
        "id": "mLZhoESkQ9oe",
        "outputId": "798201ff-ab3c-4d15-93ba-cc074634492d"
      },
      "outputs": [
        {
          "output_type": "stream",
          "name": "stdout",
          "text": [
            "<class 'pandas.core.frame.DataFrame'>\n",
            "RangeIndex: 75 entries, 0 to 74\n",
            "Data columns (total 13 columns):\n",
            " #   Column                 Non-Null Count  Dtype  \n",
            "---  ------                 --------------  -----  \n",
            " 0   Place_Id               75 non-null     int64  \n",
            " 1   Place_Name             75 non-null     object \n",
            " 2   Description            75 non-null     object \n",
            " 3   Weekend Holiday Price  75 non-null     int64  \n",
            " 4   Weekday Price          75 non-null     int64  \n",
            " 5   Category               75 non-null     object \n",
            " 6   City                   75 non-null     object \n",
            " 7   Rating                 75 non-null     float64\n",
            " 8   Alamat                 75 non-null     object \n",
            " 9   Coordinate             75 non-null     object \n",
            " 10  Lat                    75 non-null     float64\n",
            " 11  Long                   75 non-null     float64\n",
            " 12  Gambar                 75 non-null     object \n",
            "dtypes: float64(3), int64(3), object(7)\n",
            "memory usage: 7.7+ KB\n"
          ]
        }
      ],
      "source": [
        "place.info()"
      ]
    },
    {
>>>>>>> d0225f87dd5f61b01aee083f057200a284d28fae
      "cell_type": "markdown",
      "metadata": {
        "id": "wsVXqQoxq9Xq"
      },
      "source": [
        "Memasukkan data rating"
      ]
    },
    {
      "cell_type": "code",
      "execution_count": 4,
      "metadata": {
        "colab": {
          "base_uri": "https://localhost:8080/",
          "height": 206
        },
        "id": "3R-KWY8zp9Iz",
        "outputId": "dcfab15e-0e4e-447e-ca23-88678429af26"
      },
      "outputs": [
        {
          "data": {
            "text/html": [
<<<<<<< HEAD
              "<div>\n",
=======
              "\n",
              "  <div id=\"df-16dd80a5-9da4-4ce0-9ca6-556c36ebfd43\">\n",
              "    <div class=\"colab-df-container\">\n",
              "      <div>\n",
>>>>>>> d0225f87dd5f61b01aee083f057200a284d28fae
              "<style scoped>\n",
              "    .dataframe tbody tr th:only-of-type {\n",
              "        vertical-align: middle;\n",
              "    }\n",
              "\n",
              "    .dataframe tbody tr th {\n",
              "        vertical-align: top;\n",
              "    }\n",
              "\n",
              "    .dataframe thead th {\n",
              "        text-align: right;\n",
              "    }\n",
              "</style>\n",
              "<table border=\"1\" class=\"dataframe\">\n",
              "  <thead>\n",
              "    <tr style=\"text-align: right;\">\n",
              "      <th></th>\n",
              "      <th>User_Id</th>\n",
              "      <th>Place_Id</th>\n",
              "      <th>Nama Tempat</th>\n",
              "      <th>Place_Rating</th>\n",
              "    </tr>\n",
              "  </thead>\n",
              "  <tbody>\n",
              "    <tr>\n",
              "      <th>0</th>\n",
              "      <td>1</td>\n",
              "      <td>2</td>\n",
              "      <td>Agung Bali Oleh-Oleh</td>\n",
              "      <td>3</td>\n",
              "    </tr>\n",
              "    <tr>\n",
              "      <th>1</th>\n",
              "      <td>1</td>\n",
              "      <td>7</td>\n",
              "      <td>Aloha Ubud Swing</td>\n",
              "      <td>5</td>\n",
              "    </tr>\n",
              "    <tr>\n",
              "      <th>2</th>\n",
              "      <td>1</td>\n",
              "      <td>8</td>\n",
              "      <td>Bali Bird Park</td>\n",
              "      <td>5</td>\n",
              "    </tr>\n",
              "    <tr>\n",
              "      <th>3</th>\n",
              "      <td>1</td>\n",
              "      <td>12</td>\n",
              "      <td>Big Garden Corner</td>\n",
              "      <td>2</td>\n",
              "    </tr>\n",
              "    <tr>\n",
              "      <th>4</th>\n",
              "      <td>1</td>\n",
              "      <td>13</td>\n",
              "      <td>Wanagiri Hidden Hills</td>\n",
              "      <td>5</td>\n",
              "    </tr>\n",
              "  </tbody>\n",
              "</table>\n",
<<<<<<< HEAD
              "</div>"
            ],
            "text/plain": [
              "   User_Id  Place_Id            Nama Tempat  Place_Rating\n",
              "0        1         2   Agung Bali Oleh-Oleh             3\n",
              "1        1         7       Aloha Ubud Swing             5\n",
              "2        1         8         Bali Bird Park             5\n",
              "3        1        12      Big Garden Corner             2\n",
              "4        1        13  Wanagiri Hidden Hills             5"
=======
              "</div>\n",
              "      <button class=\"colab-df-convert\" onclick=\"convertToInteractive('df-16dd80a5-9da4-4ce0-9ca6-556c36ebfd43')\"\n",
              "              title=\"Convert this dataframe to an interactive table.\"\n",
              "              style=\"display:none;\">\n",
              "        \n",
              "  <svg xmlns=\"http://www.w3.org/2000/svg\" height=\"24px\"viewBox=\"0 0 24 24\"\n",
              "       width=\"24px\">\n",
              "    <path d=\"M0 0h24v24H0V0z\" fill=\"none\"/>\n",
              "    <path d=\"M18.56 5.44l.94 2.06.94-2.06 2.06-.94-2.06-.94-.94-2.06-.94 2.06-2.06.94zm-11 1L8.5 8.5l.94-2.06 2.06-.94-2.06-.94L8.5 2.5l-.94 2.06-2.06.94zm10 10l.94 2.06.94-2.06 2.06-.94-2.06-.94-.94-2.06-.94 2.06-2.06.94z\"/><path d=\"M17.41 7.96l-1.37-1.37c-.4-.4-.92-.59-1.43-.59-.52 0-1.04.2-1.43.59L10.3 9.45l-7.72 7.72c-.78.78-.78 2.05 0 2.83L4 21.41c.39.39.9.59 1.41.59.51 0 1.02-.2 1.41-.59l7.78-7.78 2.81-2.81c.8-.78.8-2.07 0-2.86zM5.41 20L4 18.59l7.72-7.72 1.47 1.35L5.41 20z\"/>\n",
              "  </svg>\n",
              "      </button>\n",
              "      \n",
              "  <style>\n",
              "    .colab-df-container {\n",
              "      display:flex;\n",
              "      flex-wrap:wrap;\n",
              "      gap: 12px;\n",
              "    }\n",
              "\n",
              "    .colab-df-convert {\n",
              "      background-color: #E8F0FE;\n",
              "      border: none;\n",
              "      border-radius: 50%;\n",
              "      cursor: pointer;\n",
              "      display: none;\n",
              "      fill: #1967D2;\n",
              "      height: 32px;\n",
              "      padding: 0 0 0 0;\n",
              "      width: 32px;\n",
              "    }\n",
              "\n",
              "    .colab-df-convert:hover {\n",
              "      background-color: #E2EBFA;\n",
              "      box-shadow: 0px 1px 2px rgba(60, 64, 67, 0.3), 0px 1px 3px 1px rgba(60, 64, 67, 0.15);\n",
              "      fill: #174EA6;\n",
              "    }\n",
              "\n",
              "    [theme=dark] .colab-df-convert {\n",
              "      background-color: #3B4455;\n",
              "      fill: #D2E3FC;\n",
              "    }\n",
              "\n",
              "    [theme=dark] .colab-df-convert:hover {\n",
              "      background-color: #434B5C;\n",
              "      box-shadow: 0px 1px 3px 1px rgba(0, 0, 0, 0.15);\n",
              "      filter: drop-shadow(0px 1px 2px rgba(0, 0, 0, 0.3));\n",
              "      fill: #FFFFFF;\n",
              "    }\n",
              "  </style>\n",
              "\n",
              "      <script>\n",
              "        const buttonEl =\n",
              "          document.querySelector('#df-16dd80a5-9da4-4ce0-9ca6-556c36ebfd43 button.colab-df-convert');\n",
              "        buttonEl.style.display =\n",
              "          google.colab.kernel.accessAllowed ? 'block' : 'none';\n",
              "\n",
              "        async function convertToInteractive(key) {\n",
              "          const element = document.querySelector('#df-16dd80a5-9da4-4ce0-9ca6-556c36ebfd43');\n",
              "          const dataTable =\n",
              "            await google.colab.kernel.invokeFunction('convertToInteractive',\n",
              "                                                     [key], {});\n",
              "          if (!dataTable) return;\n",
              "\n",
              "          const docLinkHtml = 'Like what you see? Visit the ' +\n",
              "            '<a target=\"_blank\" href=https://colab.research.google.com/notebooks/data_table.ipynb>data table notebook</a>'\n",
              "            + ' to learn more about interactive tables.';\n",
              "          element.innerHTML = '';\n",
              "          dataTable['output_type'] = 'display_data';\n",
              "          await google.colab.output.renderOutput(dataTable, element);\n",
              "          const docLink = document.createElement('div');\n",
              "          docLink.innerHTML = docLinkHtml;\n",
              "          element.appendChild(docLink);\n",
              "        }\n",
              "      </script>\n",
              "    </div>\n",
              "  </div>\n",
              "  "
>>>>>>> d0225f87dd5f61b01aee083f057200a284d28fae
            ]
          },
          "execution_count": 4,
          "metadata": {},
          "output_type": "execute_result"
        }
      ],
      "source": [
        "rating = pd.read_csv('Dataset - Rating.csv')\n",
        "rating.head()"
      ]
    },
    {
      "cell_type": "markdown",
      "metadata": {
<<<<<<< HEAD
        "id": "D_UfiWLNgZOR"
=======
        "colab": {
          "base_uri": "https://localhost:8080/"
        },
        "id": "ZHejOrP7RMYJ",
        "outputId": "faf1a28f-a71f-4bf7-81b6-a2d737006ba4"
>>>>>>> d0225f87dd5f61b01aee083f057200a284d28fae
      },
      "source": [
        "Filtering data rating"
      ]
    },
    {
      "cell_type": "code",
      "execution_count": 5,
      "metadata": {
        "colab": {
          "base_uri": "https://localhost:8080/"
        },
        "id": "6ntwu5LPA_MV",
        "outputId": "ef9f6762-d6b7-4316-8db2-bca7c413a422"
      },
      "outputs": [
        {
          "name": "stdout",
          "output_type": "stream",
          "text": [
            "Shape User-Ratings unfiltered:\t(3000, 4)\n",
            "Shape User-Ratings filtered:\t(2250, 4)\n"
          ]
        }
      ],
      "source": [
        "min_place_rating = 10\n",
        "filter_place = (rating[\"Place_Id\"].value_counts()>min_place_rating)\n",
        "filter_place = filter_place[filter_place].index.tolist()\n",
        "\n",
        "min_user_rating = 10\n",
        "filter_user = (rating[\"User_Id\"].value_counts()>min_user_rating)\n",
        "filter_user = filter_user[filter_user].index.tolist()\n",
        "\n",
        "data_filtered = rating[(rating[\"Place_Id\"].isin(filter_place)) & \n",
        "                       (rating[\"User_Id\"].isin(filter_place))]\n",
        "del filter_place,filter_user,min_place_rating,min_user_rating\n",
        "print('Shape User-Ratings unfiltered:\\t{}'.format(rating.shape))\n",
        "print('Shape User-Ratings filtered:\\t{}'.format(data_filtered.shape))"
      ]
    },
    {
      "cell_type": "markdown",
      "metadata": {
        "id": "CgAIxb94gjPm"
      },
      "source": [
        "Membagi data set menjadi train dan test"
      ]
    },
    {
      "cell_type": "code",
<<<<<<< HEAD
      "execution_count": 6,
=======
      "execution_count": 12,
>>>>>>> d0225f87dd5f61b01aee083f057200a284d28fae
      "metadata": {
        "id": "bn09UsamB1Yu"
      },
      "outputs": [],
      "source": [
        "data_filtered = data_filtered.sample(frac=1).reset_index(drop=True)\n",
        "\n",
        "n =500\n",
        "\n",
        "df_train = data_filtered[:-n]\n",
        "df_test = data_filtered[-n:]"
      ]
    },
    {
      "cell_type": "markdown",
      "metadata": {
        "id": "AAtTULCkdHgn"
      },
      "source": [
        "#Deep Learning With Keras\n",
        "With its embedding layers this is similar to the matrix factorization approach above, but instead of using a fixed dot-product as recommendation we will utilize some dense layers so the network can find better combinations."
      ]
    },
    {
      "cell_type": "code",
      "execution_count": 7,
      "metadata": {
        "id": "Lx56pp6FbVDi"
      },
      "outputs": [],
      "source": [
        "# Mapping user dan place id\n",
        "user_mapping = {id:i for i, id in enumerate(data_filtered['User_Id'].unique())}\n",
        "place_mapping = {id:i for i, id in enumerate(data_filtered['Place_Id'].unique())}\n",
        "\n",
        "\n",
        "# Membagi data berdasarkan mapping\n",
        "train_user = df_train['User_Id'].map(user_mapping)\n",
        "train_place = df_train['Place_Id'].map(place_mapping)\n",
        "\n",
        "test_user = df_test['User_Id'].map(user_mapping)\n",
        "test_place = df_test['Place_Id'].map(place_mapping)\n",
        "\n",
        "# Atur Variabel\n",
        "user_embedding_size = 20\n",
        "place_embedding_size = 10\n",
        "\n",
        "# Masukin parameter\n",
        "users = len(user_mapping)\n",
        "places = len(place_mapping)\n",
        "embedding_size = 10\n"
<<<<<<< HEAD
      ]
=======
      ],
      "metadata": {
        "id": "Lx56pp6FbVDi"
      },
      "execution_count": 13,
      "outputs": []
>>>>>>> d0225f87dd5f61b01aee083f057200a284d28fae
    },
    {
      "cell_type": "markdown",
      "metadata": {
        "id": "U8VW6cvRlhJ_"
      },
      "source": [
        "Mulai Pembuatan Model"
      ]
    },
    {
      "cell_type": "code",
      "execution_count": 8,
      "metadata": {
        "id": "2ZfkAY5Tld76"
      },
      "outputs": [],
      "source": [
        "\n",
        "\n",
        "#Mengatur input layer\n",
        "user_id_input = Input(shape=[1], name='user')\n",
        "place_id_input = Input(shape=[1], name='place')\n",
        "\n",
        "# Membuat Embedding layer\n",
        "user_embedding = Embedding(output_dim=user_embedding_size, \n",
        "                           input_dim=users,\n",
        "                           input_length=1, \n",
        "                           name='user_embedding')(user_id_input)\n",
        "place_embedding = Embedding(output_dim=place_embedding_size, \n",
        "                            input_dim=places,\n",
        "                            input_length=1, \n",
        "                            name='item_embedding')(place_id_input)\n",
        "\n",
        "# Reshape embedding layers yang sudah dibuat\n",
        "user_vector = Reshape([user_embedding_size])(user_embedding)\n",
        "place_vector = Reshape([place_embedding_size])(place_embedding)\n",
        "\n",
        "# Di concate supaya bisa jadi 1 list\n",
        "concat = Concatenate()([user_vector, place_vector])\n",
        "\n",
        "# masukin dense layer\n",
        "fc1 = Dense(64, activation='relu')(concat)\n",
        "y = Dense(1)(fc1)\n",
        "\n"
<<<<<<< HEAD
      ]
    },
    {
      "cell_type": "code",
      "execution_count": 9,
=======
      ],
      "metadata": {
        "id": "2ZfkAY5Tld76"
      },
      "execution_count": 14,
      "outputs": []
    },
    {
      "cell_type": "code",
      "source": [
        "user_id_input"
      ],
      "metadata": {
        "colab": {
          "base_uri": "https://localhost:8080/"
        },
        "id": "1RXj_SqPJHmQ",
        "outputId": "42f8e58a-c36a-41b7-90b2-a5286c866daf"
      },
      "execution_count": null,
      "outputs": [
        {
          "output_type": "execute_result",
          "data": {
            "text/plain": [
              "<KerasTensor: shape=(None, 1) dtype=float32 (created by layer 'user')>"
            ]
          },
          "metadata": {},
          "execution_count": 31
        }
      ]
    },
    {
      "cell_type": "code",
      "source": [
        "# Setup model yang sudah dibuat\n",
        "model = Model(inputs=[user_id_input, place_id_input], outputs=y)\n",
        "model.compile(\n",
        "    loss = \"mse\",optimizer =\"adam\",metrics=[tf.keras.metrics.RootMeanSquaredError()]\n",
        ")\n",
        "\n",
        "# Hasil fit model\n",
        "history = model.fit([train_user, train_place],\n",
        "          df_train['Place_Rating'],\n",
        "          batch_size=256, \n",
        "          epochs=100,\n",
        "          validation_split=0.1,\n",
        "          shuffle=True)\n"
      ],
>>>>>>> d0225f87dd5f61b01aee083f057200a284d28fae
      "metadata": {
        "colab": {
          "base_uri": "https://localhost:8080/"
        },
        "id": "ZD3lJ7lsl5lO",
        "outputId": "341e8d22-d205-4b99-a527-b977d51df833"
      },
<<<<<<< HEAD
=======
      "execution_count": 15,
>>>>>>> d0225f87dd5f61b01aee083f057200a284d28fae
      "outputs": [
        {
          "name": "stdout",
          "output_type": "stream",
          "text": [
            "Epoch 1/100\n",
<<<<<<< HEAD
            "7/7 [==============================] - 1s 68ms/step - loss: 17.9800 - root_mean_squared_error: 4.2403 - val_loss: 16.9795 - val_root_mean_squared_error: 4.1206\n",
            "Epoch 2/100\n",
            "7/7 [==============================] - 0s 9ms/step - loss: 17.4273 - root_mean_squared_error: 4.1746 - val_loss: 16.4145 - val_root_mean_squared_error: 4.0515\n",
            "Epoch 3/100\n",
            "7/7 [==============================] - 0s 15ms/step - loss: 16.7961 - root_mean_squared_error: 4.0983 - val_loss: 15.7201 - val_root_mean_squared_error: 3.9649\n",
            "Epoch 4/100\n",
            "7/7 [==============================] - 0s 12ms/step - loss: 16.0025 - root_mean_squared_error: 4.0003 - val_loss: 14.8310 - val_root_mean_squared_error: 3.8511\n",
            "Epoch 5/100\n",
            "7/7 [==============================] - 0s 9ms/step - loss: 14.9861 - root_mean_squared_error: 3.8712 - val_loss: 13.6886 - val_root_mean_squared_error: 3.6998\n",
            "Epoch 6/100\n",
            "7/7 [==============================] - 0s 13ms/step - loss: 13.6845 - root_mean_squared_error: 3.6993 - val_loss: 12.2580 - val_root_mean_squared_error: 3.5011\n",
            "Epoch 7/100\n",
            "7/7 [==============================] - 0s 12ms/step - loss: 12.0952 - root_mean_squared_error: 3.4778 - val_loss: 10.5547 - val_root_mean_squared_error: 3.2488\n",
            "Epoch 8/100\n",
            "7/7 [==============================] - 0s 16ms/step - loss: 10.2281 - root_mean_squared_error: 3.1981 - val_loss: 8.6373 - val_root_mean_squared_error: 2.9389\n",
            "Epoch 9/100\n",
            "7/7 [==============================] - 0s 16ms/step - loss: 8.1704 - root_mean_squared_error: 2.8584 - val_loss: 6.6247 - val_root_mean_squared_error: 2.5738\n",
            "Epoch 10/100\n",
            "7/7 [==============================] - 0s 13ms/step - loss: 6.0720 - root_mean_squared_error: 2.4642 - val_loss: 4.6883 - val_root_mean_squared_error: 2.1652\n",
            "Epoch 11/100\n",
            "7/7 [==============================] - 0s 13ms/step - loss: 4.1287 - root_mean_squared_error: 2.0319 - val_loss: 3.0640 - val_root_mean_squared_error: 1.7504\n",
            "Epoch 12/100\n",
            "7/7 [==============================] - 0s 11ms/step - loss: 2.5563 - root_mean_squared_error: 1.5988 - val_loss: 1.9467 - val_root_mean_squared_error: 1.3952\n",
            "Epoch 13/100\n",
            "7/7 [==============================] - 0s 13ms/step - loss: 1.5599 - root_mean_squared_error: 1.2490 - val_loss: 1.3934 - val_root_mean_squared_error: 1.1804\n",
            "Epoch 14/100\n",
            "7/7 [==============================] - 0s 14ms/step - loss: 1.1310 - root_mean_squared_error: 1.0635 - val_loss: 1.2756 - val_root_mean_squared_error: 1.1294\n",
            "Epoch 15/100\n",
            "7/7 [==============================] - 0s 10ms/step - loss: 1.0390 - root_mean_squared_error: 1.0193 - val_loss: 1.3091 - val_root_mean_squared_error: 1.1441\n",
            "Epoch 16/100\n",
            "7/7 [==============================] - 0s 10ms/step - loss: 1.0444 - root_mean_squared_error: 1.0220 - val_loss: 1.3115 - val_root_mean_squared_error: 1.1452\n",
            "Epoch 17/100\n",
            "7/7 [==============================] - 0s 9ms/step - loss: 1.0131 - root_mean_squared_error: 1.0065 - val_loss: 1.2611 - val_root_mean_squared_error: 1.1230\n",
            "Epoch 18/100\n",
            "7/7 [==============================] - 0s 9ms/step - loss: 0.9644 - root_mean_squared_error: 0.9820 - val_loss: 1.2161 - val_root_mean_squared_error: 1.1028\n",
            "Epoch 19/100\n",
            "7/7 [==============================] - 0s 16ms/step - loss: 0.9340 - root_mean_squared_error: 0.9664 - val_loss: 1.1942 - val_root_mean_squared_error: 1.0928\n",
            "Epoch 20/100\n",
            "7/7 [==============================] - 0s 12ms/step - loss: 0.9181 - root_mean_squared_error: 0.9582 - val_loss: 1.1805 - val_root_mean_squared_error: 1.0865\n",
            "Epoch 21/100\n",
            "7/7 [==============================] - 0s 8ms/step - loss: 0.9077 - root_mean_squared_error: 0.9527 - val_loss: 1.1762 - val_root_mean_squared_error: 1.0845\n",
            "Epoch 22/100\n",
            "7/7 [==============================] - 0s 13ms/step - loss: 0.8982 - root_mean_squared_error: 0.9477 - val_loss: 1.1741 - val_root_mean_squared_error: 1.0835\n",
            "Epoch 23/100\n",
            "7/7 [==============================] - 0s 17ms/step - loss: 0.8891 - root_mean_squared_error: 0.9429 - val_loss: 1.1743 - val_root_mean_squared_error: 1.0836\n",
            "Epoch 24/100\n",
            "7/7 [==============================] - 0s 9ms/step - loss: 0.8833 - root_mean_squared_error: 0.9398 - val_loss: 1.1739 - val_root_mean_squared_error: 1.0835\n",
            "Epoch 25/100\n",
            "7/7 [==============================] - 0s 14ms/step - loss: 0.8795 - root_mean_squared_error: 0.9378 - val_loss: 1.1739 - val_root_mean_squared_error: 1.0835\n",
            "Epoch 26/100\n",
            "7/7 [==============================] - 0s 16ms/step - loss: 0.8765 - root_mean_squared_error: 0.9362 - val_loss: 1.1729 - val_root_mean_squared_error: 1.0830\n",
            "Epoch 27/100\n",
            "7/7 [==============================] - 0s 13ms/step - loss: 0.8739 - root_mean_squared_error: 0.9348 - val_loss: 1.1717 - val_root_mean_squared_error: 1.0825\n",
            "Epoch 28/100\n",
            "7/7 [==============================] - 0s 8ms/step - loss: 0.8716 - root_mean_squared_error: 0.9336 - val_loss: 1.1736 - val_root_mean_squared_error: 1.0833\n",
            "Epoch 29/100\n",
            "7/7 [==============================] - 0s 8ms/step - loss: 0.8679 - root_mean_squared_error: 0.9316 - val_loss: 1.1755 - val_root_mean_squared_error: 1.0842\n",
            "Epoch 30/100\n",
            "7/7 [==============================] - 0s 13ms/step - loss: 0.8671 - root_mean_squared_error: 0.9312 - val_loss: 1.1708 - val_root_mean_squared_error: 1.0820\n",
            "Epoch 31/100\n",
            "7/7 [==============================] - 0s 14ms/step - loss: 0.8652 - root_mean_squared_error: 0.9302 - val_loss: 1.1711 - val_root_mean_squared_error: 1.0822\n",
            "Epoch 32/100\n",
            "7/7 [==============================] - 0s 16ms/step - loss: 0.8640 - root_mean_squared_error: 0.9295 - val_loss: 1.1742 - val_root_mean_squared_error: 1.0836\n",
            "Epoch 33/100\n",
            "7/7 [==============================] - 0s 14ms/step - loss: 0.8630 - root_mean_squared_error: 0.9290 - val_loss: 1.1780 - val_root_mean_squared_error: 1.0854\n",
            "Epoch 34/100\n",
            "7/7 [==============================] - 0s 13ms/step - loss: 0.8626 - root_mean_squared_error: 0.9287 - val_loss: 1.1809 - val_root_mean_squared_error: 1.0867\n",
            "Epoch 35/100\n",
            "7/7 [==============================] - 0s 13ms/step - loss: 0.8624 - root_mean_squared_error: 0.9287 - val_loss: 1.1755 - val_root_mean_squared_error: 1.0842\n",
            "Epoch 36/100\n",
            "7/7 [==============================] - 0s 13ms/step - loss: 0.8610 - root_mean_squared_error: 0.9279 - val_loss: 1.1679 - val_root_mean_squared_error: 1.0807\n",
            "Epoch 37/100\n",
            "7/7 [==============================] - 0s 14ms/step - loss: 0.8613 - root_mean_squared_error: 0.9281 - val_loss: 1.1636 - val_root_mean_squared_error: 1.0787\n",
            "Epoch 38/100\n",
            "7/7 [==============================] - 0s 11ms/step - loss: 0.8603 - root_mean_squared_error: 0.9275 - val_loss: 1.1659 - val_root_mean_squared_error: 1.0798\n",
            "Epoch 39/100\n",
            "7/7 [==============================] - 0s 7ms/step - loss: 0.8607 - root_mean_squared_error: 0.9277 - val_loss: 1.1695 - val_root_mean_squared_error: 1.0814\n",
            "Epoch 40/100\n",
            "7/7 [==============================] - 0s 7ms/step - loss: 0.8606 - root_mean_squared_error: 0.9277 - val_loss: 1.1660 - val_root_mean_squared_error: 1.0798\n",
            "Epoch 41/100\n",
            "7/7 [==============================] - 0s 6ms/step - loss: 0.8612 - root_mean_squared_error: 0.9280 - val_loss: 1.1687 - val_root_mean_squared_error: 1.0811\n",
            "Epoch 42/100\n",
            "7/7 [==============================] - 0s 9ms/step - loss: 0.8609 - root_mean_squared_error: 0.9279 - val_loss: 1.1706 - val_root_mean_squared_error: 1.0820\n",
            "Epoch 43/100\n",
            "7/7 [==============================] - 0s 12ms/step - loss: 0.8604 - root_mean_squared_error: 0.9276 - val_loss: 1.1696 - val_root_mean_squared_error: 1.0815\n",
            "Epoch 44/100\n",
            "7/7 [==============================] - 0s 13ms/step - loss: 0.8606 - root_mean_squared_error: 0.9277 - val_loss: 1.1665 - val_root_mean_squared_error: 1.0801\n",
            "Epoch 45/100\n",
            "7/7 [==============================] - 0s 13ms/step - loss: 0.8597 - root_mean_squared_error: 0.9272 - val_loss: 1.1691 - val_root_mean_squared_error: 1.0813\n",
            "Epoch 46/100\n",
            "7/7 [==============================] - 0s 14ms/step - loss: 0.8602 - root_mean_squared_error: 0.9275 - val_loss: 1.1716 - val_root_mean_squared_error: 1.0824\n",
            "Epoch 47/100\n",
            "7/7 [==============================] - 0s 16ms/step - loss: 0.8592 - root_mean_squared_error: 0.9269 - val_loss: 1.1727 - val_root_mean_squared_error: 1.0829\n",
            "Epoch 48/100\n",
            "7/7 [==============================] - 0s 14ms/step - loss: 0.8598 - root_mean_squared_error: 0.9273 - val_loss: 1.1715 - val_root_mean_squared_error: 1.0824\n",
            "Epoch 49/100\n",
            "7/7 [==============================] - 0s 13ms/step - loss: 0.8592 - root_mean_squared_error: 0.9269 - val_loss: 1.1675 - val_root_mean_squared_error: 1.0805\n",
            "Epoch 50/100\n",
            "7/7 [==============================] - 0s 12ms/step - loss: 0.8595 - root_mean_squared_error: 0.9271 - val_loss: 1.1648 - val_root_mean_squared_error: 1.0793\n",
            "Epoch 51/100\n",
            "7/7 [==============================] - 0s 15ms/step - loss: 0.8603 - root_mean_squared_error: 0.9275 - val_loss: 1.1685 - val_root_mean_squared_error: 1.0810\n",
            "Epoch 52/100\n",
            "7/7 [==============================] - 0s 13ms/step - loss: 0.8604 - root_mean_squared_error: 0.9276 - val_loss: 1.1715 - val_root_mean_squared_error: 1.0823\n",
            "Epoch 53/100\n",
            "7/7 [==============================] - 0s 10ms/step - loss: 0.8606 - root_mean_squared_error: 0.9277 - val_loss: 1.1733 - val_root_mean_squared_error: 1.0832\n",
            "Epoch 54/100\n",
            "7/7 [==============================] - 0s 13ms/step - loss: 0.8605 - root_mean_squared_error: 0.9276 - val_loss: 1.1772 - val_root_mean_squared_error: 1.0850\n",
            "Epoch 55/100\n",
            "7/7 [==============================] - 0s 14ms/step - loss: 0.8599 - root_mean_squared_error: 0.9273 - val_loss: 1.1845 - val_root_mean_squared_error: 1.0884\n",
            "Epoch 56/100\n",
            "7/7 [==============================] - 0s 14ms/step - loss: 0.8602 - root_mean_squared_error: 0.9275 - val_loss: 1.1867 - val_root_mean_squared_error: 1.0894\n",
            "Epoch 57/100\n",
            "7/7 [==============================] - 0s 15ms/step - loss: 0.8595 - root_mean_squared_error: 0.9271 - val_loss: 1.1878 - val_root_mean_squared_error: 1.0899\n",
            "Epoch 58/100\n",
            "7/7 [==============================] - 0s 15ms/step - loss: 0.8596 - root_mean_squared_error: 0.9271 - val_loss: 1.1851 - val_root_mean_squared_error: 1.0886\n",
            "Epoch 59/100\n",
            "7/7 [==============================] - 0s 14ms/step - loss: 0.8582 - root_mean_squared_error: 0.9264 - val_loss: 1.1777 - val_root_mean_squared_error: 1.0852\n",
            "Epoch 60/100\n",
            "7/7 [==============================] - 0s 14ms/step - loss: 0.8595 - root_mean_squared_error: 0.9271 - val_loss: 1.1819 - val_root_mean_squared_error: 1.0871\n",
            "Epoch 61/100\n",
            "7/7 [==============================] - 0s 15ms/step - loss: 0.8592 - root_mean_squared_error: 0.9269 - val_loss: 1.1869 - val_root_mean_squared_error: 1.0894\n",
            "Epoch 62/100\n",
            "7/7 [==============================] - 0s 14ms/step - loss: 0.8598 - root_mean_squared_error: 0.9272 - val_loss: 1.1882 - val_root_mean_squared_error: 1.0901\n",
            "Epoch 63/100\n",
            "7/7 [==============================] - 0s 7ms/step - loss: 0.8603 - root_mean_squared_error: 0.9275 - val_loss: 1.1875 - val_root_mean_squared_error: 1.0897\n",
            "Epoch 64/100\n",
            "7/7 [==============================] - 0s 6ms/step - loss: 0.8599 - root_mean_squared_error: 0.9273 - val_loss: 1.1838 - val_root_mean_squared_error: 1.0880\n",
            "Epoch 65/100\n",
            "7/7 [==============================] - 0s 8ms/step - loss: 0.8601 - root_mean_squared_error: 0.9274 - val_loss: 1.1822 - val_root_mean_squared_error: 1.0873\n",
            "Epoch 66/100\n",
            "7/7 [==============================] - 0s 11ms/step - loss: 0.8590 - root_mean_squared_error: 0.9268 - val_loss: 1.1820 - val_root_mean_squared_error: 1.0872\n",
            "Epoch 67/100\n",
            "7/7 [==============================] - 0s 14ms/step - loss: 0.8593 - root_mean_squared_error: 0.9270 - val_loss: 1.1798 - val_root_mean_squared_error: 1.0862\n",
            "Epoch 68/100\n",
            "7/7 [==============================] - 0s 14ms/step - loss: 0.8588 - root_mean_squared_error: 0.9267 - val_loss: 1.1759 - val_root_mean_squared_error: 1.0844\n",
            "Epoch 69/100\n",
            "7/7 [==============================] - 0s 13ms/step - loss: 0.8590 - root_mean_squared_error: 0.9268 - val_loss: 1.1735 - val_root_mean_squared_error: 1.0833\n",
            "Epoch 70/100\n",
            "7/7 [==============================] - 0s 14ms/step - loss: 0.8604 - root_mean_squared_error: 0.9276 - val_loss: 1.1777 - val_root_mean_squared_error: 1.0852\n",
            "Epoch 71/100\n",
            "7/7 [==============================] - 0s 14ms/step - loss: 0.8604 - root_mean_squared_error: 0.9276 - val_loss: 1.1811 - val_root_mean_squared_error: 1.0868\n",
            "Epoch 72/100\n",
            "7/7 [==============================] - 0s 14ms/step - loss: 0.8617 - root_mean_squared_error: 0.9283 - val_loss: 1.1859 - val_root_mean_squared_error: 1.0890\n",
            "Epoch 73/100\n",
            "7/7 [==============================] - 0s 14ms/step - loss: 0.8618 - root_mean_squared_error: 0.9283 - val_loss: 1.1926 - val_root_mean_squared_error: 1.0921\n",
            "Epoch 74/100\n",
            "7/7 [==============================] - 0s 12ms/step - loss: 0.8612 - root_mean_squared_error: 0.9280 - val_loss: 1.1907 - val_root_mean_squared_error: 1.0912\n",
            "Epoch 75/100\n",
            "7/7 [==============================] - 0s 7ms/step - loss: 0.8604 - root_mean_squared_error: 0.9276 - val_loss: 1.1943 - val_root_mean_squared_error: 1.0928\n",
            "Epoch 76/100\n",
            "7/7 [==============================] - 0s 7ms/step - loss: 0.8598 - root_mean_squared_error: 0.9273 - val_loss: 1.1982 - val_root_mean_squared_error: 1.0946\n",
            "Epoch 77/100\n",
            "7/7 [==============================] - 0s 7ms/step - loss: 0.8601 - root_mean_squared_error: 0.9274 - val_loss: 1.1953 - val_root_mean_squared_error: 1.0933\n",
            "Epoch 78/100\n",
            "7/7 [==============================] - 0s 7ms/step - loss: 0.8607 - root_mean_squared_error: 0.9278 - val_loss: 1.1965 - val_root_mean_squared_error: 1.0938\n",
            "Epoch 79/100\n",
            "7/7 [==============================] - 0s 7ms/step - loss: 0.8602 - root_mean_squared_error: 0.9275 - val_loss: 1.2002 - val_root_mean_squared_error: 1.0955\n",
            "Epoch 80/100\n",
            "7/7 [==============================] - 0s 7ms/step - loss: 0.8605 - root_mean_squared_error: 0.9276 - val_loss: 1.2054 - val_root_mean_squared_error: 1.0979\n",
            "Epoch 81/100\n",
            "7/7 [==============================] - 0s 7ms/step - loss: 0.8607 - root_mean_squared_error: 0.9278 - val_loss: 1.2084 - val_root_mean_squared_error: 1.0993\n",
            "Epoch 82/100\n",
            "7/7 [==============================] - 0s 7ms/step - loss: 0.8616 - root_mean_squared_error: 0.9282 - val_loss: 1.2058 - val_root_mean_squared_error: 1.0981\n",
            "Epoch 83/100\n",
            "7/7 [==============================] - 0s 7ms/step - loss: 0.8620 - root_mean_squared_error: 0.9284 - val_loss: 1.1965 - val_root_mean_squared_error: 1.0938\n",
            "Epoch 84/100\n",
            "7/7 [==============================] - 0s 6ms/step - loss: 0.8607 - root_mean_squared_error: 0.9278 - val_loss: 1.2005 - val_root_mean_squared_error: 1.0957\n",
            "Epoch 85/100\n",
            "7/7 [==============================] - 0s 14ms/step - loss: 0.8604 - root_mean_squared_error: 0.9276 - val_loss: 1.2065 - val_root_mean_squared_error: 1.0984\n",
            "Epoch 86/100\n",
            "7/7 [==============================] - 0s 8ms/step - loss: 0.8601 - root_mean_squared_error: 0.9274 - val_loss: 1.2096 - val_root_mean_squared_error: 1.0998\n",
            "Epoch 87/100\n",
            "7/7 [==============================] - 0s 8ms/step - loss: 0.8608 - root_mean_squared_error: 0.9278 - val_loss: 1.2107 - val_root_mean_squared_error: 1.1003\n",
            "Epoch 88/100\n",
            "7/7 [==============================] - 0s 15ms/step - loss: 0.8609 - root_mean_squared_error: 0.9279 - val_loss: 1.2094 - val_root_mean_squared_error: 1.0997\n",
            "Epoch 89/100\n",
            "7/7 [==============================] - 0s 14ms/step - loss: 0.8608 - root_mean_squared_error: 0.9278 - val_loss: 1.2073 - val_root_mean_squared_error: 1.0988\n",
            "Epoch 90/100\n",
            "7/7 [==============================] - 0s 15ms/step - loss: 0.8601 - root_mean_squared_error: 0.9274 - val_loss: 1.2004 - val_root_mean_squared_error: 1.0956\n",
            "Epoch 91/100\n",
            "7/7 [==============================] - 0s 8ms/step - loss: 0.8604 - root_mean_squared_error: 0.9276 - val_loss: 1.1943 - val_root_mean_squared_error: 1.0929\n",
            "Epoch 92/100\n",
            "7/7 [==============================] - 0s 6ms/step - loss: 0.8607 - root_mean_squared_error: 0.9277 - val_loss: 1.1892 - val_root_mean_squared_error: 1.0905\n",
            "Epoch 93/100\n",
            "7/7 [==============================] - 0s 10ms/step - loss: 0.8607 - root_mean_squared_error: 0.9277 - val_loss: 1.1864 - val_root_mean_squared_error: 1.0892\n",
            "Epoch 94/100\n",
            "7/7 [==============================] - 0s 12ms/step - loss: 0.8603 - root_mean_squared_error: 0.9275 - val_loss: 1.1831 - val_root_mean_squared_error: 1.0877\n",
            "Epoch 95/100\n",
            "7/7 [==============================] - 0s 14ms/step - loss: 0.8605 - root_mean_squared_error: 0.9276 - val_loss: 1.1800 - val_root_mean_squared_error: 1.0863\n",
            "Epoch 96/100\n",
            "7/7 [==============================] - 0s 15ms/step - loss: 0.8600 - root_mean_squared_error: 0.9274 - val_loss: 1.1779 - val_root_mean_squared_error: 1.0853\n",
            "Epoch 97/100\n",
            "7/7 [==============================] - 0s 13ms/step - loss: 0.8599 - root_mean_squared_error: 0.9273 - val_loss: 1.1712 - val_root_mean_squared_error: 1.0822\n",
            "Epoch 98/100\n",
            "7/7 [==============================] - 0s 14ms/step - loss: 0.8597 - root_mean_squared_error: 0.9272 - val_loss: 1.1688 - val_root_mean_squared_error: 1.0811\n",
            "Epoch 99/100\n",
            "7/7 [==============================] - 0s 14ms/step - loss: 0.8610 - root_mean_squared_error: 0.9279 - val_loss: 1.1753 - val_root_mean_squared_error: 1.0841\n",
            "Epoch 100/100\n",
            "7/7 [==============================] - 0s 15ms/step - loss: 0.8602 - root_mean_squared_error: 0.9275 - val_loss: 1.1775 - val_root_mean_squared_error: 1.0851\n"
=======
            "7/7 [==============================] - 1s 35ms/step - loss: 17.8476 - root_mean_squared_error: 4.2246 - val_loss: 17.7738 - val_root_mean_squared_error: 4.2159\n",
            "Epoch 2/100\n",
            "7/7 [==============================] - 0s 5ms/step - loss: 17.2651 - root_mean_squared_error: 4.1551 - val_loss: 17.1420 - val_root_mean_squared_error: 4.1403\n",
            "Epoch 3/100\n",
            "7/7 [==============================] - 0s 6ms/step - loss: 16.6014 - root_mean_squared_error: 4.0745 - val_loss: 16.3673 - val_root_mean_squared_error: 4.0457\n",
            "Epoch 4/100\n",
            "7/7 [==============================] - 0s 6ms/step - loss: 15.7696 - root_mean_squared_error: 3.9711 - val_loss: 15.3759 - val_root_mean_squared_error: 3.9212\n",
            "Epoch 5/100\n",
            "7/7 [==============================] - 0s 6ms/step - loss: 14.7010 - root_mean_squared_error: 3.8342 - val_loss: 14.1261 - val_root_mean_squared_error: 3.7585\n",
            "Epoch 6/100\n",
            "7/7 [==============================] - 0s 6ms/step - loss: 13.3612 - root_mean_squared_error: 3.6553 - val_loss: 12.6002 - val_root_mean_squared_error: 3.5497\n",
            "Epoch 7/100\n",
            "7/7 [==============================] - 0s 6ms/step - loss: 11.7505 - root_mean_squared_error: 3.4279 - val_loss: 10.8133 - val_root_mean_squared_error: 3.2884\n",
            "Epoch 8/100\n",
            "7/7 [==============================] - 0s 6ms/step - loss: 9.8967 - root_mean_squared_error: 3.1459 - val_loss: 8.8312 - val_root_mean_squared_error: 2.9717\n",
            "Epoch 9/100\n",
            "7/7 [==============================] - 0s 6ms/step - loss: 7.8807 - root_mean_squared_error: 2.8073 - val_loss: 6.7751 - val_root_mean_squared_error: 2.6029\n",
            "Epoch 10/100\n",
            "7/7 [==============================] - 0s 6ms/step - loss: 5.8560 - root_mean_squared_error: 2.4199 - val_loss: 4.8021 - val_root_mean_squared_error: 2.1914\n",
            "Epoch 11/100\n",
            "7/7 [==============================] - 0s 6ms/step - loss: 4.0007 - root_mean_squared_error: 2.0002 - val_loss: 3.1279 - val_root_mean_squared_error: 1.7686\n",
            "Epoch 12/100\n",
            "7/7 [==============================] - 0s 6ms/step - loss: 2.5158 - root_mean_squared_error: 1.5861 - val_loss: 1.9414 - val_root_mean_squared_error: 1.3934\n",
            "Epoch 13/100\n",
            "7/7 [==============================] - 0s 6ms/step - loss: 1.5490 - root_mean_squared_error: 1.2446 - val_loss: 1.3210 - val_root_mean_squared_error: 1.1494\n",
            "Epoch 14/100\n",
            "7/7 [==============================] - 0s 8ms/step - loss: 1.1137 - root_mean_squared_error: 1.0553 - val_loss: 1.1341 - val_root_mean_squared_error: 1.0649\n",
            "Epoch 15/100\n",
            "7/7 [==============================] - 0s 6ms/step - loss: 1.0092 - root_mean_squared_error: 1.0046 - val_loss: 1.1292 - val_root_mean_squared_error: 1.0626\n",
            "Epoch 16/100\n",
            "7/7 [==============================] - 0s 6ms/step - loss: 1.0020 - root_mean_squared_error: 1.0010 - val_loss: 1.1315 - val_root_mean_squared_error: 1.0637\n",
            "Epoch 17/100\n",
            "7/7 [==============================] - 0s 6ms/step - loss: 0.9801 - root_mean_squared_error: 0.9900 - val_loss: 1.1197 - val_root_mean_squared_error: 1.0581\n",
            "Epoch 18/100\n",
            "7/7 [==============================] - 0s 6ms/step - loss: 0.9416 - root_mean_squared_error: 0.9703 - val_loss: 1.1099 - val_root_mean_squared_error: 1.0535\n",
            "Epoch 19/100\n",
            "7/7 [==============================] - 0s 6ms/step - loss: 0.9113 - root_mean_squared_error: 0.9546 - val_loss: 1.1114 - val_root_mean_squared_error: 1.0542\n",
            "Epoch 20/100\n",
            "7/7 [==============================] - 0s 6ms/step - loss: 0.8940 - root_mean_squared_error: 0.9455 - val_loss: 1.1206 - val_root_mean_squared_error: 1.0586\n",
            "Epoch 21/100\n",
            "7/7 [==============================] - 0s 5ms/step - loss: 0.8863 - root_mean_squared_error: 0.9414 - val_loss: 1.1274 - val_root_mean_squared_error: 1.0618\n",
            "Epoch 22/100\n",
            "7/7 [==============================] - 0s 5ms/step - loss: 0.8761 - root_mean_squared_error: 0.9360 - val_loss: 1.1278 - val_root_mean_squared_error: 1.0620\n",
            "Epoch 23/100\n",
            "7/7 [==============================] - 0s 6ms/step - loss: 0.8683 - root_mean_squared_error: 0.9318 - val_loss: 1.1275 - val_root_mean_squared_error: 1.0618\n",
            "Epoch 24/100\n",
            "7/7 [==============================] - 0s 6ms/step - loss: 0.8614 - root_mean_squared_error: 0.9281 - val_loss: 1.1252 - val_root_mean_squared_error: 1.0608\n",
            "Epoch 25/100\n",
            "7/7 [==============================] - 0s 6ms/step - loss: 0.8575 - root_mean_squared_error: 0.9260 - val_loss: 1.1218 - val_root_mean_squared_error: 1.0591\n",
            "Epoch 26/100\n",
            "7/7 [==============================] - 0s 6ms/step - loss: 0.8532 - root_mean_squared_error: 0.9237 - val_loss: 1.1176 - val_root_mean_squared_error: 1.0571\n",
            "Epoch 27/100\n",
            "7/7 [==============================] - 0s 6ms/step - loss: 0.8484 - root_mean_squared_error: 0.9211 - val_loss: 1.1140 - val_root_mean_squared_error: 1.0555\n",
            "Epoch 28/100\n",
            "7/7 [==============================] - 0s 6ms/step - loss: 0.8475 - root_mean_squared_error: 0.9206 - val_loss: 1.1136 - val_root_mean_squared_error: 1.0553\n",
            "Epoch 29/100\n",
            "7/7 [==============================] - 0s 6ms/step - loss: 0.8453 - root_mean_squared_error: 0.9194 - val_loss: 1.1181 - val_root_mean_squared_error: 1.0574\n",
            "Epoch 30/100\n",
            "7/7 [==============================] - 0s 7ms/step - loss: 0.8433 - root_mean_squared_error: 0.9183 - val_loss: 1.1223 - val_root_mean_squared_error: 1.0594\n",
            "Epoch 31/100\n",
            "7/7 [==============================] - 0s 6ms/step - loss: 0.8419 - root_mean_squared_error: 0.9175 - val_loss: 1.1250 - val_root_mean_squared_error: 1.0607\n",
            "Epoch 32/100\n",
            "7/7 [==============================] - 0s 6ms/step - loss: 0.8404 - root_mean_squared_error: 0.9167 - val_loss: 1.1294 - val_root_mean_squared_error: 1.0627\n",
            "Epoch 33/100\n",
            "7/7 [==============================] - 0s 7ms/step - loss: 0.8394 - root_mean_squared_error: 0.9162 - val_loss: 1.1291 - val_root_mean_squared_error: 1.0626\n",
            "Epoch 34/100\n",
            "7/7 [==============================] - 0s 6ms/step - loss: 0.8394 - root_mean_squared_error: 0.9162 - val_loss: 1.1318 - val_root_mean_squared_error: 1.0639\n",
            "Epoch 35/100\n",
            "7/7 [==============================] - 0s 8ms/step - loss: 0.8388 - root_mean_squared_error: 0.9159 - val_loss: 1.1338 - val_root_mean_squared_error: 1.0648\n",
            "Epoch 36/100\n",
            "7/7 [==============================] - 0s 7ms/step - loss: 0.8392 - root_mean_squared_error: 0.9161 - val_loss: 1.1341 - val_root_mean_squared_error: 1.0649\n",
            "Epoch 37/100\n",
            "7/7 [==============================] - 0s 7ms/step - loss: 0.8379 - root_mean_squared_error: 0.9154 - val_loss: 1.1323 - val_root_mean_squared_error: 1.0641\n",
            "Epoch 38/100\n",
            "7/7 [==============================] - 0s 6ms/step - loss: 0.8377 - root_mean_squared_error: 0.9153 - val_loss: 1.1307 - val_root_mean_squared_error: 1.0634\n",
            "Epoch 39/100\n",
            "7/7 [==============================] - 0s 6ms/step - loss: 0.8380 - root_mean_squared_error: 0.9154 - val_loss: 1.1286 - val_root_mean_squared_error: 1.0623\n",
            "Epoch 40/100\n",
            "7/7 [==============================] - 0s 7ms/step - loss: 0.8380 - root_mean_squared_error: 0.9154 - val_loss: 1.1255 - val_root_mean_squared_error: 1.0609\n",
            "Epoch 41/100\n",
            "7/7 [==============================] - 0s 6ms/step - loss: 0.8383 - root_mean_squared_error: 0.9156 - val_loss: 1.1243 - val_root_mean_squared_error: 1.0603\n",
            "Epoch 42/100\n",
            "7/7 [==============================] - 0s 7ms/step - loss: 0.8380 - root_mean_squared_error: 0.9154 - val_loss: 1.1196 - val_root_mean_squared_error: 1.0581\n",
            "Epoch 43/100\n",
            "7/7 [==============================] - 0s 7ms/step - loss: 0.8381 - root_mean_squared_error: 0.9155 - val_loss: 1.1185 - val_root_mean_squared_error: 1.0576\n",
            "Epoch 44/100\n",
            "7/7 [==============================] - 0s 6ms/step - loss: 0.8385 - root_mean_squared_error: 0.9157 - val_loss: 1.1195 - val_root_mean_squared_error: 1.0581\n",
            "Epoch 45/100\n",
            "7/7 [==============================] - 0s 6ms/step - loss: 0.8387 - root_mean_squared_error: 0.9158 - val_loss: 1.1196 - val_root_mean_squared_error: 1.0581\n",
            "Epoch 46/100\n",
            "7/7 [==============================] - 0s 6ms/step - loss: 0.8382 - root_mean_squared_error: 0.9155 - val_loss: 1.1175 - val_root_mean_squared_error: 1.0571\n",
            "Epoch 47/100\n",
            "7/7 [==============================] - 0s 6ms/step - loss: 0.8368 - root_mean_squared_error: 0.9147 - val_loss: 1.1170 - val_root_mean_squared_error: 1.0569\n",
            "Epoch 48/100\n",
            "7/7 [==============================] - 0s 6ms/step - loss: 0.8385 - root_mean_squared_error: 0.9157 - val_loss: 1.1175 - val_root_mean_squared_error: 1.0571\n",
            "Epoch 49/100\n",
            "7/7 [==============================] - 0s 6ms/step - loss: 0.8379 - root_mean_squared_error: 0.9154 - val_loss: 1.1185 - val_root_mean_squared_error: 1.0576\n",
            "Epoch 50/100\n",
            "7/7 [==============================] - 0s 6ms/step - loss: 0.8379 - root_mean_squared_error: 0.9154 - val_loss: 1.1221 - val_root_mean_squared_error: 1.0593\n",
            "Epoch 51/100\n",
            "7/7 [==============================] - 0s 8ms/step - loss: 0.8381 - root_mean_squared_error: 0.9155 - val_loss: 1.1266 - val_root_mean_squared_error: 1.0614\n",
            "Epoch 52/100\n",
            "7/7 [==============================] - 0s 6ms/step - loss: 0.8381 - root_mean_squared_error: 0.9155 - val_loss: 1.1292 - val_root_mean_squared_error: 1.0626\n",
            "Epoch 53/100\n",
            "7/7 [==============================] - 0s 6ms/step - loss: 0.8367 - root_mean_squared_error: 0.9147 - val_loss: 1.1313 - val_root_mean_squared_error: 1.0636\n",
            "Epoch 54/100\n",
            "7/7 [==============================] - 0s 7ms/step - loss: 0.8362 - root_mean_squared_error: 0.9145 - val_loss: 1.1374 - val_root_mean_squared_error: 1.0665\n",
            "Epoch 55/100\n",
            "7/7 [==============================] - 0s 7ms/step - loss: 0.8376 - root_mean_squared_error: 0.9152 - val_loss: 1.1406 - val_root_mean_squared_error: 1.0680\n",
            "Epoch 56/100\n",
            "7/7 [==============================] - 0s 6ms/step - loss: 0.8376 - root_mean_squared_error: 0.9152 - val_loss: 1.1388 - val_root_mean_squared_error: 1.0672\n",
            "Epoch 57/100\n",
            "7/7 [==============================] - 0s 6ms/step - loss: 0.8374 - root_mean_squared_error: 0.9151 - val_loss: 1.1346 - val_root_mean_squared_error: 1.0652\n",
            "Epoch 58/100\n",
            "7/7 [==============================] - 0s 6ms/step - loss: 0.8375 - root_mean_squared_error: 0.9151 - val_loss: 1.1280 - val_root_mean_squared_error: 1.0621\n",
            "Epoch 59/100\n",
            "7/7 [==============================] - 0s 7ms/step - loss: 0.8380 - root_mean_squared_error: 0.9154 - val_loss: 1.1293 - val_root_mean_squared_error: 1.0627\n",
            "Epoch 60/100\n",
            "7/7 [==============================] - 0s 6ms/step - loss: 0.8376 - root_mean_squared_error: 0.9152 - val_loss: 1.1327 - val_root_mean_squared_error: 1.0643\n",
            "Epoch 61/100\n",
            "7/7 [==============================] - 0s 6ms/step - loss: 0.8375 - root_mean_squared_error: 0.9152 - val_loss: 1.1391 - val_root_mean_squared_error: 1.0673\n",
            "Epoch 62/100\n",
            "7/7 [==============================] - 0s 6ms/step - loss: 0.8370 - root_mean_squared_error: 0.9149 - val_loss: 1.1460 - val_root_mean_squared_error: 1.0705\n",
            "Epoch 63/100\n",
            "7/7 [==============================] - 0s 6ms/step - loss: 0.8365 - root_mean_squared_error: 0.9146 - val_loss: 1.1497 - val_root_mean_squared_error: 1.0723\n",
            "Epoch 64/100\n",
            "7/7 [==============================] - 0s 6ms/step - loss: 0.8363 - root_mean_squared_error: 0.9145 - val_loss: 1.1510 - val_root_mean_squared_error: 1.0729\n",
            "Epoch 65/100\n",
            "7/7 [==============================] - 0s 6ms/step - loss: 0.8375 - root_mean_squared_error: 0.9151 - val_loss: 1.1536 - val_root_mean_squared_error: 1.0741\n",
            "Epoch 66/100\n",
            "7/7 [==============================] - 0s 6ms/step - loss: 0.8399 - root_mean_squared_error: 0.9164 - val_loss: 1.1574 - val_root_mean_squared_error: 1.0758\n",
            "Epoch 67/100\n",
            "7/7 [==============================] - 0s 7ms/step - loss: 0.8396 - root_mean_squared_error: 0.9163 - val_loss: 1.1552 - val_root_mean_squared_error: 1.0748\n",
            "Epoch 68/100\n",
            "7/7 [==============================] - 0s 6ms/step - loss: 0.8385 - root_mean_squared_error: 0.9157 - val_loss: 1.1550 - val_root_mean_squared_error: 1.0747\n",
            "Epoch 69/100\n",
            "7/7 [==============================] - 0s 6ms/step - loss: 0.8391 - root_mean_squared_error: 0.9160 - val_loss: 1.1551 - val_root_mean_squared_error: 1.0748\n",
            "Epoch 70/100\n",
            "7/7 [==============================] - 0s 6ms/step - loss: 0.8373 - root_mean_squared_error: 0.9151 - val_loss: 1.1559 - val_root_mean_squared_error: 1.0751\n",
            "Epoch 71/100\n",
            "7/7 [==============================] - 0s 6ms/step - loss: 0.8386 - root_mean_squared_error: 0.9158 - val_loss: 1.1523 - val_root_mean_squared_error: 1.0734\n",
            "Epoch 72/100\n",
            "7/7 [==============================] - 0s 7ms/step - loss: 0.8374 - root_mean_squared_error: 0.9151 - val_loss: 1.1470 - val_root_mean_squared_error: 1.0710\n",
            "Epoch 73/100\n",
            "7/7 [==============================] - 0s 6ms/step - loss: 0.8381 - root_mean_squared_error: 0.9155 - val_loss: 1.1461 - val_root_mean_squared_error: 1.0706\n",
            "Epoch 74/100\n",
            "7/7 [==============================] - 0s 6ms/step - loss: 0.8391 - root_mean_squared_error: 0.9160 - val_loss: 1.1438 - val_root_mean_squared_error: 1.0695\n",
            "Epoch 75/100\n",
            "7/7 [==============================] - 0s 7ms/step - loss: 0.8381 - root_mean_squared_error: 0.9155 - val_loss: 1.1363 - val_root_mean_squared_error: 1.0660\n",
            "Epoch 76/100\n",
            "7/7 [==============================] - 0s 6ms/step - loss: 0.8376 - root_mean_squared_error: 0.9152 - val_loss: 1.1311 - val_root_mean_squared_error: 1.0635\n",
            "Epoch 77/100\n",
            "7/7 [==============================] - 0s 6ms/step - loss: 0.8377 - root_mean_squared_error: 0.9152 - val_loss: 1.1276 - val_root_mean_squared_error: 1.0619\n",
            "Epoch 78/100\n",
            "7/7 [==============================] - 0s 6ms/step - loss: 0.8378 - root_mean_squared_error: 0.9153 - val_loss: 1.1301 - val_root_mean_squared_error: 1.0630\n",
            "Epoch 79/100\n",
            "7/7 [==============================] - 0s 7ms/step - loss: 0.8381 - root_mean_squared_error: 0.9155 - val_loss: 1.1394 - val_root_mean_squared_error: 1.0674\n",
            "Epoch 80/100\n",
            "7/7 [==============================] - 0s 6ms/step - loss: 0.8383 - root_mean_squared_error: 0.9156 - val_loss: 1.1425 - val_root_mean_squared_error: 1.0689\n",
            "Epoch 81/100\n",
            "7/7 [==============================] - 0s 6ms/step - loss: 0.8379 - root_mean_squared_error: 0.9154 - val_loss: 1.1424 - val_root_mean_squared_error: 1.0688\n",
            "Epoch 82/100\n",
            "7/7 [==============================] - 0s 6ms/step - loss: 0.8377 - root_mean_squared_error: 0.9153 - val_loss: 1.1440 - val_root_mean_squared_error: 1.0696\n",
            "Epoch 83/100\n",
            "7/7 [==============================] - 0s 7ms/step - loss: 0.8373 - root_mean_squared_error: 0.9150 - val_loss: 1.1476 - val_root_mean_squared_error: 1.0713\n",
            "Epoch 84/100\n",
            "7/7 [==============================] - 0s 6ms/step - loss: 0.8380 - root_mean_squared_error: 0.9154 - val_loss: 1.1451 - val_root_mean_squared_error: 1.0701\n",
            "Epoch 85/100\n",
            "7/7 [==============================] - 0s 6ms/step - loss: 0.8371 - root_mean_squared_error: 0.9149 - val_loss: 1.1394 - val_root_mean_squared_error: 1.0674\n",
            "Epoch 86/100\n",
            "7/7 [==============================] - 0s 6ms/step - loss: 0.8375 - root_mean_squared_error: 0.9151 - val_loss: 1.1329 - val_root_mean_squared_error: 1.0644\n",
            "Epoch 87/100\n",
            "7/7 [==============================] - 0s 7ms/step - loss: 0.8368 - root_mean_squared_error: 0.9147 - val_loss: 1.1315 - val_root_mean_squared_error: 1.0637\n",
            "Epoch 88/100\n",
            "7/7 [==============================] - 0s 6ms/step - loss: 0.8365 - root_mean_squared_error: 0.9146 - val_loss: 1.1287 - val_root_mean_squared_error: 1.0624\n",
            "Epoch 89/100\n",
            "7/7 [==============================] - 0s 5ms/step - loss: 0.8369 - root_mean_squared_error: 0.9148 - val_loss: 1.1296 - val_root_mean_squared_error: 1.0628\n",
            "Epoch 90/100\n",
            "7/7 [==============================] - 0s 9ms/step - loss: 0.8375 - root_mean_squared_error: 0.9151 - val_loss: 1.1255 - val_root_mean_squared_error: 1.0609\n",
            "Epoch 91/100\n",
            "7/7 [==============================] - 0s 6ms/step - loss: 0.8375 - root_mean_squared_error: 0.9151 - val_loss: 1.1246 - val_root_mean_squared_error: 1.0605\n",
            "Epoch 92/100\n",
            "7/7 [==============================] - 0s 5ms/step - loss: 0.8374 - root_mean_squared_error: 0.9151 - val_loss: 1.1249 - val_root_mean_squared_error: 1.0606\n",
            "Epoch 93/100\n",
            "7/7 [==============================] - 0s 6ms/step - loss: 0.8382 - root_mean_squared_error: 0.9155 - val_loss: 1.1220 - val_root_mean_squared_error: 1.0592\n",
            "Epoch 94/100\n",
            "7/7 [==============================] - 0s 6ms/step - loss: 0.8373 - root_mean_squared_error: 0.9151 - val_loss: 1.1192 - val_root_mean_squared_error: 1.0579\n",
            "Epoch 95/100\n",
            "7/7 [==============================] - 0s 7ms/step - loss: 0.8383 - root_mean_squared_error: 0.9156 - val_loss: 1.1222 - val_root_mean_squared_error: 1.0593\n",
            "Epoch 96/100\n",
            "7/7 [==============================] - 0s 6ms/step - loss: 0.8373 - root_mean_squared_error: 0.9151 - val_loss: 1.1255 - val_root_mean_squared_error: 1.0609\n",
            "Epoch 97/100\n",
            "7/7 [==============================] - 0s 6ms/step - loss: 0.8369 - root_mean_squared_error: 0.9148 - val_loss: 1.1215 - val_root_mean_squared_error: 1.0590\n",
            "Epoch 98/100\n",
            "7/7 [==============================] - 0s 6ms/step - loss: 0.8373 - root_mean_squared_error: 0.9150 - val_loss: 1.1215 - val_root_mean_squared_error: 1.0590\n",
            "Epoch 99/100\n",
            "7/7 [==============================] - 0s 7ms/step - loss: 0.8372 - root_mean_squared_error: 0.9150 - val_loss: 1.1277 - val_root_mean_squared_error: 1.0619\n",
            "Epoch 100/100\n",
            "7/7 [==============================] - 0s 6ms/step - loss: 0.8364 - root_mean_squared_error: 0.9145 - val_loss: 1.1336 - val_root_mean_squared_error: 1.0647\n"
          ]
        }
      ]
    },
    {
      "cell_type": "code",
      "source": [
        "pickle.dump(model, open('model.pkl', 'wb'))"
      ],
      "metadata": {
        "colab": {
          "base_uri": "https://localhost:8080/"
        },
        "id": "M-JvKV2E4KTC",
        "outputId": "9ed52164-ae3b-4017-eb71-17fbb89e3b99"
      },
      "execution_count": 16,
      "outputs": [
        {
          "output_type": "stream",
          "name": "stdout",
          "text": [
            "INFO:tensorflow:Assets written to: ram://d3bb3a92-e567-440f-a691-0904dc3bf211/assets\n"
          ]
        }
      ]
    },
    {
      "cell_type": "code",
      "source": [
        "with open('model.pkl', 'rb') as pickle_in:\n",
        "     unpickled_mercury = pickle.load(pickle_in)"
      ],
      "metadata": {
        "id": "XVXlhNhY4u16"
      },
      "execution_count": 17,
      "outputs": []
    },
    {
      "cell_type": "code",
      "source": [
        "print(\"Name: \", unpickled_mercury.name)\n",
        "print(\"Size: \", unpickled_mercury.size)"
      ],
      "metadata": {
        "id": "34kJL1yF48oA",
        "outputId": "b4c3932f-711d-4821-8ba7-f76add8ec026",
        "colab": {
          "base_uri": "https://localhost:8080/",
          "height": 200
        }
      },
      "execution_count": 18,
      "outputs": [
        {
          "output_type": "stream",
          "name": "stdout",
          "text": [
            "Name:  model\n"
          ]
        },
        {
          "output_type": "error",
          "ename": "AttributeError",
          "evalue": "ignored",
          "traceback": [
            "\u001b[0;31m---------------------------------------------------------------------------\u001b[0m",
            "\u001b[0;31mAttributeError\u001b[0m                            Traceback (most recent call last)",
            "\u001b[0;32m<ipython-input-18-3e3a237c7c46>\u001b[0m in \u001b[0;36m<module>\u001b[0;34m()\u001b[0m\n\u001b[1;32m      1\u001b[0m \u001b[0mprint\u001b[0m\u001b[0;34m(\u001b[0m\u001b[0;34m\"Name: \"\u001b[0m\u001b[0;34m,\u001b[0m \u001b[0munpickled_mercury\u001b[0m\u001b[0;34m.\u001b[0m\u001b[0mname\u001b[0m\u001b[0;34m)\u001b[0m\u001b[0;34m\u001b[0m\u001b[0;34m\u001b[0m\u001b[0m\n\u001b[0;32m----> 2\u001b[0;31m \u001b[0mprint\u001b[0m\u001b[0;34m(\u001b[0m\u001b[0;34m\"Size: \"\u001b[0m\u001b[0;34m,\u001b[0m \u001b[0munpickled_mercury\u001b[0m\u001b[0;34m.\u001b[0m\u001b[0msize\u001b[0m\u001b[0;34m)\u001b[0m\u001b[0;34m\u001b[0m\u001b[0;34m\u001b[0m\u001b[0m\n\u001b[0m",
            "\u001b[0;31mAttributeError\u001b[0m: 'Functional' object has no attribute 'size'"
>>>>>>> d0225f87dd5f61b01aee083f057200a284d28fae
          ]
        }
      ],
      "source": [
        "# Setup model yang sudah dibuat\n",
        "model = Model(inputs=[user_id_input, place_id_input], outputs=y)\n",
        "model.compile(\n",
        "    loss = \"mse\",optimizer =\"adam\",metrics=[tf.keras.metrics.RootMeanSquaredError()]\n",
        ")\n",
        "\n",
        "# Hasil fit model\n",
        "history = model.fit([train_user, train_place],\n",
        "          df_train['Place_Rating'],\n",
        "          batch_size=256, \n",
        "          epochs=100,\n",
        "          validation_split=0.1,\n",
        "          shuffle=True)\n"
      ]
    },
    {
      "cell_type": "markdown",
      "metadata": {
        "id": "jgU97SF3mFMP"
      },
<<<<<<< HEAD
      "source": [
        "Mencoba Model "
      ]
=======
      "execution_count": 19,
      "outputs": []
>>>>>>> d0225f87dd5f61b01aee083f057200a284d28fae
    },
    {
      "cell_type": "code",
      "execution_count": 10,
      "metadata": {},
      "outputs": [],
      "source": [
        "# model.save('saved_model/my_model')"
      ]
    },
    {
      "cell_type": "code",
      "execution_count": 11,
      "metadata": {
        "id": "ojn84vMSmATs"
      },
      "outputs": [
        {
          "name": "stdout",
          "output_type": "stream",
          "text": [
            "16/16 [==============================] - 0s 2ms/step\n"
          ]
        }
      ],
      "source": [
        "# Test model\n",
        "y_pred = model.predict([test_user, test_place])\n",
        "y_true = df_test['Place_Rating'].values"
      ]
    },
    {
      "cell_type": "code",
      "execution_count": 12,
      "metadata": {
        "colab": {
          "base_uri": "https://localhost:8080/"
        },
        "id": "bV_tbfBAmhYS",
        "outputId": "b3615d55-b108-4fbb-fe44-338cf60c6b49"
      },
<<<<<<< HEAD
=======
      "execution_count": 21,
>>>>>>> d0225f87dd5f61b01aee083f057200a284d28fae
      "outputs": [
        {
          "name": "stdout",
          "output_type": "stream",
          "text": [
            "\n",
            "\n",
<<<<<<< HEAD
            "Testing Result With Keras Deep Learning: 0.9385 RMSE\n"
=======
            "Testing Result With Keras Deep Learning: 1.0082 RMSE\n"
>>>>>>> d0225f87dd5f61b01aee083f057200a284d28fae
          ]
        }
      ],
      "source": [
        "#  Evaluasi dengan RMSE\n",
        "rmse = np.sqrt(mean_squared_error(y_pred=y_pred, y_true=y_true))\n",
        "print('\\n\\nTesting Result With Keras Deep Learning: {:.4f} RMSE'.format(rmse))"
      ]
    },
    {
      "cell_type": "code",
      "execution_count": 13,
      "metadata": {
        "colab": {
          "base_uri": "https://localhost:8080/",
          "height": 295
        },
        "id": "4ycPvXqTmenX",
        "outputId": "f0043b4a-aab0-48d4-f826-eab6b5f34975"
      },
<<<<<<< HEAD
=======
      "execution_count": 22,
>>>>>>> d0225f87dd5f61b01aee083f057200a284d28fae
      "outputs": [
        {
          "data": {
            "image/png": "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",
            "text/plain": [
              "<Figure size 432x288 with 1 Axes>"
<<<<<<< HEAD
            ]
=======
            ],
            "image/png": "iVBORw0KGgoAAAANSUhEUgAAAYMAAAEWCAYAAACEz/viAAAABHNCSVQICAgIfAhkiAAAAAlwSFlzAAALEgAACxIB0t1+/AAAADh0RVh0U29mdHdhcmUAbWF0cGxvdGxpYiB2ZXJzaW9uMy4yLjIsIGh0dHA6Ly9tYXRwbG90bGliLm9yZy+WH4yJAAAgAElEQVR4nO3deZxcdZnv8c+3qqu37OlusoeEhIR9bQIYxkEWWQVnQERlRhy9EUcvqIwLjuLga5zRuV4HxwUNggJyQVnEsKgsBmQNhBC2JEASEtLZE5J0Oumtqp77xzmVrjTdSZ+kqqur6nm/XvWqOvvzq1N1nrP8zu/IzHDOOVfeYoUOwDnnXOF5MnDOOefJwDnnnCcD55xzeDJwzjmHJwPnnHN4MnDOOYcnA1fGJP1a0r/3cdwVks7Id0xRSfq5pG8VOg5X/CoKHYBz7r0kXQ58xsxO2dN4ZnZF/0TkSp0fGThXpCTFCx2DKx2eDNyAF56i+YqkVyTtkHSTpFGS/ihpu6RHJY0Ix71A0uuStkp6XNKhWfM5VtKCcJrfAtXdlnO+pIXhtM9IOipinP8m6S5JvwmX8aqkaZKukbRB0ipJH8waf1hYlrWSVkv6d0nxMOafAydLapG0NRz/15JukPSQpB3AB7qf6pJ0YViGZknLJJ0d9r9c0vIwrrclfSL6mnClzJOBKxYXAWcC04APAX8EvgE0EPyOr5Q0DbgD+GLY/yHgfkmVkiqB+4DbgJHAXeE8gSBRADcDnwXqgF8AcyRVRYzzQ+EyRgAvAX8O4xsHfCecb8avgSQwFTgW+CDBqaHFwBXAs2Y22MyGZ03zceC7wBDgqewFS5oB3Ap8BRgOvB9YIWkQ8D/AOWY2BHgfsDBiuVyJ82TgisWPzWy9ma0GngTmmdlLZtYG/J5gY/pR4EEze8TMOoEfADUEG7+TgARwvZl1mtndwAtZ858F/MLM5plZysxuAdrD6aJ40sz+bGZJgoTTAHwvjOdOYJKk4ZJGAecCXzSzHWa2Afhv4NK9zP8PZva0maXDsmf7NHBzWP60ma02syXhsDRwhKQaM1trZq9HLJcrcZ4MXLFYn/W5tYfuwcBYYGWmp5mlgVUEe+VjgdW2ezO9K7M+HwhcHZ4i2hqempkQTrc/cW4ys1RWN2GsBxIkp7VZy/sFcMBe5r9qD8MmAMu69zSzHQSJ8opweQ9KOmSvJXFlxZOBKyVrCDayAEgSwQZyNbAWGBf2y5iY9XkV8F0zG571qjWzO/IU6yqCI4/6rOUNNbPDw+G9tS2/pzbnVwFTepwoOFo5ExgDLAFu3Me4XYnyZOBKye+A8ySdLikBXE2wwX0GeJbg/PyVkhKS/h6YkTXtjcAVkk5UYJCk8yQNyUegZrYWeBj4v5KGSopJmiLpb8NR1gPjw2sdfXUT8Kmw/DFJ4yQdEl5svzC8dtAOtBCcNnJuF08GrmSY2RvAZcCPgU0EF3M/ZGYdZtYB/D1wOfAuwWmTe7OmnQ/8L+AnwBZgaThuPv0jUAksCpd5N8GeO8BfgNeBdZI29WVmZvY88CmCaw/bgCcIjpRiwJcJjpzeBf4W+FzOSuFKgvxJZ8455/zIwDnnnCcD56IIb3Rr6eH1jULH5tz+8NNEzjnnirOhuvr6eps0aVL0CS1Ncv0SSCfZUjuZhuF5qSjinHMD0osvvrjJzBp6GlaUyWDSpEnMnz9/n6a1TW/R/rO/5Y1kLW+ddycXnzg1x9E559zAJGllb8PK7pqB6g+m4uLZHB1bTuqBf2HBO1sKHZJzzhVc2SUDgIrDzqft5C/x0fhc7v7NDWxr7Sx0SM45V1BlmQwAqs/4V3aOOIQr22/k3+56Fr+Q7pwrZ2WbDIgnqL3oZ4zSFo568yfcPu+dQkfknHMFU77JAGD88XDCZ/hkxcP8/oH7WbaxpdAROedcQZR3MgB0+rXY4FF8Nz6b/7j/1UKH45xzBdEvySB8lN9Lkh7oYViVpN9KWippnqRJ/RHTLtVDiZ/zfQ7RSkYs+z2Pv7GhXxfvnHMDQX8dGVwFLO5l2KeBLWY2laC1xe/3U0xdDruQ9KgjuLLyAb57/6t0prx1X+dcecl7MpA0HjgP+GUvo1wI3BJ+vhs4vdsDSPJPIvY3VzPRVjP13Se47dle78twzrmS1B9HBtcDX6X3h2mMI3yUX/jc2G0EDyTfjaRZkuZLmr9x48bcR3nYhVjdVL426EGuf/QNtuzoyP0ynHNugMprMpB0PrDBzF7c33mZ2WwzazSzxoaGHpvW2D+xODrlS0zqXMqxHQu47Tk/OnDOlY98HxnMBC6QtAK4EzhN0m+6jbOa4Dm1SKoAhgGb8xxXz468BIaO5xtDHuK251bSkfRrB8658pDXZGBm15jZeDObBFwK/MXMLus22hzgk+Hni8NxCnM7cEUlzLyS6e2vMqHlVR56dW1BwnDOuf5WkPsMJH1H0gVh501AnaSlBM9p/XohYtrl2MuwxCA+PfhpfvX0295MhXOuLPRbMjCzx83s/PDztWY2J/zcZmYfMbOpZjbDzJb3V0w9qhyEDv0QZ9pzLGnayIJ3thY0HOec6w9lfwdyj46+lMrkdj5UvZBfPf12oaNxzrm882TQk8nvhyFj+OzwF/jja+tYu6210BE551xeeTLoSSwOR36Eqc3zGJ7eyr0LVhc6IuecyytPBr05+mMoneRz9Qt58BWvVeScK22eDHoz6jAYfSQX6kkWrW1mxaYdhY7IOefyxpPBnhz9MRq2L2KKVvOg33PgnCthngz25IiLAPinkX4DmnOutHky2JMho2HMMZxe8Qqvr2lm5WY/VeScK02eDPZm6hmMan6FobT4qSLnXMnyZLA3B5+JLM1lB7ztp4qccyXLk8HejGuE6mFcOGgRr61u5p3NOwsdkXPO5Zwng72JV8CU05ja/Bxg/Pn1dYWOyDnncs6TQV9MPZP4jvWcVbeRp5ZuKnQ0zjmXc54M+mLq6QBcPHQxz7/9rj/0xjlXcjwZ9MWQ0TD6SI7vXEBrZ4qFq7xZa+dcafFk0FdTz2TE5gUM006e9lNFzrkSk9dkIKla0vOSXpb0uqTrehjnckkbJS0MX5/JZ0z77OAzkaW4tH45zyzzZOCcKy0VeZ5/O3CambVISgBPSfqjmT3XbbzfmtkX8hzL/hk/AxK1nFm7lJveOZKdHUlqK/P99TnnXP/I65GBBVrCzkT4Ks6HCscrYNzxTO9cRDJtPP/2u4WOyDnncibv1wwkxSUtBDYAj5jZvB5Gu0jSK5LuljQh3zHtswknMnjLYobFO3hm2eZCR+OcczmT92RgZikzOwYYD8yQdES3Ue4HJpnZUcAjwC09zUfSLEnzJc3fuHFjfoPuzYQTkaX4+1Hr/SKyc66k9FttIjPbCswFzu7Wf7OZtYedvwSO72X62WbWaGaNDQ0N+Q22NxNOAODMIStZtLaZLTs6ChOHc87lWL5rEzVIGh5+rgHOBJZ0G2dMVucFwOJ8xrRfakZAwyEcnlqMGTy73E8VOedKQ76PDMYAcyW9ArxAcM3gAUnfkXRBOM6VYbXTl4ErgcvzHNP+mTCDoZteYlClmOfJwDlXIvJaN9LMXgGO7aH/tVmfrwGuyWccOTXhRLTgVj54wHZebtpW6Giccy4n/A7kqCacCMAZQ1awaE2zt1PknCsJngyiqpsKNSM5Kv0GHak0S9Y1Fzoi55zbb54MopJgwomMbl4IwMveaJ1zrgR4MtgXE2aQ2LKMKYPaWLjKrxs454qfJ4N9EV43uKBuDa80+ZGBc674eTLYF2OPhVgF76taxtKNLWxv6yx0RM45t1/6lAzC9oV+kO9gikZlLdRP56DU25jBq6v9VJFzrrj1KRmYWQo4Jc+xFJfRRzKiObiZ+mW/buCcK3JRbjp7SdIc4C5gR6anmd2b86iKwegjib1yJ8eM7PAaRc65ohclGVQDm4HTsvoZULbJAOCDdZu4rWlogYNxzrn90+dkYGafymcgRSdMBo1VTfzXtrGsb25j1NDqAgflnHP7ps+1iSSNl/R7SRvC1z2SxuczuAGtdiQMHc+U9NuA33zmnCtuUaqW/gqYA4wNX/eH/crXmKMY0byYiph42e83cM4VsSjJoMHMfmVmyfD1a6BAT5kZIEYfSWzzUg5vqGDRGm+jyDlXvKIkg82SLgvvOYhLuozggnL5Gn0kWJr3D9/EG+u2Fzoa55zbZ1GSwT8BlwDrgLXAxUB5X1QOLyIfX9XEmm1tbGv1O5Gdc8WpT7WJJMWB/zCzC/Y6cjkZfiBUDWVq+m3gcN5cv50TJo0sdFTOORdZlDuQD5RUGWXmkqolPS/p5fDRltf1ME6VpN9KWippnqRJUZZRUBKMPpKGHW8C+Kki51zRinLT2XLg6fAu5Ow7kH+4h2nagdPMrEVSAnhK0h/N7LmscT4NbDGzqZIuBb4PfDRCXIU1+kgqF9zGsKqYJwPnXNGKcs1gGfBAOM2QrFevLNASdibCl3Ub7ULglvDz3cDpkhQhrsIafSTq3MHf1G/3ZOCcK1pRrhlMM7NPRF1AOO2LwFTgp2Y2r9so44BVAGaWlLQNqAM2dZvPLGAWwMSJE6OGkT/hReSZg9fwnyuHYWYUUy5zzjnI8zWDzLRmdgwwHpgh6Yio8wjnM9vMGs2ssaFhAN3e0HAIxCo4IraS5rYk65rbCh2Rc85Flu9rBruY2VZJc4GzgdeyBq0GJgBNkiqAYRTT/QsVVVB3MOM7VwKwZN12xgyrKXBQzjkXTV6vGUhqkDQ8/FwDnAks6TbaHOCT4eeLgb+YWffrCgNbwzSGtiwHvEaRc644RWm19DoASbVmtrOPk40BbgmvG8SA35nZA5K+A8w3sznATcBtkpYC7wKXRirBQFA/nfji+5k4xGsUOeeKU5+TgaSTCTbcg4GJko4GPmtm/9zbNGb2CnBsD/2vzfrcBnwkStADTsN0sDR/U9fMgnWDCx2Nc85FFuU00fXAWYTn883sZeD9+Qiq6DRMB+CEQetZtqGFZCpd4ICccy6aKMkAM1vVrVcqh7EUr7qpgJgeX0tHKs2KzTv2Oolzzg0kUZLBKknvA0xSQtK/AIvzFFdxSdTAiAMZm3wHCGoUOedcMYmSDK4APk9wk9hq4Jiw2wHUT2dIy3LiMflFZOdc0YlSm2gT0OsdyJKuMbP/zElUxahhOrHlj3PQyCpPBs65ohPpmsFeFHeNoP3VMB1S7Zw4YjvLN/k1A+dcccllMijvBnnqgxpFx9RsYOXmHV6jyDlXVHKZDIrrruFca5gGwLTYGjpTxqotrQUOyDnn+s6PDHKlehgMGbOrRtHyjS17mcA55waOXCaDu3I4r+JUP43hO94GYPlGv27gnCsee61NJOnH7OEUkJldGb7/Rw7jKk4N06lYeAcjaxMs3+RHBs654tGXI4P5BA+nqQaOA94KX8cAkZ9vUNLqp0HHdhpHtrJsgx8ZOOeKx16PDMzsFgBJnwNOMbNk2P1z4Mn8hldkGg4BYMbgTfy8qbbAwTjnXN9FuWYwAhia1T047OcywgbrDk2sZVNLB9taOwsckHPO9U2UZPA94CVJv5Z0C7AA8OsE2QY1QPVwJqabAK9R5JwrHn1OBmb2K+BE4PfAvcDJmVNILiRB/TTq24JHYC7zGkXOuSLR52QgScAZwNFm9gegUtKMvEVWrOqmUL19BRUx+ZGBc65oRDlN9DPgZOBjYfd24Kd7mkDSBElzJS2S9Lqkq3oY51RJ2yQtDF/X9jSvojFyCmpew8Ej436vgXOuaPS51VLgRDM7TtJLAGa2RdLeqpYmgavNbIGkIcCLkh4xs0XdxnvSzM6PEMvANXIyADOGbePZTdUFDsY55/omypFBZ/hgewOQ1ADssTU2M1trZgvCz9sJHoYzbh9jLQ51UwA4qmYTKzbtJJUu7yabnHPFIUoy+B+Ci8cHSPou8BQRahNJmgQcC8zrYfDJkl6W9EdJh/cy/SxJ8yXN37hxY4Sw+9nIIBlMrVhPRypN05adBQ7IOef2rk+niSTFgLeBrwKnEzRK92Ez69NjLyUNBu4Bvmhmzd0GLwAONLMWSecC9wEHd5+Hmc0GZgM0NjYO3N3t6qEwqIGxqTVA0EbRgXWDChyUc87tWZ+ODMwsDfzUzJaY2U/N7CcREkGCIBHcbmb39jDvZjNrCT8/BCQk1fe9CAPQyCkMb10FwDKvUeScKwJRThM9JumisIppn4Tj3gQsNrMf9jLO6Mw8w6qqMWBzhLgGnropJLa+zfDahD/1zDlXFKLUJvos8GUgKamN4FSRmdnQPUwzE/gH4FVJC8N+3wAmEkz8c+Bi4HOSkkArcKmZDdzTQH0x8iBouZ3D6mN+r4FzriioGLe7jY2NNn/+/N36dXZ20tTURFtbW4Giyg5mJ+zYRHNFHTtTcUYPy10V0+rqasaPH08ikcjZPJ1z5UHSi2bW2NOwKEcGSBpBcHF319bNzP66f+HlRlNTE0OGDGHSpElEOJOVHx07YdMbbKsex8qdlUwfO4xYbP9jMjM2b95MU1MTkydPzkGgzjkXiNIcxWeAvwJ/Bq4L3/8tP2FF19bWRl1dXeETAUBFFQCVBK2WdqT2eDtGn0mirq5uYBz9OOdKSpQLyFcBJwArzewDBPcMbM1LVPtoQCQCgFgcYhUkLEgG7cncJAMYQGV0zpWUKMmgzczaACRVmdkSYHp+wio+W7du5Wc/+1lXj4oq4ukOADqSqV6nO/fcc9m6dUDlVOdcGYqSDJokDSe4KewRSX8AVuYnrOLTUzJQqh3SqT0eGTz00EMMHz68HyJ0zrne9fkCspn9Xfjx3yTNBYYBf8pLVEXo61//OsuWLeOYY44hkUhQnYgxYnA1ry5bzWPPLeTDH/4wq1atoq2tjauuuopZs2YBMGnSJObPn09LSwvnnHMOp5xyCs888wzjxo3jD3/4AzU1NQUumXOuHPQ5GUiamNX5dvg+GngnpxHlwHX3v86iNd1bvdg/h40dyrc/1GOzSQB873vf47XXXmPhwoU8/vjjnHfeebz22G+pmfo+tnamufnmmxk5ciStra2ccMIJXHTRRdTV1e02j7feeos77riDG2+8kUsuuYR77rmHyy67LKflcM65nkSpWvogQYulIqhaOhl4A+h9C1nGZpzQyOSJ49imJBtSMX70ox9x3333AbBq1Sreeuut9ySDyZMnc8wxxwBw/PHHs2LFiv4O2zlXpqKcJjoyu1vSccA/5zyiHNjTHnx/GTRoMACV6uSFZ5/nkUcf5dlnn6W2tpZTTz21x+qhVVVVuz7H43FaW1v7LV7nXHmLcgF5N+FzCk7MYSxFbciQIWzfvr2rhwSxBAnroKW5mWHDhlNbW8uSJUt47rnnCheoc871IMo1gy9ndcaA44A1OY+oSNXV1TFz5kyOOOIIampqGDVq1K7qpTNPPZ05d97CoYceyvTp0znppJMKHa5zzu2mz20TSfp2VmcSWAHck7n3oD/11DbR4sWLOfTQQ/s7lD3b+g60beP19ESG1yQYN6I2J7MdkGV1zg14OWmbyMyuy11IZSJeBekkNfHc3oXsnHO5FuU00f2Ezz/uiZldkJOISknYRlFtPMXWTm9Gwjk3cEWpWrqc4L6C34TdHwPWE9yR7HpSUQlAtZJ0pmKkzYh520LOuQEoSjKY2e1c0/2S5pvZl3IdVMmIB0cGVerEqKQjmaY6ES9wUM45915RqpYOknRQpkPSZMCf9L4nYeulFWHrpR1+3cA5N0BFSQZfAh6X9LikJ4C5BM1a90rSBElzJS2S9Lqk94yvwP9IWirplfBmttKR1XqpX0R2zg1UfU4GZvYngqecXQVcCUw3s4f3MlkSuNrMDgNOAj4v6bBu45wTzvdgYBZwQ19jGkje02ppRrwKpTqIS70+5Ob6669n586deY7QOed6F+VJZx8BKs3sZeBDwB1724s3s7XhncqY2XZgMTCu22gXArda4DlguKQxUQoxEPSaDCqqULqT6gr1eprIk4FzrtCiXED+lpndJekU4HTgBwR78X1qkkLSJIKno83rNmgcsCqruynst7bb9LMIjhyYODG7AdWBIbsJ6zPPPJMDDjiA3/3ud7S37eTvzpzJFd/4Hmubd/CFT15CU1MTqVSKb33rW6xfv541a9bwgQ98gPr6eubOnVvoojjnylCUZJB5XNd5wI1m9qCkf+/LhJIGA/cAXzSzfWpb2sxmA7MhuAN5jyP/8euw7tV9WUzvRh8J53yv18HZTVg//PDD3H333Tz//PNY+w4uOP8cFjz7JG+s3caYMWN48MEHAdi2bRvDhg3jhz/8IXPnzqW+vj63MTvnXB9FuYC8WtIvgI8CD0mq6sv0khIEieB2M7u3p/kCE7K6x4f9itbDDz/Mww8/zLHHHstxJ81kybIVvPP2UqYechiPPPooX/va13jyyScZNmxYoUN1zjkg2pHBJcDZwA/MbGt4Xv8rmYGSRpjZluwJFDy9/SZgsZn9sJf5zgG+IOlOglNO28xsbS/j9s0e9uD7g5lxzTXX8NnPfjbose5VOhNDWdw6jCeensdTcx/hm9/8JqeffjrXXnttQWN1zjmIVptop5nda2Zvhd1ru9UmeqyHyWYC/wCcJmlh+DpX0hWSrgjHeYjg7ualwI0M0Gck7E12E9ZnnXUWN998My0tLQCs3rCFzRvWsmHdWuKV1Vx22WV85StfYcGCBe+Z1jnnCiHKkcHevKedBTN7qqf+3cYx4PM5jKMgspuwPuecc/j4xz/OySefDMDg6gS3/eS7LF+6hv/9yUuoSsRJJBLccENQi3bWrFmcffbZjB071i8gO+cKos9NWO91RtICM+uXG8aKpgnrjO1rYfs6lsanEIvFOKhh8H7NbkCX1Tk3YO2pCet9ftKZiyDe1XppbzeeOedcIeUyGXhznL0Jm7KuiSXpTKZJ5+hozDnnciXSNQNJcWBU9nRm9k748fQcxlVaMq2XksRIeOulzrkBJ8rDbf438G2CZxhkznUYcBSAmb2b8+giMjM0EJ8XEIuD4iToBGr2Kxnk6hqPc85li3JkcBVB43Sb8xXM/qiurmbz5s3U1dUNvIQg5aT1UjNj8+bNVFdX5zI655yLlAxWAdvyFcj+Gj9+PE1NTWzcuLHQofRs52ZItrMx3cyO9XE21Vbu02yqq6sZP358joNzzpW7qI+9fFzSg0B7puce7izuV4lEgsmTJxc6jN49/n14/D/5Vt091NQO5rZPH13oiJxzbpcoyeCd8FUZvlwU9QcDRuPgd3lgwwA7jeWcK3t9TgZmdl0+Ayl5DdMBOKJqPbO31tKeTFFV4TWKnHMDQ5TaRA3AV4HDgV1XMM3stDzEVXpGTgHFmMJq0jaZVe+2MvWA/bsT2TnnciXKTWe3A0uAycB1wArghTzEVJoS1TD8QEZ3rgRgxaYdBQ7IOee6REkGdWZ2E9BpZk+Y2T8BflQQRf00hrSsAGDFZk8GzrmBI0oy6Azf10o6T9KxwMg8xFS6GqZR8e5SRlTHPBk45waUKLWJ/l3SMOBq4MfAUOBLeYmqVNVPg1Q7J4xoYcWmnYWOxjnndolSm+iB8OM24AP5CafE1Qc1io4ftJFbN9UVOBjnnOvS59NEkqZJekzSa2H3UZK+mb/QSlD9wQAcXrme1VtbaWlPFjgg55wLRLlmcCNwDeG1AzN7Bbh0TxNIulnShkwC6WH4qZK2ZT0Ss7QfCFw7EgY1MNmaAHhzvT/q0jk3MERJBrVm9ny3fnvbtf01cPZexnnSzI4JX9+JEE9xqp9GXVtQvfTNdZ4MnHMDQ5RksEnSFIJmq5F0MbB2TxOY2V+BgjdtPaDUT6Nq61JqK2Ms8WTgnBsgotQm+jwwGzhE0mrgbeCyHMRwsqSXgTXAv5jZ6z2NJGkWMAtg4sSJOVhsgdRPQ61bOL7BeMOTgXNugIhSm2g5cIakQUDMzHKxJVsAHGhmLZLOBe4DDu5l+bMJkhGNjY3F+4SXhmkAzBy6iRvfSRQ4GOecC0Rpm2g48I/AJKAi8wAZM7tyXxduZs1Znx+S9DNJ9Wa2aV/nOeDVB8ngiKr1bN5Rx8bt7TQMqSpwUM65chflNNFDwHPAq3Q99nK/SBoNrDczkzSD4BrGgHySWs4MHQ+JWg5iNXAYb67f7snAOVdwUZJBtZl9OcrMJd0BnArUS2oieIZyAsDMfg5cDHxOUhJoBS61Un/IbywGdVOpb1sBwJJ125k5tb6wMTnnyl6UZHCbpP8FPMDuTzrrtbaQmX1sTzM0s58AP4kQQ2lomE7lymeoG1Tp1UudcwNClKqlHcD/AZ4FXgxf8/MRVMkb1wjNq3lf3U6W+I1nzrkBIMqRwdXA1JK+uNtfJs0E4AM1S/nm21Wk00Ys5o/CdM4VTpQjg6WAN7WZCwccBtXDOCr9Ojs7UjRtaS10RM65MhflyGAHsFDSXHa/ZrDPVUvLViwOE09m/LqXgItYsq6ZiXW1hY7KOVfGoiSD+8KXy4UD30f1m3+iga28uX47Hzx8dKEjcs6VsSh3IN+yp+GS7jGzi/Y/pDJx4CkAnDNkOUvWHVrgYJxz5S7KNYO9OSiH8yp9Y46CxCD+tvotb8raOVdwuUwGpX2zWK7FEzBhBkelXmfZxh1s29m592mccy5PcpkMXFSTZtKwcylD0s385Y31hY7GOVfGcpkMvKJ8VAcG9xucMWg5D7/uycA5VzhRnoF81V76fS0nEZWTscdBvIoPj1zBE29upK0zVeiInHNlKsqRwSd76Hd55oOZPbzf0ZSbRDWMP4GjU8HNZ0+95Td3O+cKY6/JQNLHJN0PTJY0J+s1F3+k5f6bejpD3n2Nc6pe5eFF6wodjXOuTPXlPoNnCJ51XA/836z+24FX8hFUWTnpn+GV3/G9d3/B3y2aSip9FHFvp8g518/2emRgZivN7HEzOxlYAgwJX01mlsx3gCUvUQ0X3chg287XOm/gxRV+sOWc639RHnv5EeAHwOMENYd+LOkrZnZ3nmIrH6OPJHnqtzjrL9fy4OM3wPgvQ0V18CAcgHQasKBNo1JjBqlOSCe7XmZ03baioNyxOMQqQOFnxUBFdgSVTkOqHTp2QPt26GwNujPlV1aKD8gAABCcSURBVCwoYywerP+KakjUQuWg4NW9vGbBdMlwnh0twXwz7+3boXMnJDsg2RZ+t6mu6VIdwbJTncHwZHswPFbRFUePlQQtmIeFDzyMV4bxVgbxJmqDnZxYRbieYl3zjCeCslQNg+qhwefMNBVVPa/TZAe0vgs73w3KluoIXumsCheWDrotFX4nHV3fbSwOsUQQZ2W4rMrBUDU4eK8cFMSleFbZB2Ct+1RnUP54ZRBzjqmvDxaT9DJwppltCLsbgEfN7OicR7UXjY2NNn9+iT1KIZ1m0X99gMPaFnb1i1eGf+DwT1czAgaPgkENMKgeauuCfij8E6SgbVvXH6e9GdrDDUO6M9zIZpG6/gDxRPBeURW84lXBH7qiuqu7ohriFcHypGB+ybZgo7brvT34nOrs+tMm2yEZDsvEIHVt/PdVrCL4k8cqgg1RvDLolrqSR2aDWlGVlURiwXdq6W6Jh903CArLidi1AYSuDaGlg+812Z71au36HlKdwfB0Mvi8P/dlKgaJQcE8Mhu9/Z1nLBGs93iiaz0rHsz/PevG2C0xZCfjXeu4bf/WJ3QlFuj63tIFuCFT8eB7QV3rOp4I/x/VYfKIsdt/AYJ+8crgfxIPf5OZcVPJMEF1dCWrdLLrvxbPSoaWho6dYZLfHrynOoJhZ38fTrpi34olvWhmjT0Ni9JQXSyTCEKb2ctpJkk3A+cDG8zsiB6GC/gRcC5B89iXm9mCCDGVjliMNR+czf+75wYOGQEXHVVPjTq7NtRmsHMTtKyHlg2w7jXYuRlatwDWtcdcNRRqR4aJYzTUDQn2gOKV4YIyf+isvbt0Z7ABSLYHP9DMnmSyHdqas/q3d22AzIIfbkVNmDSquj5XD+36E8QS4fCacGMT65o+MzyetVGPxYOyQPgnC/f4MjFaKtjDzj6SyGwwMnu62dMk28O947asBJDe/Y+s8Gec/X2kkl1xZjaEmcSQ2RBKYTmrgjLv+i5qspJTxe7JNp6AynCdJGrCJBuOl04Fy8/euHa2hnv6LcE7CvZaFQ83nJVde4qZ+VYNCfd8h3QlwsyGSbH8HlmlOoOYO1vDo5D07skl1RFs2Nqag52Vjh3h+Dt2T6oQxBlPBEmwdgTUjAx+35kyK55VhqzvJbNTk/kNZn4Lqc5weTu7vs/Md5vO/G6SwfiZHRno+q1kjsKSrV3rKrNDkfltZJJ0Zmcos9x0KlxPg3dfb7GK3df3LoKhY4N1WjkoPIoZFEx/4Ptyv96Ilgz+JOnPwB1h90eBh/Yyza8JHmt5ay/DzwEODl8nAjeE72XpjOOm0xr/Klff9TI3vlzNzZefwJSGwXueaNcP0bkBIHOkUT200JG4iKK0WvoVSX8PnBL2mm1mv9/LNH+VNGkPo1wI3GrBuarnJA2XNMbM1vY1rlLzoaPHMnZ4DbNunc/Z1/+VkYMqGVqdYERtJQePGsyhY4Zy+NihHDV+eFDryBOBcy4HohwZADwNZE5UPp+D5Y8DVmV1N4X93pMMJM0CZgFMnDgxB4seuI4/cAT3fX4mv5m3kq07Omlu62RTSztzXl7D7fPeAaB+cCVnHT6a844cQ+OkkVRWDMALXs65ohGlNtElwP+hQLWJzGw2MBuCC8j9scxCmjCylmvO2f05B2bG6q2tLHhnK39+bR33LljN7fPeobYyzozJI5k5pZ7Dxw5lygGDOWBIFfKjBudcH0U5MvhX4ITutYmA/UkGq4EJWd3jw36uB5IYP6KW8SNqueDosbR2pPjrWxt5eukmnlq6icffWLxr3MFVFTQMqWJoTYLhNQnqBlVSP6SKhsFVjBhUyfCaBMNrEwyrSTC0JsHQ6gTViZgnEOfKVF5rE/XBHOALku4kuHC8rZyvF0RVUxnnrMNHc1b4yMwNzW28taGFZRtbWL5xB5t3dLB1ZwdbdnawdEMLG1va6Uime51fTFCdiFOdiFOTiFOdiFFTGXyuqaygNuwXi4mYREyQiMdIxGNUxERFPEYiLuIxEZeIx8P3WPCqiAmF3TGButdhF8TCZJSp8hyMH/SXdp+ip8PDPVWVVrd5m4HR9bnre1BQO3VXrEHV0mTaSKVt1zX77Hgyk/e0fCkoe+Y7y54uZUY6baR7CLun2woMC9/DccLxsr+ZoDtcTvbn7HlBWJagXJ2pNMmUkcp873SVMS4RiwWVuCwsY0VcxGPBek+ljbQFr6CMwfdmxq7+abOgEpgZCr+HzJ32me5MhN3XSfZX09v6zZQv850JddXSDOMwgt94Zj30+D1mfU+SsHC6YLG7f/e9CcobxJr5PiR2fU/ZZc7EQhhv9nK6ly8z/rRRQ/LyzPQ+JYOwCugLUWsTSboDOBWol9QEfBtIAJjZz8PpzwWWElQt/VT0IriMA4ZWc8DQamZOre9xuJnR3JZk684Otu7sZMvODprbkjS3BtcldrQnaetM09aZCt6TKdo6UuzsSLGttZN121pp7UwFfwgLftzJdJqOZJrOlO3q7mnD5pzLjW+dfxifPmVyzufbp2RgZiZpBnAt0WoTfWxv8wU+35cY3P6TxLCa4NTQgXX5W046HexhpsI96ZQZqVSwB2rhXlOq266Pme1KMtl7xBaOm0rvfnNY13jvPa2V2RuG7D32nsfZfU+wa28xHe6xZ5Ydy+zdx5S5Ba2HvVTtmk/3sqXSkEynd5Uxs/ebffTRvdxB/Paevf7YrnK/d081++ghbV17mD3tUMdi7DqKS8RjJCpixKVdsaWN8KglWGeZPVPo2hFIpcP+YRmyv7fsvd7M0WD29Kld8b33yCh7neze573rt/vedFe/4LvoiiNzlBAsP3OriAjKnDlyyf4udx1pqOtoo/uRWDbDiIdHsZk+6XBdBEdY2jXvzBFT9rrKHJF2/y1kjzN6WHWPy95fUU4TvQisMrMv5yUSVzJiMRFDJEqw9QznSlWUZHAi8AlJK4EdmZ5mdlTOo3LOOdevoiSDs/IWhXPOuYKKcgfyynwG4pxzrnD8tlXnnHOeDJxzznkycM45hycD55xzeDJwzjmHJwPnnHN4MnDOOYcnA+ecc3gycM45hycD55xzeDJwzjmHJwPnnHN4MnDOOUc/JANJZ0t6Q9JSSV/vYfjlkjZKWhi+PpPvmJxzzu0uyvMMIpMUB34KnAk0ETxHeY6ZLeo26m/N7Av5jMU551zv8n1kMANYambLzawDuBO4MM/LdM45F1G+k8E4YFVWd1PYr7uLJL0i6W5JE3qakaRZkuZLmr9x48Z8xOqcc2VrIFxAvh+YFD5L+RHglp5GMrPZZtZoZo0NDQ39GqBzzpW6fCeD1UD2nv74sN8uZrbZzNrDzl8Cx+c5Juecc93kOxm8ABwsabKkSuBSYE72CJLGZHVeACzOc0zOOee6yWttIjNLSvoC8GcgDtxsZq9L+g4w38zmAFdKugBIAu8Cl+czJuecc+8lMyt0DJE1Njba/PnzCx2Gc84VFUkvmlljT8MGwgVk55xzBebJwDnnnCcD55xzngycc87hycA55xyeDJxzzuHJwDnnHJ4MnHPO4cnAOeccngycc87hycA55xyeDJxzzuHJwDnnHJ4MnHPO4cnAOeccngycc87hycA55xz9kAwknS3pDUlLJX29h+FVkn4bDp8naVK+Y3LOObe7vCYDSXHgp8A5wGHAxyQd1m20TwNbzGwq8N/A9/MZk3POuffK95HBDGCpmS03sw7gTuDCbuNcCNwSfr4bOF2S8hyXc865LBV5nv84YFVWdxNwYm/jmFlS0jagDtiUPZKkWcCssLNF0hv7GFN993mXiXIsdzmWGcqz3OVYZohe7gN7G5DvZJAzZjYbmL2/85E038wacxBSUSnHcpdjmaE8y12OZYbcljvfp4lWAxOyuseH/XocR1IFMAzYnOe4nHPOZcl3MngBOFjSZEmVwKXAnG7jzAE+GX6+GPiLmVme43LOOZclr6eJwmsAXwD+DMSBm83sdUnfAeab2RzgJuA2SUuBdwkSRj7t96mmIlWO5S7HMkN5lrscyww5LLd8J9w555zfgeycc86TgXPOuTJLBntrGqMUSJogaa6kRZJel3RV2H+kpEckvRW+jyh0rLkmKS7pJUkPhN2TwyZOloZNnlQWOsZckzRc0t2SlkhaLOnkMlnXXwp/369JukNSdamtb0k3S9og6bWsfj2uWwX+Jyz7K5KOi7q8skkGfWwaoxQkgavN7DDgJODzYTm/DjxmZgcDj4XdpeYqYHFW9/eB/w6bOtlC0PRJqfkR8CczOwQ4mqD8Jb2uJY0DrgQazewIgsopl1J66/vXwNnd+vW2bs8BDg5fs4Aboi6sbJIBfWsao+iZ2VozWxB+3k6wcRjH7s1+3AJ8uDAR5oek8cB5wC/DbgGnETRxAqVZ5mHA+wlq5GFmHWa2lRJf16EKoCa8N6kWWEuJrW8z+ytBDctsva3bC4FbLfAcMFzSmCjLK6dk0FPTGOMKFEu/CFuAPRaYB4wys7XhoHXAqAKFlS/XA18F0mF3HbDVzJJhdymu78nARuBX4emxX0oaRImvazNbDfwAeIcgCWwDXqT01zf0vm73e/tWTsmgrEgaDNwDfNHMmrOHhTf1lUydYknnAxvM7MVCx9LPKoDjgBvM7FhgB91OCZXaugYIz5NfSJAMxwKDeO/plJKX63VbTsmgL01jlARJCYJEcLuZ3Rv2Xp85bAzfNxQqvjyYCVwgaQXB6b/TCM6lDw9PI0Bpru8moMnM5oXddxMkh1Je1wBnAG+b2UYz6wTuJfgNlPr6ht7X7X5v38opGfSlaYyiF54rvwlYbGY/zBqU3ezHJ4E/9Hds+WJm15jZeDObRLBe/2JmnwDmEjRxAiVWZgAzWweskjQ97HU6sIgSXtehd4CTJNWGv/dMuUt6fYd6W7dzgH8MaxWdBGzLOp3UN2ZWNi/gXOBNYBnwr4WOJ09lPIXg0PEVYGH4OpfgHPpjwFvAo8DIQseap/KfCjwQfj4IeB5YCtwFVBU6vjyU9xhgfri+7wNGlMO6Bq4DlgCvAbcBVaW2voE7CK6JdBIcBX66t3ULiKC25DLgVYKaVpGW581ROOecK6vTRM4553rhycA555wnA+ecc54MnHPO4cnAOeccngyc63eSTs20rOrcQOHJwDnnnCcD53oj6TJJz0taKOkX4fMSWiT9d9iW/mOSGsJxj5H0XNiW/O+z2pmfKulRSS9LWiBpSjj7wVnPIbg9vJPWuYLxZOBcDyQdCnwUmGlmxwAp4BMEjaLNN7PDgSeAb4eT3Ap8zcyOIrgDNNP/duCnZnY08D6CO0ohaE32iwTP1jiIoG0d5wqmYu+jOFeWTgeOB14Id9prCBoFSwO/Dcf5DXBv+FyB4Wb2RNj/FuAuSUOAcWb2ewAzawMI5/e8mTWF3QuBScBT+S+Wcz3zZOBczwTcYmbX7NZT+la38fa1PZf2rM8p/L/oCsxPEznXs8eAiyUdALuePXsgwX8m0zLmx4GnzGwbsEXS34T9/wF4woInzTVJ+nA4jypJtf1aCuf6yPdGnOuBmS2S9E3gYUkxgpYjP0/wAJkZ4bANBNcVIGhO+Ofhxn458Kmw/z8Av5D0nXAeH+nHYjjXZ95qqXMRSGoxs8GFjsO5XPPTRM455/zIwDnnnB8ZOOecw5OBc845PBk455zDk4Fzzjk8GTjnnAP+P8E0odK0hB+aAAAAAElFTkSuQmCC\n"
>>>>>>> d0225f87dd5f61b01aee083f057200a284d28fae
          },
          "metadata": {
            "needs_background": "light"
          },
          "output_type": "display_data"
        }
      ],
      "source": [
        "# Menampilkan plot loss dan validation\n",
        "\n",
        "plt.plot(history.history['root_mean_squared_error'])\n",
        "plt.plot(history.history['val_root_mean_squared_error'])\n",
        "plt.title('model_metrics')\n",
        "plt.ylabel('root_mean_squared_error')\n",
        "plt.xlabel('epoch')\n",
        "plt.ylim(ymin=0, ymax=4.2)\n",
        "plt.legend(['train', 'test'], loc='center left')\n",
        "plt.show()"
      ]
    },
    {
      "cell_type": "markdown",
      "metadata": {
        "id": "r7MMvw6mw03e"
      },
      "source": [
        "# Mulai Testing dan Predicting "
      ]
    },
    {
      "cell_type": "code",
      "execution_count": 14,
      "metadata": {
        "id": "CERVflAXbwfj"
      },
      "outputs": [],
      "source": [
        "# Menyiapkan dataframe\n",
        "place_df = place[['Place_Id','Place_Name','Category','Rating','Weekend Holiday Price']]\n",
        "place_df.columns = ['id','place_name','category','rating','price']\n",
        "df = rating.copy()\n"
<<<<<<< HEAD
      ]
=======
      ],
      "metadata": {
        "id": "CERVflAXbwfj"
      },
      "execution_count": 23,
      "outputs": []
>>>>>>> d0225f87dd5f61b01aee083f057200a284d28fae
    },
    {
      "cell_type": "code",
      "execution_count": 15,
      "metadata": {
        "id": "IxQfL9Fpcp5T"
      },
<<<<<<< HEAD
      "outputs": [],
      "source": [
        "user_id = df.User_Id.sample(1).iloc[0]\n",
        "place_visited_by_user = df[df.User_Id == user_id]"
      ]
=======
      "execution_count": 24,
      "outputs": []
>>>>>>> d0225f87dd5f61b01aee083f057200a284d28fae
    },
    {
      "cell_type": "code",
      "execution_count": 16,
      "metadata": {
        "id": "x98BO5xzdEjC"
      },
      "outputs": [],
      "source": [
        "def dict_encoder(col, data=df):\n",
        "\n",
        "  # Mengubah kolom suatu dataframe menjadi list tanpa nilai yang sama\n",
        "  unique_val = data[col].unique().tolist()\n",
        "\n",
        "  # Melakukan encoding value kolom suatu dataframe ke angka\n",
        "  val_to_val_encoded = {x: i for i, x in enumerate(unique_val)}\n",
        "\n",
        "  # Melakukan proses encoding angka ke value dari kolom suatu dataframe\n",
        "  val_encoded_to_val = {i: x for i, x in enumerate(unique_val)}\n",
        "  return val_to_val_encoded, val_encoded_to_val"
<<<<<<< HEAD
      ]
=======
      ],
      "metadata": {
        "id": "x98BO5xzdEjC"
      },
      "execution_count": 25,
      "outputs": []
>>>>>>> d0225f87dd5f61b01aee083f057200a284d28fae
    },
    {
      "cell_type": "code",
      "execution_count": 17,
      "metadata": {
        "id": "nC0RfVZZdK45"
      },
      "outputs": [],
      "source": [
        "# Encoding Place_Id\n",
        "place_to_place_encoded, place_encoded_to_place = dict_encoder('Place_Id')\n",
        "\n",
        "# Mapping Place_Id ke dataframe place\n",
        "df['place'] = df['Place_Id'].map(place_to_place_encoded)"
<<<<<<< HEAD
      ]
=======
      ],
      "metadata": {
        "id": "nC0RfVZZdK45"
      },
      "execution_count": 26,
      "outputs": []
>>>>>>> d0225f87dd5f61b01aee083f057200a284d28fae
    },
    {
      "cell_type": "code",
      "execution_count": 18,
      "metadata": {
        "id": "xjerZAoedWHq"
      },
      "outputs": [],
      "source": [
        "# Encoding User_Id\n",
        "user_to_user_encoded, user_encoded_to_user = dict_encoder('User_Id')\n",
        "\n",
        "# Mapping User_Id ke dataframe\n",
        "df['user'] = df['User_Id'].map(user_to_user_encoded)"
<<<<<<< HEAD
      ]
=======
      ],
      "metadata": {
        "id": "xjerZAoedWHq"
      },
      "execution_count": 27,
      "outputs": []
>>>>>>> d0225f87dd5f61b01aee083f057200a284d28fae
    },
    {
      "cell_type": "code",
      "execution_count": 19,
      "metadata": {
        "colab": {
          "base_uri": "https://localhost:8080/"
        },
        "id": "Wj4y1oT7dRj6",
        "outputId": "4d468454-4e9a-4e8a-8e0a-4a31f7bfae0d"
      },
<<<<<<< HEAD
=======
      "execution_count": 28,
>>>>>>> d0225f87dd5f61b01aee083f057200a284d28fae
      "outputs": [
        {
          "name": "stdout",
          "output_type": "stream",
          "text": [
            "Number of User: 100, Number of Place: 75, Min Rating: 1.0, Max Rating: 5.0\n"
          ]
        }
      ],
      "source": [
        "# Mendapatkan jumlah user dan place\n",
        "num_users, num_place = len(user_to_user_encoded), len(place_to_place_encoded)\n",
        " \n",
        "# Mengubah rating menjadi nilai float\n",
        "df['Place_Rating'] = df['Place_Rating'].values.astype(np.float32)\n",
        " \n",
        "# Mendapatkan nilai minimum dan maksimum rating\n",
        "min_rating, max_rating = min(df['Place_Rating']), max(df['Place_Rating'])\n",
        " \n",
        "print(f'Number of User: {num_users}, Number of Place: {num_place}, Min Rating: {min_rating}, Max Rating: {max_rating}')"
      ]
    },
    {
      "cell_type": "code",
      "execution_count": 20,
      "metadata": {
        "id": "zhXz8IYWctJM"
      },
      "outputs": [],
      "source": [
        "# Membuat data lokasi yang belum dikunjungi user\n",
        "place_not_visited = place_df[~place_df['id'].isin(place_visited_by_user.Place_Id.values)]['id'] \n",
        "place_not_visited = list(\n",
        "    set(place_not_visited)\n",
        "    .intersection(set(place_to_place_encoded.keys()))\n",
        ")\n",
        " \n",
        "place_not_visited = [[place_to_place_encoded.get(x)] for x in place_not_visited]\n",
        "user_encoder = user_to_user_encoded.get(user_id)\n",
        "user_place_array = np.hstack(\n",
        "    ([[user_encoder]] * len(place_not_visited), place_not_visited)\n",
        ")"
<<<<<<< HEAD
      ]
=======
      ],
      "metadata": {
        "id": "zhXz8IYWctJM"
      },
      "execution_count": 29,
      "outputs": []
>>>>>>> d0225f87dd5f61b01aee083f057200a284d28fae
    },
    {
      "cell_type": "code",
      "execution_count": 21,
      "metadata": {
        "id": "bFKToG-B_qOH"
      },
      "outputs": [],
      "source": [
        "user_place_array"
      ],
      "metadata": {
        "colab": {
          "base_uri": "https://localhost:8080/"
        },
        "id": "CJvJdM-4FM4h",
        "outputId": "e4a80582-8738-4824-a3bb-a0d0a3f4085d"
      },
      "execution_count": 30,
      "outputs": [
        {
          "output_type": "execute_result",
          "data": {
            "text/plain": [
              "array([[53,  0],\n",
              "       [53,  2],\n",
              "       [53, 48],\n",
              "       [53, 33],\n",
              "       [53, 34],\n",
              "       [53,  3],\n",
              "       [53,  4],\n",
              "       [53, 49],\n",
              "       [53, 58],\n",
              "       [53, 35],\n",
              "       [53, 51],\n",
              "       [53, 64],\n",
              "       [53, 36],\n",
              "       [53,  7],\n",
              "       [53, 69],\n",
              "       [53, 59],\n",
              "       [53, 70],\n",
              "       [53, 37],\n",
              "       [53,  8],\n",
              "       [53,  9],\n",
              "       [53, 10],\n",
              "       [53, 12],\n",
              "       [53, 13],\n",
              "       [53, 14],\n",
              "       [53, 16],\n",
              "       [53, 60],\n",
              "       [53, 17],\n",
              "       [53, 53],\n",
              "       [53, 19],\n",
              "       [53, 20],\n",
              "       [53, 22],\n",
              "       [53, 23],\n",
              "       [53, 61],\n",
              "       [53, 54],\n",
              "       [53, 41],\n",
              "       [53, 26],\n",
              "       [53, 55],\n",
              "       [53, 73],\n",
              "       [53, 74],\n",
              "       [53, 62],\n",
              "       [53, 63],\n",
              "       [53, 28],\n",
              "       [53, 29],\n",
              "       [53, 43],\n",
              "       [53, 57]])"
            ]
          },
          "metadata": {},
          "execution_count": 30
        }
      ]
    },
    {
      "cell_type": "code",
      "source": [
        "class DeepRecommender(tf.keras.Model):\n",
        " \n",
        "  # Insialisasi fungsi\n",
        "  def __init__(self, num_users, num_places, embedding_size, **kwargs):\n",
        "    super(DeepRecommender, self).__init__(**kwargs)\n",
        "    self.num_users = num_users\n",
        "    self.num_places = num_places\n",
        "    self.embedding_size = embedding_size\n",
        "    self.user_embedding = Embedding( # layer embedding user\n",
        "        num_users,\n",
        "        embedding_size,\n",
        "        embeddings_initializer = 'he_normal',\n",
        "        embeddings_regularizer = keras.regularizers.l2(1e-6)\n",
        "    )\n",
        "    self.user_bias = Embedding(num_users, 1) # layer embedding user bias\n",
        "    self.places_embedding = Embedding( # layer embeddings places\n",
        "        num_places,\n",
        "        embedding_size,\n",
        "        embeddings_initializer = 'he_normal',\n",
        "        embeddings_regularizer = keras.regularizers.l2(1e-6)\n",
        "    )\n",
        "    self.places_bias = Embedding(num_places, 1) # layer embedding places bias\n",
        "    self.dense1 = tf.keras.layers.Dense(64, activation=tf.nn.relu)\n",
        "    self.dense2 = tf.keras.layers.Dense(1)\n",
        " \n",
        "  def call(self, inputs):\n",
        "    user_vector = self.user_embedding(inputs[:,0]) # memanggil layer embedding 1\n",
        "    user_bias = self.user_bias(inputs[:, 0]) # memanggil layer embedding 2\n",
        "    places_vector = self.places_embedding(inputs[:, 1]) # memanggil layer embedding 3\n",
        "    places_bias = self.places_bias(inputs[:, 1]) # memanggil layer embedding 4\n",
        "    dot_user_places = tf.tensordot(user_vector, places_vector, 2) \n",
        "    x = dot_user_places + user_bias + places_bias\n",
        "    y = self.dense1(x)\n",
        "    return self.dense2(y)\n"
<<<<<<< HEAD
      ]
=======
      ],
      "metadata": {
        "id": "bFKToG-B_qOH"
      },
      "execution_count": 31,
      "outputs": []
>>>>>>> d0225f87dd5f61b01aee083f057200a284d28fae
    },
    {
      "cell_type": "markdown",
      "source": [
        ""
      ],
      "metadata": {
        "id": "JqaDU88fGHIQ"
      }
    },
    {
      "cell_type": "code",
      "execution_count": 22,
      "metadata": {
        "id": "geV15xSXHaZK"
      },
      "outputs": [],
      "source": [
        "model1 = DeepRecommender(num_users, num_place, 50) # inisialisasi model\n",
        " \n",
        "# model compile\n",
        "model1.compile(\n",
        "    loss = tf.keras.losses.BinaryCrossentropy(),\n",
        "    optimizer = keras.optimizers.Adam(learning_rate=0.0004),\n",
        "    metrics=[tf.keras.metrics.RootMeanSquaredError()]\n",
        ")"
      ]
    },
    {
      "cell_type": "code",
      "execution_count": 52,
      "metadata": {},
      "outputs": [
        {
          "name": "stdout",
          "output_type": "stream",
          "text": [
            "INFO:tensorflow:Assets written to: path_to_my_model\\assets\n"
          ]
        }
      ],
<<<<<<< HEAD
      "source": [
        "model1.save('path_to_my_model',save_format='tf')"
      ]
=======
      "metadata": {
        "id": "geV15xSXHaZK"
      },
      "execution_count": 32,
      "outputs": []
    },
    {
      "cell_type": "code",
      "source": [
        "model.save_weights('saved_model.h5', save_format='hdf5')"
      ],
      "metadata": {
        "id": "gU1FVPPEGQyS"
      },
      "execution_count": 41,
      "outputs": []
>>>>>>> d0225f87dd5f61b01aee083f057200a284d28fae
    },
    {
      "cell_type": "code",
      "execution_count": 53,
      "metadata": {},
      "outputs": [],
      "source": [
        "new_model = keras.models.load_model('path_to_my_model')"
      ]
    },
    {
      "cell_type": "code",
      "execution_count": 55,
      "metadata": {
        "id": "9muRE6UgwkuV"
      },
<<<<<<< HEAD
      "outputs": [
        {
          "name": "stdout",
          "output_type": "stream",
          "text": [
            "1/1 [==============================] - 0s 109ms/step\n",
            "[75, 45, 67, 12, 58, 11, 74, 70, 17, 22, 68, 35, 44, 62, 8, 36, 9, 43, 52, 21, 57, 50, 33, 59, 5, 31, 65, 46, 23, 69, 25, 56, 28, 26, 51, 34, 20, 42, 38, 6, 24, 10, 13, 1, 47]\n"
          ]
        }
      ],
      "source": [
        "# Mengambil top rekomendasi\n",
        "ratings = new_model.predict(user_place_array,50).flatten()\n",
        "top_ratings_indices = ratings.argsort()[:][::-1]\n",
        "recommended_place_ids = [\n",
        "    place_encoded_to_place.get(place_not_visited[x][0]) for x in top_ratings_indices\n",
        "]\n",
        "recommended_place_ids = list(recommended_place_ids)\n",
        "print(recommended_place_ids)"
      ]
=======
      "execution_count": null,
      "outputs": []
>>>>>>> d0225f87dd5f61b01aee083f057200a284d28fae
    },
    {
      "cell_type": "code",
      "execution_count": null,
      "metadata": {
        "id": "kHMDXVEnzema"
      },
<<<<<<< HEAD
      "outputs": [
        {
          "name": "stdout",
          "output_type": "stream",
          "text": [
            "[7, 8, 10, 69, 70, 73]\n"
          ]
        }
      ],
      "source": [
        "#Membuat Filter\n",
        "Place_Upto_100 = place_df[(place_df['price'] >= 100000)]\n",
        "Place_Upto_100 = list(Place_Upto_100[\"id\"])\n",
        "print(Place_Upto_100)"
      ]
=======
      "execution_count": null,
      "outputs": []
>>>>>>> d0225f87dd5f61b01aee083f057200a284d28fae
    },
    {
      "cell_type": "code",
      "execution_count": null,
      "metadata": {
        "id": "IuOoAwFp1e-e"
      },
<<<<<<< HEAD
      "outputs": [
        {
          "name": "stdout",
          "output_type": "stream",
          "text": [
            "[10, 8, 69]\n"
          ]
        }
      ],
      "source": [
        "#Filtering place up to 100k\n",
        "recom_id_upto_100 = [x for x in recommended_place_ids if x in Place_Upto_100]\n",
        "print(recom_id_upto_100)"
      ]
=======
      "execution_count": null,
      "outputs": []
>>>>>>> d0225f87dd5f61b01aee083f057200a284d28fae
    },
    {
      "cell_type": "code",
      "execution_count": null,
      "metadata": {
        "id": "SRdrHHd4510Y"
      },
<<<<<<< HEAD
      "outputs": [
        {
          "name": "stdout",
          "output_type": "stream",
          "text": [
            "[42, 23, 11, 74, 65, 35, 6, 14, 37, 17, 33, 38, 32, 26, 9, 12, 1, 66, 36, 63, 47, 18, 56, 41, 15, 55, 57, 49, 27, 24, 46, 29, 34, 21, 62, 75, 48, 20, 53, 3, 40, 59]\n"
          ]
        }
      ],
      "source": [
        "#Filtering place up to 100k\n",
        "recom_id_under_100 = [x for x in recommended_place_ids if x not in Place_Upto_100]\n",
        "print(recom_id_under_100)"
      ]
=======
      "execution_count": null,
      "outputs": []
>>>>>>> d0225f87dd5f61b01aee083f057200a284d28fae
    },
    {
      "cell_type": "code",
      "execution_count": null,
      "metadata": {
        "id": "r6gThKwVdoTq"
      },
<<<<<<< HEAD
      "outputs": [
        {
          "name": "stdout",
          "output_type": "stream",
          "text": [
            "Daftar rekomendasi untuk: User 71\n",
            "============================================= \n",
            "\n",
            "------------------------------------------------------------\n",
            "Tempat dengan rating wisata paling tinggi dari user\n",
            "------------------------------------------------------------\n",
            "Air Terjun Tegenungan : Alam\n",
            "Aloha Ubud Swing  : Agrowisata\n",
            "Bukit Wanagiri : Alam\n",
            "Danau Beratan : Alam\n",
            "Pantai Pasih Uug : Pantai\n",
            "\n",
            "------------------------------------------------------------\n",
            "Top 7 place recommendation\n",
            "------------------------------------------------------------\n",
            "1 . Agrowisata Satria \n",
            "     Agrowisata , Harga Tiket Masuk  50000 , Rating Wisata  3.0 \n",
            "\n",
            "2 . Wisata Air Panas Toya Bungkah \n",
            "     Alam , Harga Tiket Masuk  70000 , Rating Wisata  4.0 \n",
            "\n",
            "3 . Air Terjun Tukad Cepung \n",
            "     Alam , Harga Tiket Masuk  15000 , Rating Wisata  4.5 \n",
            "\n",
            "4 . Bali Bird Park \n",
            "     Cagar Alam , Harga Tiket Masuk  110000 , Rating Wisata  4.5 \n",
            "\n",
            "5 . Handara Iconic Gate \n",
            "     Budaya , Harga Tiket Masuk  20000 , Rating Wisata  3.5 \n",
            "\n",
            "6 . Bali Swing \n",
            "     Rekreasi , Harga Tiket Masuk  500000 , Rating Wisata  4.5 \n",
            "\n",
            "7 . Batik Koleksi Sari Amerta \n",
            "     Budaya , Harga Tiket Masuk  0 , Rating Wisata  3.5 \n",
            "\n",
            "=============================================\n"
          ]
        }
      ],
      "source": [
        "print('Daftar rekomendasi untuk: {}'.format('User ' + str(user_id)))\n",
        "print('===' * 15,'\\n')\n",
        "print('----' * 15)\n",
        "print('Tempat dengan rating wisata paling tinggi dari user')\n",
        "print('----' * 15)\n",
        " \n",
        "top_place_user = (\n",
        "    place_visited_by_user.sort_values(\n",
        "        by = 'Place_Rating',\n",
        "        ascending=False\n",
        "    )\n",
        "    .head(5)\n",
        "    .Place_Id.values\n",
        ")\n",
        " \n",
        "place_df_rows = place_df[place_df['id'].isin(top_place_user)]\n",
        "for row in place_df_rows.itertuples():\n",
        "    print(row.place_name, ':', row.category)\n",
        "\n",
        "print('')\n",
        "print('----' * 15)\n",
        "print('Top 7 place recommendation')\n",
        "print('----' * 15)\n",
        " \n",
        "recommended_place = place_df[place_df['id'].isin(recommended_place_ids)]\n",
        "for row, i in zip(recommended_place.itertuples(), range(1,8)):\n",
        "    print(i,'.', row.place_name, '\\n    ', row.category, ',', 'Harga Tiket Masuk ', row.price, ',', 'Rating Wisata ', row.rating,'\\n')\n",
        "\n",
        "print('==='*15)"
      ]
=======
      "execution_count": null,
      "outputs": []
>>>>>>> d0225f87dd5f61b01aee083f057200a284d28fae
    }
  ],
  "metadata": {
    "colab": {
      "include_colab_link": true,
      "name": "Deep Learning ",
      "provenance": []
    },
    "interpreter": {
      "hash": "82ed002fa2d4956f5c6aec99bcefe0f73a9f79882f3c9e2319b14958a5896ac5"
    },
    "kernelspec": {
      "display_name": "Python 3.9.5 64-bit",
      "language": "python",
      "name": "python3"
    },
    "language_info": {
      "codemirror_mode": {
        "name": "ipython",
        "version": 3
      },
      "file_extension": ".py",
      "mimetype": "text/x-python",
      "name": "python",
      "nbconvert_exporter": "python",
      "pygments_lexer": "ipython3",
      "version": "3.9.5"
    }
  },
  "nbformat": 4,
  "nbformat_minor": 0
}
